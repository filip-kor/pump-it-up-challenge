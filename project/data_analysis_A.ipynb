{
 "cells": [
  {
   "cell_type": "code",
   "execution_count": 77,
   "metadata": {},
   "outputs": [],
   "source": [
    "# Import dependencies\n",
    "import pandas as pd\n",
    "import numpy as np\n",
    "import seaborn as sns\n",
    "from matplotlib import pyplot as plt"
   ]
  },
  {
   "cell_type": "code",
   "execution_count": 78,
   "metadata": {},
   "outputs": [],
   "source": [
    "# Load dataset\n",
    "\n",
    "train = pd.read_csv(\"data/train/features.csv\")\n",
    "trainLabels = pd.read_csv(\"data/train/labels.csv\")\n",
    "test = pd.read_csv(\"data/test/test.csv\")"
   ]
  },
  {
   "cell_type": "code",
   "execution_count": 86,
   "metadata": {},
   "outputs": [],
   "source": [
    "# Missing values per column\n",
    "\n",
    "train_nasum = train.isnull().sum()\n",
    "train_zsum = (train.eq(0)).sum(axis=0)\n",
    "test_nasum = test.isnull().sum()\n",
    "test_zsum = (test.eq(0)).sum(axis=0)\n",
    "\n",
    "\n",
    "tsum = train_nasum.add(train_zsum)\n",
    "tsum = tsum.add(test_nasum)\n",
    "tsum = tsum.add(test_zsum)\n",
    "\n",
    "#print(tsum)"
   ]
  },
  {
   "cell_type": "code",
   "execution_count": 87,
   "metadata": {},
   "outputs": [],
   "source": [
    "# sns.set(rc={'figure.figsize':(11.7,8.27)})\n",
    "# plt.xticks(rotation=45)\n",
    "\n",
    "# p = sns.barplot(x=tsum.keys(), y=tsum)\n",
    "\n",
    "# p.set_yscale(\"log\")\n",
    "\n",
    "# ticks = [1, 10, 100, 1000, 10000, 100000]\n",
    "# p.set_yticks(ticks)\n",
    "# p.set_yticklabels(ticks)\n",
    "# p.set_xticklabels(p.get_xticklabels(), \n",
    "#                           rotation=45, \n",
    "#                           horizontalalignment='right')"
   ]
  },
  {
   "cell_type": "code",
   "execution_count": 81,
   "metadata": {},
   "outputs": [
    {
     "name": "stdout",
     "output_type": "stream",
     "text": [
      "1898\n"
     ]
    }
   ],
   "source": [
    "# column_types = dict.fromkeys(train_features.columns)\n",
    "\n",
    "# column_types[\"id\"] = \"numerical\"\n",
    "# column_types[\"amount_tsh\"] = \"numerical\"\n",
    "# column_types[\"date\"] = \"date\"\n",
    "# column_types\n",
    "\n",
    "\n",
    "\n"
   ]
  }
 ],
 "metadata": {
  "kernelspec": {
   "display_name": "base",
   "language": "python",
   "name": "python3"
  },
  "language_info": {
   "codemirror_mode": {
    "name": "ipython",
    "version": 3
   },
   "file_extension": ".py",
   "mimetype": "text/x-python",
   "name": "python",
   "nbconvert_exporter": "python",
   "pygments_lexer": "ipython3",
   "version": "3.9.13"
  },
  "orig_nbformat": 4
 },
 "nbformat": 4,
 "nbformat_minor": 2
}
