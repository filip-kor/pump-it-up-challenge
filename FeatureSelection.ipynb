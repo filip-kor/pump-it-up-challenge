{
 "cells": [
  {
   "attachments": {},
   "cell_type": "markdown",
   "metadata": {},
   "source": [
    "# Feature Selection & Dimensionality Reduction\n",
    "Try out different feature combinations, and PCA/LDA."
   ]
  },
  {
   "cell_type": "code",
   "execution_count": 10,
   "metadata": {},
   "outputs": [],
   "source": [
    "feature_selection_method = \"none\"\n",
    "# Possible: \"manual\", \"none\"\n",
    "\n",
    "dim_reduction_method = \"pca\"\n",
    "# Possible: \"pca\", \"lda\", \"none\""
   ]
  },
  {
   "cell_type": "code",
   "execution_count": 11,
   "metadata": {},
   "outputs": [],
   "source": [
    "import matplotlib.pyplot as plt\n",
    "import pandas as pd\n",
    "import seaborn as sns\n",
    "import numpy as np\n",
    "from sklearn.decomposition import PCA\n",
    "from sklearn.preprocessing import StandardScaler\n",
    "\n",
    "pd.set_option('display.max_columns', None)"
   ]
  },
  {
   "attachments": {},
   "cell_type": "markdown",
   "metadata": {},
   "source": [
    "### Load Data"
   ]
  },
  {
   "cell_type": "code",
   "execution_count": 12,
   "metadata": {},
   "outputs": [
    {
     "name": "stdout",
     "output_type": "stream",
     "text": [
      "Numerical Cols: ['id', 'Unnamed: 0', 'funder', 'installer', 'longitude', 'latitude', 'basin', 'region_code', 'public_meeting', 'extraction_type', 'extraction_type_class', 'payment_type', 'water_quality', 'quantity', 'source', 'waterpoint_type', 'gps_height', 'permit', 'scheme_management', 'population', 'recorded_age', 'amount_tsh_missing', 'season', 'region_district', 'authority_scheme']\n",
      "Non Numerical Cols: ['status_group_x', 'status_group_y']\n"
     ]
    }
   ],
   "source": [
    "train_preprocessed_df = pd.read_csv(\"final_df.csv\",  na_values = [0, '0'])\n",
    "train_preprocessed_df = train_preprocessed_df.drop('Unnamed: 0', axis=1)\n",
    "labels = pd.read_csv(\"project/data/train/labels.csv\")\n",
    "\n",
    "#test_df = pd.read_csv(\"project/data/test/test.csv\", parse_dates = ['date_recorded' ],  na_values = [0, '0'])\n",
    "\n",
    "# Merge features and labels files\n",
    "train_df = pd.merge(labels, train_preprocessed_df, on='id')\n",
    "\n",
    "# Numerical cols\n",
    "numerical_cols = train_df.select_dtypes(include='number').columns.tolist()\n",
    "categorical_cols = ['funder',\n",
    " 'installer',\n",
    " 'basin',\n",
    " 'region_code',\n",
    " 'extraction_type',\n",
    " 'extraction_type_class',\n",
    " 'payment_type',\n",
    " 'water_quality',\n",
    " 'quantity',\n",
    " 'source',\n",
    " 'waterpoint_type',\n",
    " 'scheme_management',\n",
    " 'season',\n",
    " 'region_district',\n",
    " 'authority_scheme',\n",
    " 'population_bins']\n",
    "non_numerical_cols = train_df.select_dtypes(exclude='number').columns.tolist()\n",
    "\n",
    "print(f\"Numerical Cols: {numerical_cols}\")\n",
    "print(f\"Encoded Categorical Cols: {non_numerical_cols}\")"
   ]
  },
  {
   "attachments": {},
   "cell_type": "markdown",
   "metadata": {},
   "source": [
    "## Feature Selection"
   ]
  },
  {
   "attachments": {},
   "cell_type": "markdown",
   "metadata": {},
   "source": [
    "### No Feature Selection\n",
    "Simply use all of the processed/engineered features."
   ]
  },
  {
   "cell_type": "code",
   "execution_count": 13,
   "metadata": {},
   "outputs": [],
   "source": [
    "if(feature_selection_method == \"none\"):\n",
    "    pass"
   ]
  },
  {
   "attachments": {},
   "cell_type": "markdown",
   "metadata": {},
   "source": [
    "### Manual Feature Selection\n",
    "BrendaLoznik drops these features:\n",
    "\n",
    "`'amount_tsh', 'date_recorded',  'extraction_type_group', 'lga', 'management', 'management_group', 'num_private', 'payment', 'source_class', 'source_type', 'quality_group', 'quantity_group', 'ward', 'waterpoint_type_group', 'wpt_name', 'scheme_name', 'subvillage', 'recorded_by', 'id', 'status_group'`"
   ]
  },
  {
   "cell_type": "code",
   "execution_count": 14,
   "metadata": {},
   "outputs": [],
   "source": [
    "if(feature_selection_method == \"manual\"):\n",
    "    features_to_drop = ['amount_tsh', 'date_recorded',  'extraction_type_group', 'lga', 'management', 'management_group',\n",
    "                        'num_private', 'payment', 'source_class', 'source_type', 'quality_group', 'quantity_group', 'ward',\n",
    "                        'waterpoint_type_group', 'wpt_name', 'scheme_name', 'subvillage', 'recorded_by', 'id', 'status_group']\n",
    "    train_df = train_df.drop(features_to_drop)"
   ]
  },
  {
   "attachments": {},
   "cell_type": "markdown",
   "metadata": {},
   "source": [
    "## Feature Normalisation"
   ]
  },
  {
   "attachments": {},
   "cell_type": "markdown",
   "metadata": {},
   "source": [
    "### Min-Max Scaling\n"
   ]
  },
  {
   "attachments": {},
   "cell_type": "markdown",
   "metadata": {},
   "source": [
    "### Z-score Normalisation"
   ]
  },
  {
   "attachments": {},
   "cell_type": "markdown",
   "metadata": {},
   "source": [
    "### Combined Scaling\n",
    "Manually combine Min-Max scaling, Z-score normalisation and Robust scaling on a feature-by-feature basis."
   ]
  },
  {
   "attachments": {},
   "cell_type": "markdown",
   "metadata": {},
   "source": [
    "## Dimensionality Reduction"
   ]
  },
  {
   "attachments": {},
   "cell_type": "markdown",
   "metadata": {},
   "source": [
    "### PCA"
   ]
  },
  {
   "cell_type": "code",
   "execution_count": 15,
   "metadata": {},
   "outputs": [
    {
     "ename": "IndentationError",
     "evalue": "expected an indented block (2393878603.py, line 2)",
     "output_type": "error",
     "traceback": [
      "\u001b[1;36m  File \u001b[1;32m\"C:\\Users\\adamw\\AppData\\Local\\Temp\\ipykernel_10936\\2393878603.py\"\u001b[1;36m, line \u001b[1;32m2\u001b[0m\n\u001b[1;33m    \u001b[0m\n\u001b[1;37m    ^\u001b[0m\n\u001b[1;31mIndentationError\u001b[0m\u001b[1;31m:\u001b[0m expected an indented block\n"
     ]
    }
   ],
   "source": [
    "if(dim_reduction_method==\"pca\"):\n",
    "    "
   ]
  }
 ],
 "metadata": {
  "kernelspec": {
   "display_name": "base",
   "language": "python",
   "name": "python3"
  },
  "language_info": {
   "codemirror_mode": {
    "name": "ipython",
    "version": 3
   },
   "file_extension": ".py",
   "mimetype": "text/x-python",
   "name": "python",
   "nbconvert_exporter": "python",
   "pygments_lexer": "ipython3",
   "version": "3.9.13"
  },
  "orig_nbformat": 4
 },
 "nbformat": 4,
 "nbformat_minor": 2
}
