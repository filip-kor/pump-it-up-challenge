{
 "cells": [
  {
   "attachments": {},
   "cell_type": "markdown",
   "metadata": {},
   "source": [
    "# Pump It Up - Preprocessing\n",
    "This notebook will describe the Pump it Up dataset, along with which data preprocessing/cleaning steps are required."
   ]
  },
  {
   "attachments": {},
   "cell_type": "markdown",
   "metadata": {},
   "source": [
    "Dataset Size: 59401 entries\n",
    "\n",
    "Num features: 40 features\n",
    "\n"
   ]
  },
  {
   "attachments": {},
   "cell_type": "markdown",
   "metadata": {},
   "source": [
    "- Age of the well against functionality "
   ]
  },
  {
   "cell_type": "code",
   "execution_count": 20,
   "metadata": {},
   "outputs": [],
   "source": [
    "import pandas as pd\n",
    "import seaborn as sns\n",
    "import matplotlib.pyplot as plt\n",
    "import matplotlib.dates as mdates\n",
    "\n",
    "df_test = pd.read_csv(\"data/test/test.csv\")\n",
    "df_train = pd.read_csv(\"data/train/features.csv\")\n",
    "df_train_labels = pd.read_csv(\"data/train/labels.csv\")\n",
    "\n",
    "\n",
    "\n",
    "\n"
   ]
  },
  {
   "cell_type": "code",
   "execution_count": 12,
   "metadata": {},
   "outputs": [
    {
     "data": {
      "text/plain": [
       "0       0.987256\n",
       "6       0.001364\n",
       "1       0.001229\n",
       "5       0.000774\n",
       "8       0.000774\n",
       "          ...   \n",
       "42      0.000017\n",
       "23      0.000017\n",
       "136     0.000017\n",
       "698     0.000017\n",
       "1402    0.000017\n",
       "Name: num_private, Length: 65, dtype: float64"
      ]
     },
     "execution_count": 12,
     "metadata": {},
     "output_type": "execute_result"
    }
   ],
   "source": [
    "df_train[\"num_private\"].value_counts(normalize=True)\n"
   ]
  },
  {
   "cell_type": "code",
   "execution_count": 21,
   "metadata": {},
   "outputs": [
    {
     "name": "stdout",
     "output_type": "stream",
     "text": [
      "11974.0\n",
      "16042.0\n"
     ]
    },
    {
     "data": {
      "image/png": "[encoded data removed]",
      "text/plain": [
       "<Figure size 640x480 with 1 Axes>"
      ]
     },
     "metadata": {},
     "output_type": "display_data"
    }
   ],
   "source": [
    "# Find distribution of date_recorded\n",
    "\n",
    "df_train[\"date_recorded\"] = pd.to_datetime(df_train[\"date_recorded\"])\n",
    "\n",
    "df_train[\"date_recorded\"] = (df_train[\"date_recorded\"] - pd.Timestamp(\"1970-01-01\")) / pd.Timedelta(days=1)\n",
    "\n",
    "print(df_train[\"date_recorded\"].min())\n",
    "print(df_train[\"date_recorded\"].max())\n",
    "\n",
    "sns.boxplot(x=df_train[\"date_recorded\"])\n",
    "plt.show()"
   ]
  },
  {
   "attachments": {},
   "cell_type": "markdown",
   "metadata": {},
   "source": [
    "| Column | Description | Cleaning needed? |\n",
    "| --- | --- | --- |\n",
    "| id | Pump ID | Missing ID values, max ID exceeds number of entries. Best to disregard ID and use own IDs |\n",
    "| amount_tsh | Total Static Head (water available to pump) | 70% of values are 0 - column can potentially be dropped |\n",
    "| date_recorded | Date row was entered | Some potential outlier values with recorded dates much earlier than others - these could likely be replaced with median value |\n",
    "| funder | Who funded the well | Some missing values, some non-matching entries (ie. \"Government of Tanzania\" and \"Government/ Community\"). |\n",
    "| num_private | Unclear | 98.7% of data is 0, column can be safely dropped |\n",
    "\n",
    "\n"
   ]
  }
 ],
 "metadata": {
  "kernelspec": {
   "display_name": "base",
   "language": "python",
   "name": "python3"
  },
  "language_info": {
   "codemirror_mode": {
    "name": "ipython",
    "version": 3
   },
   "file_extension": ".py",
   "mimetype": "text/x-python",
   "name": "python",
   "nbconvert_exporter": "python",
   "pygments_lexer": "ipython3",
   "version": "3.9.13"
  },
  "orig_nbformat": 4
 },
 "nbformat": 4,
 "nbformat_minor": 2
}
