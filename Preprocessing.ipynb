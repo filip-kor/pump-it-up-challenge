{
 "cells": [
  {
   "attachments": {},
   "cell_type": "markdown",
   "metadata": {},
   "source": [
    "# Switches"
   ]
  },
  {
   "cell_type": "code",
   "execution_count": 1027,
   "metadata": {},
   "outputs": [],
   "source": [
    "sw_impute_latitude = False\n",
    "sw_population_bins = True\n",
    "sw_data_leakage = True"
   ]
  },
  {
   "cell_type": "code",
   "execution_count": 1028,
   "metadata": {},
   "outputs": [],
   "source": [
    "def distribution_checker (data, xlabel):\n",
    "  grouped = data.groupby([xlabel, 'status_group'])['id'].count().reset_index()\n",
    "  pivot = grouped.pivot_table(index = xlabel, columns = 'status_group', fill_value = 0)\n",
    "  mi=pivot.columns\n",
    "  mi.tolist()\n",
    "  ind = pd.Index([ str(e[1])  for e in mi.tolist()])\n",
    "  pivot.columns = ind\n",
    "  pivot['nr_pumps'] = pivot['functional'] +pivot['functional needs repair'] +pivot['non functional']\n",
    "  pivot['all_pumps'] = pivot['nr_pumps'].sum()\n",
    "  pivot['perc_total_pumps'] =((pivot['nr_pumps']/pivot['all_pumps'])*100).round(1)\n",
    "  pivot['perc_functional'] = ((pivot['functional']/pivot['nr_pumps'])*100).round(1)\n",
    "  pivot['perc_non_functional'] = ((pivot['non functional']/pivot['nr_pumps'])*100).round(1)\n",
    "  pivot['perc_functional_needs_repair'] = ((pivot['functional needs repair']/pivot['nr_pumps'])*100).round(1)\n",
    "  pivot = pivot.drop(['functional', 'functional needs repair', 'non functional', 'all_pumps'], axis=1)\n",
    "  return(pivot)"
   ]
  },
  {
   "attachments": {},
   "cell_type": "markdown",
   "metadata": {},
   "source": [
    "# Data Preprocessing\n",
    "\n",
    "Includes imputation and deletion of bad features."
   ]
  },
  {
   "attachments": {},
   "cell_type": "markdown",
   "metadata": {},
   "source": [
    "### Import Dependencies"
   ]
  },
  {
   "cell_type": "code",
   "execution_count": 1029,
   "metadata": {},
   "outputs": [],
   "source": [
    "import matplotlib.pyplot as plt\n",
    "import pandas as pd\n",
    "import seaborn as sns\n",
    "import numpy as np\n",
    "\n",
    "from sklearn.preprocessing import LabelEncoder\n",
    "\n",
    "pd.set_option('display.max_columns', None)"
   ]
  },
  {
   "attachments": {},
   "cell_type": "markdown",
   "metadata": {},
   "source": [
    "### Load Data"
   ]
  },
  {
   "cell_type": "code",
   "execution_count": 1030,
   "metadata": {},
   "outputs": [
    {
     "name": "stdout",
     "output_type": "stream",
     "text": [
      "Numerical columns: \n",
      " ['id', 'amount_tsh', 'gps_height', 'longitude', 'latitude', 'num_private', 'region_code', 'district_code', 'population', 'construction_year']\n"
     ]
    }
   ],
   "source": [
    "train_base_df = pd.read_csv(\"project/data/train/features.csv\", parse_dates = ['date_recorded' ],  na_values = [0, '0'])\n",
    "labels = pd.read_csv(\"project/data/train/labels.csv\")\n",
    "\n",
    "test_df = pd.read_csv(\"project/data/test/test.csv\", parse_dates = ['date_recorded' ],  na_values = [0, '0'])\n",
    "\n",
    "# Merge features and labels files\n",
    "train_df = pd.merge(labels, train_base_df, on='id')\n",
    "\n",
    "print(\"Numerical columns: \\n\", train_df.select_dtypes(include=np.number).columns.tolist())\n",
    "\n",
    "# Introducing: DATA LEAKAGE\n",
    "if sw_data_leakage:\n",
    "    train_df = pd.concat([train_df, test_df])"
   ]
  },
  {
   "cell_type": "code",
   "execution_count": 1031,
   "metadata": {},
   "outputs": [
    {
     "data": {
      "text/html": [
       "<div>\n",
       "<style scoped>\n",
       "    .dataframe tbody tr th:only-of-type {\n",
       "        vertical-align: middle;\n",
       "    }\n",
       "\n",
       "    .dataframe tbody tr th {\n",
       "        vertical-align: top;\n",
       "    }\n",
       "\n",
       "    .dataframe thead th {\n",
       "        text-align: right;\n",
       "    }\n",
       "</style>\n",
       "<table border=\"1\" class=\"dataframe\">\n",
       "  <thead>\n",
       "    <tr style=\"text-align: right;\">\n",
       "      <th></th>\n",
       "      <th>id</th>\n",
       "      <th>status_group</th>\n",
       "      <th>amount_tsh</th>\n",
       "      <th>date_recorded</th>\n",
       "      <th>funder</th>\n",
       "      <th>gps_height</th>\n",
       "      <th>installer</th>\n",
       "      <th>longitude</th>\n",
       "      <th>latitude</th>\n",
       "      <th>wpt_name</th>\n",
       "      <th>num_private</th>\n",
       "      <th>basin</th>\n",
       "      <th>subvillage</th>\n",
       "      <th>region</th>\n",
       "      <th>region_code</th>\n",
       "      <th>district_code</th>\n",
       "      <th>lga</th>\n",
       "      <th>ward</th>\n",
       "      <th>population</th>\n",
       "      <th>public_meeting</th>\n",
       "      <th>recorded_by</th>\n",
       "      <th>scheme_management</th>\n",
       "      <th>scheme_name</th>\n",
       "      <th>permit</th>\n",
       "      <th>construction_year</th>\n",
       "      <th>extraction_type</th>\n",
       "      <th>extraction_type_group</th>\n",
       "      <th>extraction_type_class</th>\n",
       "      <th>management</th>\n",
       "      <th>management_group</th>\n",
       "      <th>payment</th>\n",
       "      <th>payment_type</th>\n",
       "      <th>water_quality</th>\n",
       "      <th>quality_group</th>\n",
       "      <th>quantity</th>\n",
       "      <th>quantity_group</th>\n",
       "      <th>source</th>\n",
       "      <th>source_type</th>\n",
       "      <th>source_class</th>\n",
       "      <th>waterpoint_type</th>\n",
       "      <th>waterpoint_type_group</th>\n",
       "    </tr>\n",
       "  </thead>\n",
       "  <tbody>\n",
       "    <tr>\n",
       "      <th>0</th>\n",
       "      <td>69572</td>\n",
       "      <td>functional</td>\n",
       "      <td>6000.0</td>\n",
       "      <td>2011-03-14</td>\n",
       "      <td>Roman</td>\n",
       "      <td>1390.0</td>\n",
       "      <td>Roman</td>\n",
       "      <td>34.938093</td>\n",
       "      <td>-9.856322</td>\n",
       "      <td>none</td>\n",
       "      <td>NaN</td>\n",
       "      <td>Lake Nyasa</td>\n",
       "      <td>Mnyusi B</td>\n",
       "      <td>Iringa</td>\n",
       "      <td>11</td>\n",
       "      <td>5.0</td>\n",
       "      <td>Ludewa</td>\n",
       "      <td>Mundindi</td>\n",
       "      <td>109.0</td>\n",
       "      <td>True</td>\n",
       "      <td>GeoData Consultants Ltd</td>\n",
       "      <td>VWC</td>\n",
       "      <td>Roman</td>\n",
       "      <td>False</td>\n",
       "      <td>1999.0</td>\n",
       "      <td>gravity</td>\n",
       "      <td>gravity</td>\n",
       "      <td>gravity</td>\n",
       "      <td>vwc</td>\n",
       "      <td>user-group</td>\n",
       "      <td>pay annually</td>\n",
       "      <td>annually</td>\n",
       "      <td>soft</td>\n",
       "      <td>good</td>\n",
       "      <td>enough</td>\n",
       "      <td>enough</td>\n",
       "      <td>spring</td>\n",
       "      <td>spring</td>\n",
       "      <td>groundwater</td>\n",
       "      <td>communal standpipe</td>\n",
       "      <td>communal standpipe</td>\n",
       "    </tr>\n",
       "    <tr>\n",
       "      <th>1</th>\n",
       "      <td>8776</td>\n",
       "      <td>functional</td>\n",
       "      <td>NaN</td>\n",
       "      <td>2013-03-06</td>\n",
       "      <td>Grumeti</td>\n",
       "      <td>1399.0</td>\n",
       "      <td>GRUMETI</td>\n",
       "      <td>34.698766</td>\n",
       "      <td>-2.147466</td>\n",
       "      <td>Zahanati</td>\n",
       "      <td>NaN</td>\n",
       "      <td>Lake Victoria</td>\n",
       "      <td>Nyamara</td>\n",
       "      <td>Mara</td>\n",
       "      <td>20</td>\n",
       "      <td>2.0</td>\n",
       "      <td>Serengeti</td>\n",
       "      <td>Natta</td>\n",
       "      <td>280.0</td>\n",
       "      <td>NaN</td>\n",
       "      <td>GeoData Consultants Ltd</td>\n",
       "      <td>Other</td>\n",
       "      <td>NaN</td>\n",
       "      <td>True</td>\n",
       "      <td>2010.0</td>\n",
       "      <td>gravity</td>\n",
       "      <td>gravity</td>\n",
       "      <td>gravity</td>\n",
       "      <td>wug</td>\n",
       "      <td>user-group</td>\n",
       "      <td>never pay</td>\n",
       "      <td>never pay</td>\n",
       "      <td>soft</td>\n",
       "      <td>good</td>\n",
       "      <td>insufficient</td>\n",
       "      <td>insufficient</td>\n",
       "      <td>rainwater harvesting</td>\n",
       "      <td>rainwater harvesting</td>\n",
       "      <td>surface</td>\n",
       "      <td>communal standpipe</td>\n",
       "      <td>communal standpipe</td>\n",
       "    </tr>\n",
       "    <tr>\n",
       "      <th>2</th>\n",
       "      <td>34310</td>\n",
       "      <td>functional</td>\n",
       "      <td>25.0</td>\n",
       "      <td>2013-02-25</td>\n",
       "      <td>Lottery Club</td>\n",
       "      <td>686.0</td>\n",
       "      <td>World vision</td>\n",
       "      <td>37.460664</td>\n",
       "      <td>-3.821329</td>\n",
       "      <td>Kwa Mahundi</td>\n",
       "      <td>NaN</td>\n",
       "      <td>Pangani</td>\n",
       "      <td>Majengo</td>\n",
       "      <td>Manyara</td>\n",
       "      <td>21</td>\n",
       "      <td>4.0</td>\n",
       "      <td>Simanjiro</td>\n",
       "      <td>Ngorika</td>\n",
       "      <td>250.0</td>\n",
       "      <td>True</td>\n",
       "      <td>GeoData Consultants Ltd</td>\n",
       "      <td>VWC</td>\n",
       "      <td>Nyumba ya mungu pipe scheme</td>\n",
       "      <td>True</td>\n",
       "      <td>2009.0</td>\n",
       "      <td>gravity</td>\n",
       "      <td>gravity</td>\n",
       "      <td>gravity</td>\n",
       "      <td>vwc</td>\n",
       "      <td>user-group</td>\n",
       "      <td>pay per bucket</td>\n",
       "      <td>per bucket</td>\n",
       "      <td>soft</td>\n",
       "      <td>good</td>\n",
       "      <td>enough</td>\n",
       "      <td>enough</td>\n",
       "      <td>dam</td>\n",
       "      <td>dam</td>\n",
       "      <td>surface</td>\n",
       "      <td>communal standpipe multiple</td>\n",
       "      <td>communal standpipe</td>\n",
       "    </tr>\n",
       "    <tr>\n",
       "      <th>3</th>\n",
       "      <td>67743</td>\n",
       "      <td>non functional</td>\n",
       "      <td>NaN</td>\n",
       "      <td>2013-01-28</td>\n",
       "      <td>Unicef</td>\n",
       "      <td>263.0</td>\n",
       "      <td>UNICEF</td>\n",
       "      <td>38.486161</td>\n",
       "      <td>-11.155298</td>\n",
       "      <td>Zahanati Ya Nanyumbu</td>\n",
       "      <td>NaN</td>\n",
       "      <td>Ruvuma / Southern Coast</td>\n",
       "      <td>Mahakamani</td>\n",
       "      <td>Mtwara</td>\n",
       "      <td>90</td>\n",
       "      <td>63.0</td>\n",
       "      <td>Nanyumbu</td>\n",
       "      <td>Nanyumbu</td>\n",
       "      <td>58.0</td>\n",
       "      <td>True</td>\n",
       "      <td>GeoData Consultants Ltd</td>\n",
       "      <td>VWC</td>\n",
       "      <td>NaN</td>\n",
       "      <td>True</td>\n",
       "      <td>1986.0</td>\n",
       "      <td>submersible</td>\n",
       "      <td>submersible</td>\n",
       "      <td>submersible</td>\n",
       "      <td>vwc</td>\n",
       "      <td>user-group</td>\n",
       "      <td>never pay</td>\n",
       "      <td>never pay</td>\n",
       "      <td>soft</td>\n",
       "      <td>good</td>\n",
       "      <td>dry</td>\n",
       "      <td>dry</td>\n",
       "      <td>machine dbh</td>\n",
       "      <td>borehole</td>\n",
       "      <td>groundwater</td>\n",
       "      <td>communal standpipe multiple</td>\n",
       "      <td>communal standpipe</td>\n",
       "    </tr>\n",
       "    <tr>\n",
       "      <th>4</th>\n",
       "      <td>19728</td>\n",
       "      <td>functional</td>\n",
       "      <td>NaN</td>\n",
       "      <td>2011-07-13</td>\n",
       "      <td>Action In A</td>\n",
       "      <td>NaN</td>\n",
       "      <td>Artisan</td>\n",
       "      <td>31.130847</td>\n",
       "      <td>-1.825359</td>\n",
       "      <td>Shuleni</td>\n",
       "      <td>NaN</td>\n",
       "      <td>Lake Victoria</td>\n",
       "      <td>Kyanyamisa</td>\n",
       "      <td>Kagera</td>\n",
       "      <td>18</td>\n",
       "      <td>1.0</td>\n",
       "      <td>Karagwe</td>\n",
       "      <td>Nyakasimbi</td>\n",
       "      <td>NaN</td>\n",
       "      <td>True</td>\n",
       "      <td>GeoData Consultants Ltd</td>\n",
       "      <td>NaN</td>\n",
       "      <td>NaN</td>\n",
       "      <td>True</td>\n",
       "      <td>NaN</td>\n",
       "      <td>gravity</td>\n",
       "      <td>gravity</td>\n",
       "      <td>gravity</td>\n",
       "      <td>other</td>\n",
       "      <td>other</td>\n",
       "      <td>never pay</td>\n",
       "      <td>never pay</td>\n",
       "      <td>soft</td>\n",
       "      <td>good</td>\n",
       "      <td>seasonal</td>\n",
       "      <td>seasonal</td>\n",
       "      <td>rainwater harvesting</td>\n",
       "      <td>rainwater harvesting</td>\n",
       "      <td>surface</td>\n",
       "      <td>communal standpipe</td>\n",
       "      <td>communal standpipe</td>\n",
       "    </tr>\n",
       "  </tbody>\n",
       "</table>\n",
       "</div>"
      ],
      "text/plain": [
       "      id    status_group  amount_tsh date_recorded        funder  gps_height  \\\n",
       "0  69572      functional      6000.0    2011-03-14         Roman      1390.0   \n",
       "1   8776      functional         NaN    2013-03-06       Grumeti      1399.0   \n",
       "2  34310      functional        25.0    2013-02-25  Lottery Club       686.0   \n",
       "3  67743  non functional         NaN    2013-01-28        Unicef       263.0   \n",
       "4  19728      functional         NaN    2011-07-13   Action In A         NaN   \n",
       "\n",
       "      installer  longitude   latitude              wpt_name  num_private  \\\n",
       "0         Roman  34.938093  -9.856322                  none          NaN   \n",
       "1       GRUMETI  34.698766  -2.147466              Zahanati          NaN   \n",
       "2  World vision  37.460664  -3.821329           Kwa Mahundi          NaN   \n",
       "3        UNICEF  38.486161 -11.155298  Zahanati Ya Nanyumbu          NaN   \n",
       "4       Artisan  31.130847  -1.825359               Shuleni          NaN   \n",
       "\n",
       "                     basin  subvillage   region  region_code  district_code  \\\n",
       "0               Lake Nyasa    Mnyusi B   Iringa           11            5.0   \n",
       "1            Lake Victoria     Nyamara     Mara           20            2.0   \n",
       "2                  Pangani     Majengo  Manyara           21            4.0   \n",
       "3  Ruvuma / Southern Coast  Mahakamani   Mtwara           90           63.0   \n",
       "4            Lake Victoria  Kyanyamisa   Kagera           18            1.0   \n",
       "\n",
       "         lga        ward  population public_meeting              recorded_by  \\\n",
       "0     Ludewa    Mundindi       109.0           True  GeoData Consultants Ltd   \n",
       "1  Serengeti       Natta       280.0            NaN  GeoData Consultants Ltd   \n",
       "2  Simanjiro     Ngorika       250.0           True  GeoData Consultants Ltd   \n",
       "3   Nanyumbu    Nanyumbu        58.0           True  GeoData Consultants Ltd   \n",
       "4    Karagwe  Nyakasimbi         NaN           True  GeoData Consultants Ltd   \n",
       "\n",
       "  scheme_management                  scheme_name permit  construction_year  \\\n",
       "0               VWC                        Roman  False             1999.0   \n",
       "1             Other                          NaN   True             2010.0   \n",
       "2               VWC  Nyumba ya mungu pipe scheme   True             2009.0   \n",
       "3               VWC                          NaN   True             1986.0   \n",
       "4               NaN                          NaN   True                NaN   \n",
       "\n",
       "  extraction_type extraction_type_group extraction_type_class management  \\\n",
       "0         gravity               gravity               gravity        vwc   \n",
       "1         gravity               gravity               gravity        wug   \n",
       "2         gravity               gravity               gravity        vwc   \n",
       "3     submersible           submersible           submersible        vwc   \n",
       "4         gravity               gravity               gravity      other   \n",
       "\n",
       "  management_group         payment payment_type water_quality quality_group  \\\n",
       "0       user-group    pay annually     annually          soft          good   \n",
       "1       user-group       never pay    never pay          soft          good   \n",
       "2       user-group  pay per bucket   per bucket          soft          good   \n",
       "3       user-group       never pay    never pay          soft          good   \n",
       "4            other       never pay    never pay          soft          good   \n",
       "\n",
       "       quantity quantity_group                source           source_type  \\\n",
       "0        enough         enough                spring                spring   \n",
       "1  insufficient   insufficient  rainwater harvesting  rainwater harvesting   \n",
       "2        enough         enough                   dam                   dam   \n",
       "3           dry            dry           machine dbh              borehole   \n",
       "4      seasonal       seasonal  rainwater harvesting  rainwater harvesting   \n",
       "\n",
       "  source_class              waterpoint_type waterpoint_type_group  \n",
       "0  groundwater           communal standpipe    communal standpipe  \n",
       "1      surface           communal standpipe    communal standpipe  \n",
       "2      surface  communal standpipe multiple    communal standpipe  \n",
       "3  groundwater  communal standpipe multiple    communal standpipe  \n",
       "4      surface           communal standpipe    communal standpipe  "
      ]
     },
     "execution_count": 1031,
     "metadata": {},
     "output_type": "execute_result"
    }
   ],
   "source": [
    "train_df.head(5)"
   ]
  },
  {
   "attachments": {},
   "cell_type": "markdown",
   "metadata": {},
   "source": [
    "## 1. Data Imputation"
   ]
  },
  {
   "cell_type": "code",
   "execution_count": 1032,
   "metadata": {},
   "outputs": [
    {
     "data": {
      "text/plain": [
       "num_private          98.7\n",
       "amount_tsh           70.1\n",
       "scheme_name          47.5\n",
       "population           36.1\n",
       "construction_year    35.0\n",
       "gps_height           34.5\n",
       "status_group         20.0\n",
       "installer             7.4\n",
       "funder                7.4\n",
       "scheme_management     6.5\n",
       "public_meeting        5.6\n",
       "permit                5.1\n",
       "longitude             3.1\n",
       "subvillage            0.6\n",
       "payment_type          0.0\n",
       "dtype: float64"
      ]
     },
     "execution_count": 1032,
     "metadata": {},
     "output_type": "execute_result"
    }
   ],
   "source": [
    "missing = round((train_df.isna().sum())/len(train_df)*100,1)\n",
    "missing = missing.sort_values(ascending = False)\n",
    "missing.head(15)"
   ]
  },
  {
   "attachments": {},
   "cell_type": "markdown",
   "metadata": {},
   "source": [
    "### Latitude and Longitude Imputation\n",
    "0 values are replaced by subvillage, ward, lga, or region's mean logitude and latitude values for each column. \n",
    "\n",
    "Solution by BrendaLoznik"
   ]
  },
  {
   "cell_type": "code",
   "execution_count": 1033,
   "metadata": {},
   "outputs": [
    {
     "data": {
      "text/plain": [
       "2269"
      ]
     },
     "execution_count": 1033,
     "metadata": {},
     "output_type": "execute_result"
    }
   ],
   "source": [
    "train_df['longitude'].isna().sum()"
   ]
  },
  {
   "cell_type": "code",
   "execution_count": 1034,
   "metadata": {},
   "outputs": [
    {
     "data": {
      "text/html": [
       "<div>\n",
       "<style scoped>\n",
       "    .dataframe tbody tr th:only-of-type {\n",
       "        vertical-align: middle;\n",
       "    }\n",
       "\n",
       "    .dataframe tbody tr th {\n",
       "        vertical-align: top;\n",
       "    }\n",
       "\n",
       "    .dataframe thead th {\n",
       "        text-align: right;\n",
       "    }\n",
       "</style>\n",
       "<table border=\"1\" class=\"dataframe\">\n",
       "  <thead>\n",
       "    <tr style=\"text-align: right;\">\n",
       "      <th></th>\n",
       "      <th>region</th>\n",
       "      <th>longitude_imputed_region</th>\n",
       "    </tr>\n",
       "  </thead>\n",
       "  <tbody>\n",
       "    <tr>\n",
       "      <th>0</th>\n",
       "      <td>Arusha</td>\n",
       "      <td>36.554067</td>\n",
       "    </tr>\n",
       "    <tr>\n",
       "      <th>1</th>\n",
       "      <td>Dar es Salaam</td>\n",
       "      <td>39.212935</td>\n",
       "    </tr>\n",
       "    <tr>\n",
       "      <th>2</th>\n",
       "      <td>Dodoma</td>\n",
       "      <td>36.041964</td>\n",
       "    </tr>\n",
       "    <tr>\n",
       "      <th>3</th>\n",
       "      <td>Iringa</td>\n",
       "      <td>34.895921</td>\n",
       "    </tr>\n",
       "    <tr>\n",
       "      <th>4</th>\n",
       "      <td>Kagera</td>\n",
       "      <td>31.233092</td>\n",
       "    </tr>\n",
       "  </tbody>\n",
       "</table>\n",
       "</div>"
      ],
      "text/plain": [
       "          region  longitude_imputed_region\n",
       "0         Arusha                 36.554067\n",
       "1  Dar es Salaam                 39.212935\n",
       "2         Dodoma                 36.041964\n",
       "3         Iringa                 34.895921\n",
       "4         Kagera                 31.233092"
      ]
     },
     "execution_count": 1034,
     "metadata": {},
     "output_type": "execute_result"
    }
   ],
   "source": [
    "# train_df['longitude'].replace(0, np.nan, inplace=True)\n",
    "#create mean longitude on the lowest granularity level (subvillage)\n",
    "means_longitude_subvillage = train_df.groupby(['region', 'lga', 'ward', 'subvillage'])['longitude'].mean().reset_index()\n",
    "means_longitude_subvillage = means_longitude_subvillage.rename(columns={\"longitude\": \"longitude_imputed_subvillage\"})\n",
    "\n",
    "#ward level\n",
    "means_longitude_ward = train_df.groupby(['region', 'lga', 'ward',])['longitude'].mean().reset_index()\n",
    "means_longitude_ward = means_longitude_ward.rename(columns={\"longitude\": \"longitude_imputed_ward\"})\n",
    "\n",
    "#lga level\n",
    "means_longitude_lga = train_df.groupby(['region', 'lga'])['longitude'].mean().reset_index()\n",
    "means_longitude_lga = means_longitude_lga .rename(columns={\"longitude\": \"longitude_imputed_lga\"})\n",
    "\n",
    "#region level\n",
    "means_longitude_region = train_df.groupby(['region'])['longitude'].mean().reset_index()\n",
    "means_longitude_region = means_longitude_region.rename(columns={\"longitude\": \"longitude_imputed_region\"})\n",
    "means_longitude_region.head()"
   ]
  },
  {
   "cell_type": "code",
   "execution_count": 1035,
   "metadata": {},
   "outputs": [],
   "source": [
    "#merge the aggregated dataframes as new columns to the original df\n",
    "train_df= train_df.merge(means_longitude_subvillage, how = 'left', on = ['region', 'lga', 'ward', 'subvillage'])\n",
    "train_df= train_df.merge(means_longitude_ward, how = 'left', on = ['region', 'lga', 'ward'])\n",
    "train_df = train_df.merge(means_longitude_lga, how = 'left', on = ['region', 'lga'])\n",
    "train_df = train_df.merge(means_longitude_region, how = 'left', on = ['region'])\n",
    "\n",
    "#select the right longitude level based on the availability of information\n",
    "train_df['imputed_longitude'] = np.where(train_df['longitude'].isna(), train_df['longitude_imputed_subvillage'], train_df['longitude']) #if longitude is missing, impute it by the mean of the subvillage\n",
    "train_df['imputed_longitude'] = np.where(train_df['imputed_longitude'].isna(), train_df['longitude_imputed_ward'], train_df['imputed_longitude']) #if subvillage mean is missing, impute it by the ward\n",
    "train_df['imputed_longitude'] = np.where(train_df['imputed_longitude'].isna(), train_df['longitude_imputed_lga'], train_df['imputed_longitude'])\n",
    "train_df['imputed_longitude'] = np.where(train_df['imputed_longitude'].isna(), train_df['longitude_imputed_region'], train_df['imputed_longitude'])\n",
    "\n",
    "#drop redundant columns\n",
    "train_df= train_df.drop(['longitude_imputed_subvillage','longitude_imputed_ward' , 'longitude_imputed_lga' , 'longitude_imputed_region', 'longitude'], axis=1)"
   ]
  },
  {
   "cell_type": "code",
   "execution_count": 1036,
   "metadata": {},
   "outputs": [
    {
     "data": {
      "text/plain": [
       "0"
      ]
     },
     "execution_count": 1036,
     "metadata": {},
     "output_type": "execute_result"
    }
   ],
   "source": [
    "train_df['imputed_longitude'].isna().sum()"
   ]
  },
  {
   "cell_type": "code",
   "execution_count": 1037,
   "metadata": {},
   "outputs": [],
   "source": [
    "df = train_df.copy()"
   ]
  },
  {
   "cell_type": "code",
   "execution_count": 1038,
   "metadata": {},
   "outputs": [
    {
     "data": {
      "text/plain": [
       "2269"
      ]
     },
     "execution_count": 1038,
     "metadata": {},
     "output_type": "execute_result"
    }
   ],
   "source": [
    "df['latitude'].where(df[\"latitude\"] <= -0.5, np.nan, inplace=True)\n",
    "df['latitude'].isna().sum()"
   ]
  },
  {
   "cell_type": "code",
   "execution_count": 1039,
   "metadata": {},
   "outputs": [
    {
     "data": {
      "text/html": [
       "<div>\n",
       "<style scoped>\n",
       "    .dataframe tbody tr th:only-of-type {\n",
       "        vertical-align: middle;\n",
       "    }\n",
       "\n",
       "    .dataframe tbody tr th {\n",
       "        vertical-align: top;\n",
       "    }\n",
       "\n",
       "    .dataframe thead th {\n",
       "        text-align: right;\n",
       "    }\n",
       "</style>\n",
       "<table border=\"1\" class=\"dataframe\">\n",
       "  <thead>\n",
       "    <tr style=\"text-align: right;\">\n",
       "      <th></th>\n",
       "      <th>region</th>\n",
       "      <th>latitude_imputed_region</th>\n",
       "    </tr>\n",
       "  </thead>\n",
       "  <tbody>\n",
       "    <tr>\n",
       "      <th>0</th>\n",
       "      <td>Arusha</td>\n",
       "      <td>-3.245240</td>\n",
       "    </tr>\n",
       "    <tr>\n",
       "      <th>1</th>\n",
       "      <td>Dar es Salaam</td>\n",
       "      <td>-6.908390</td>\n",
       "    </tr>\n",
       "    <tr>\n",
       "      <th>2</th>\n",
       "      <td>Dodoma</td>\n",
       "      <td>-5.940758</td>\n",
       "    </tr>\n",
       "    <tr>\n",
       "      <th>3</th>\n",
       "      <td>Iringa</td>\n",
       "      <td>-8.908507</td>\n",
       "    </tr>\n",
       "    <tr>\n",
       "      <th>4</th>\n",
       "      <td>Kagera</td>\n",
       "      <td>-1.960664</td>\n",
       "    </tr>\n",
       "  </tbody>\n",
       "</table>\n",
       "</div>"
      ],
      "text/plain": [
       "          region  latitude_imputed_region\n",
       "0         Arusha                -3.245240\n",
       "1  Dar es Salaam                -6.908390\n",
       "2         Dodoma                -5.940758\n",
       "3         Iringa                -8.908507\n",
       "4         Kagera                -1.960664"
      ]
     },
     "execution_count": 1039,
     "metadata": {},
     "output_type": "execute_result"
    }
   ],
   "source": [
    "#create mean latitude on the lowest granularity level (subvillage)\n",
    "means_latitude_subvillage = df.groupby(['region', 'lga', 'ward', 'subvillage'])['latitude'].mean().reset_index()\n",
    "means_latitude_subvillage = means_latitude_subvillage.rename(columns={\"latitude\": \"latitude_imputed_subvillage\"})\n",
    "\n",
    "#ward level\n",
    "means_latitude_ward = df.groupby(['region', 'lga', 'ward',])['latitude'].mean().reset_index()\n",
    "means_latitude_ward = means_latitude_ward.rename(columns={\"latitude\": \"latitude_imputed_ward\"})\n",
    "\n",
    "#lga level\n",
    "means_latitude_lga = df.groupby(['region', 'lga'])['latitude'].mean().reset_index()\n",
    "means_latitude_lga = means_latitude_lga .rename(columns={\"latitude\": \"latitude_imputed_lga\"})\n",
    "\n",
    "#region level\n",
    "means_latitude_region = df.groupby(['region'])['latitude'].mean().reset_index()\n",
    "means_latitude_region = means_latitude_region.rename(columns={\"latitude\": \"latitude_imputed_region\"})\n",
    "means_latitude_region.head()"
   ]
  },
  {
   "cell_type": "code",
   "execution_count": 1040,
   "metadata": {},
   "outputs": [],
   "source": [
    "#merge the aggregated dataframes as new columns to the original df\n",
    "df = df.merge(means_latitude_subvillage, how = 'left', on = ['region', 'lga', 'ward', 'subvillage'])\n",
    "df = df.merge(means_latitude_ward, how = 'left', on = ['region', 'lga', 'ward'])\n",
    "df = df.merge(means_latitude_lga, how = 'left', on = ['region', 'lga'])\n",
    "df = df.merge(means_latitude_region, how = 'left', on = ['region'])\n",
    "\n",
    "#select the right latitude level based on the availability of information\n",
    "df['imputed_latitude'] = np.where(df['latitude'].isna(), df['latitude_imputed_subvillage'], df['latitude']) #if longitude is missing, impute it by the mean of the subvillage\n",
    "df['imputed_latitude'] = np.where(df['imputed_latitude'].isna(), df['latitude_imputed_ward'], df['imputed_latitude']) #if subvillage mean is missing, impute it by the ward\n",
    "df['imputed_latitude'] = np.where(df['imputed_latitude'].isna(), df['latitude_imputed_lga'], df['imputed_latitude'])\n",
    "df['imputed_latitude'] = np.where(df['imputed_latitude'].isna(), df['latitude_imputed_region'], df['imputed_latitude'])\n",
    "\n",
    "#drop redundant columns\n",
    "df= df.drop(['latitude_imputed_subvillage','latitude_imputed_ward' , 'latitude_imputed_lga' , 'latitude_imputed_region', 'latitude'], axis=1)"
   ]
  },
  {
   "cell_type": "code",
   "execution_count": 1041,
   "metadata": {},
   "outputs": [
    {
     "data": {
      "text/plain": [
       "0"
      ]
     },
     "execution_count": 1041,
     "metadata": {},
     "output_type": "execute_result"
    }
   ],
   "source": [
    "df['imputed_latitude'].isna().sum()"
   ]
  },
  {
   "cell_type": "code",
   "execution_count": 1042,
   "metadata": {},
   "outputs": [
    {
     "data": {
      "image/png": "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",
      "text/plain": [
       "<Figure size 640x480 with 1 Axes>"
      ]
     },
     "metadata": {},
     "output_type": "display_data"
    }
   ],
   "source": [
    "#function to create density plot\n",
    "def impute_checker (feature, imputed_dataset, title):\n",
    "  train_df[feature].plot(kind='kde', c='black')\n",
    "  imputed_dataset[feature].plot(kind='kde', style = \"--\", c= '#66c2a5')\n",
    "  labels = ['Original df', 'Imputed df']\n",
    "  plt.legend(labels)\n",
    "  plt.xlabel(feature)\n",
    "  plt.title(title)\n",
    "  plt.show()\n",
    "\n",
    "df_df = df.rename(columns={'imputed_latitude': 'latitude'})\n",
    "impute_checker('latitude', df_df, 'Manually imputed')"
   ]
  },
  {
   "cell_type": "code",
   "execution_count": 1043,
   "metadata": {},
   "outputs": [],
   "source": [
    "if sw_impute_latitude:\n",
    "    train_df = df"
   ]
  },
  {
   "attachments": {},
   "cell_type": "markdown",
   "metadata": {},
   "source": [
    "### Permit Imputation\n",
    "Impute missing values with mode of similar records. `management_group` and `public_meeting` were used by BrendaLoznik."
   ]
  },
  {
   "cell_type": "code",
   "execution_count": 1044,
   "metadata": {},
   "outputs": [],
   "source": [
    "#impute by mode\n",
    "permit_mg_mode= train_df.groupby(['public_meeting', 'management_group'])['permit'].agg(pd.Series.mode).reset_index()\n",
    "permit_mg_mode  = permit_mg_mode.rename(columns={\"permit\": \"imputed_permit_mg\"})\n",
    "train_df = train_df.merge(permit_mg_mode, how = 'left', on = ['public_meeting', 'management_group'])\n",
    "\n",
    "train_df['imputed_permit'] = np.where(train_df['permit'].isna(), train_df['imputed_permit_mg'], train_df['permit'])  #if permit is missing, replace it by the mode of public meeting - management group\n",
    "train_df['imputed_permit']  = np.where(train_df['imputed_permit'] .isna(), train_df['permit'].mode(), train_df['imputed_permit'])  #if eitther public meeting or management group is missing, then use the mode of permit (True)\n",
    "\n",
    "#drop original permit column\n",
    "train_df = train_df.drop(['permit', 'imputed_permit_mg'], axis=1)"
   ]
  },
  {
   "attachments": {},
   "cell_type": "markdown",
   "metadata": {},
   "source": [
    "### Public Meeting Imputation\n",
    "Simply impute public_meeting with the mode, as 90% of pumps have a TRUE value\n",
    "\n",
    "Solution by BrendaLoznik"
   ]
  },
  {
   "cell_type": "code",
   "execution_count": 1045,
   "metadata": {},
   "outputs": [],
   "source": [
    "public_meeting_mode = train_df['public_meeting'].mode()[0]\n",
    "train_df['public_meeting'] = train_df['public_meeting'].fillna(public_meeting_mode)"
   ]
  },
  {
   "attachments": {},
   "cell_type": "markdown",
   "metadata": {},
   "source": [
    "### Scheme Management Imputation\n",
    "\n",
    "Solution by BrendaLoznik"
   ]
  },
  {
   "cell_type": "code",
   "execution_count": 1046,
   "metadata": {},
   "outputs": [],
   "source": [
    "# it seems like a logical choice to impute missing scheme management values by the mode of the management - scheme-management as there is a lot of overlap here\n",
    "check = train_df.groupby([  'management_group', 'scheme_management' , 'management'])['id'].count().reset_index()\n",
    "check = check.sort_values('management')\n",
    "check.head(10)\n",
    "\n",
    "scheme_mode = train_df.groupby(['management'])['scheme_management'].agg(pd.Series.mode).reset_index()\n",
    "scheme_mode = scheme_mode.rename(columns={\"scheme_management\": \"imputed_scheme_management\"})\n",
    "scheme_mode \n",
    "\n",
    "#merge scheme_mode to original df and use it to replace missing values\n",
    "train_df = train_df.merge(scheme_mode, how = 'left', on = [ 'management'])\n",
    "train_df['imputed_scheme__management'] = np.where(train_df['scheme_management'].isna(), train_df['imputed_scheme_management'], train_df['scheme_management'])\n",
    "\n",
    "#drop redundant columns\n",
    "train_df= train_df.drop(['scheme_management', 'imputed_scheme_management'],axis=1)\n",
    "\n"
   ]
  },
  {
   "attachments": {},
   "cell_type": "markdown",
   "metadata": {},
   "source": [
    "### Installer\n",
    "\n",
    "Solution by BrendaLoznik"
   ]
  },
  {
   "cell_type": "code",
   "execution_count": 1047,
   "metadata": {},
   "outputs": [],
   "source": [
    "#I noticed a lot of variation in captialization, so I will first convert al entries to lowercase\n",
    "train_df['installer'] = train_df['installer'].str.lower()\n",
    "\n",
    "#plot top 10 installers\n",
    "installer = train_df.groupby('installer')['id'].count().reset_index()\n",
    "installer = installer.sort_values('id', ascending = False)\n",
    "installer.head(10)\n",
    "\n",
    "\n",
    "#there are a few categories in the top 60 most common categories whose naims look a lot alike and are probably typo's. We will merge them together\n",
    "train_df['installer'] = np.where( train_df['installer']=='gove', 'gover', train_df['installer'] )\n",
    "train_df['installer'] = np.where( train_df['installer']=='community', 'commu', train_df['installer'] )\n",
    "train_df['installer'] = np.where( train_df['installer']=='danid', 'danida', train_df['installer'] )\n",
    "\n",
    "installer = train_df.groupby('installer')['id'].count().reset_index()\n",
    "installer = installer.sort_values('id', ascending = False)\n",
    "installer.head(10)\n",
    "\n",
    "#I want to keep the most frequent installers and combine the rarer classes together. I have played around with the optimum number of installers to keep, and I decided on the top 150.\n",
    "\n",
    "#create list of top 150 installers\n",
    "top_installers = installer.nlargest(150, 'id')['installer'].unique()\n",
    "\n",
    "#replace funders that are not in top 10 with 'other'\n",
    "train_df['installer'] = np.where(train_df['installer'].isin(top_installers), train_df['installer'], 'other')\n"
   ]
  },
  {
   "attachments": {},
   "cell_type": "markdown",
   "metadata": {},
   "source": [
    "### Funder\n",
    "\n",
    "Solution by BrendaLoznik"
   ]
  },
  {
   "cell_type": "code",
   "execution_count": 1048,
   "metadata": {},
   "outputs": [],
   "source": [
    "#set all entries to lowercase\n",
    "train_df['funder'] = train_df['funder'].str.lower()\n",
    "\n",
    "\n",
    "funder = train_df.groupby('funder')['id'].count().reset_index()\n",
    "funder = funder.sort_values('id', ascending = False)\n",
    "funder.head(10)\n",
    "\n",
    "#create list of top 150 funders\n",
    "top_funders = funder.nlargest(150, 'id')['funder'].unique()\n",
    "\n",
    "#replace funders that are not in top 150 with 'other'\n",
    "train_df['funder'] = np.where(train_df['funder'].isin(top_funders), train_df['funder'], 'other')\n"
   ]
  },
  {
   "attachments": {},
   "cell_type": "markdown",
   "metadata": {},
   "source": [
    "### Construction Year Imputation\n",
    "\n",
    "Since `extraction_type_group` is associated with `construction_year`, that will help to impute the values.\n",
    "\n",
    "Solution by BrendaLoznik"
   ]
  },
  {
   "cell_type": "code",
   "execution_count": 1049,
   "metadata": {},
   "outputs": [],
   "source": [
    "#because of the wide spread of construction years, I don't want to impude by the overall mean\n",
    "train_df['construction_year'].min(),  train_df['construction_year'].max() , train_df['construction_year'].mean()\n",
    "\n",
    "#We can see that the mean construction year by extraction type group gives much more detailed information\n",
    "mean_construction = train_df.groupby('extraction_type_group')['construction_year'].mean().reset_index()\n",
    "\n",
    "#create train_df with the mean extraction year by extraction type group\n",
    "mean_construction = train_df.groupby('extraction_type_group')['construction_year'].mean().reset_index()\n",
    "mean_construction  = mean_construction .rename(columns={\"construction_year\": \"imputed_construction_year\"})\n",
    "\n",
    "#merge this train_df to the main train_df and replace missing values\n",
    "train_df = train_df.merge(mean_construction, how =  'left', on =  'extraction_type_group')\n",
    "train_df['construction_year_imputed'] = np.where(train_df['construction_year'].isna(), train_df['imputed_construction_year'], train_df['construction_year'] )\n",
    "\n",
    "#drop redundant columns\n",
    "train_df=train_df.drop(['imputed_construction_year', 'construction_year'], axis=1)"
   ]
  },
  {
   "attachments": {},
   "cell_type": "markdown",
   "metadata": {},
   "source": [
    "### GPS Height Imputation\n",
    "\n",
    "Replace values randomly within 1std of the mean, following a normal distribution.\n",
    "\n",
    "This probably needs verifying/improving but it'll do for now.\n",
    "\n",
    "Solution by BrendaLoznik"
   ]
  },
  {
   "cell_type": "code",
   "execution_count": 1050,
   "metadata": {},
   "outputs": [],
   "source": [
    "#create mean on the lowest granularity level (subvillage)\n",
    "means_altitude_subvillage = train_df.groupby(['region', 'lga', 'ward', 'subvillage'])['gps_height'].mean().reset_index()#\n",
    "means_altitude_subvillage = means_altitude_subvillage.rename(columns={\"gps_height\": \"gps_height_imputed_subvillage\"})\n",
    "\n",
    "#ward level\n",
    "means_altitude_ward = train_df.groupby(['region', 'lga', 'ward',])['gps_height'].mean().reset_index()\n",
    "means_altitude_ward = means_altitude_ward.rename(columns={\"gps_height\": \"gps_height_imputed_ward\"})\n",
    "\n",
    "#lga level\n",
    "means_altitude_lga = train_df.groupby(['region', 'lga'])['gps_height'].mean().reset_index()\n",
    "means_altitude_lga = means_altitude_lga .rename(columns={\"gps_height\": \"gps_height_imputed_lga\"})\n",
    "\n",
    "#region level\n",
    "means_altitude_region = train_df.groupby(['region'])['gps_height'].mean().reset_index()\n",
    "means_altitude_region = means_altitude_region.rename(columns={\"gps_height\": \"gps_height_imputed_region\"})\n",
    "\n",
    "#region basin\n",
    "means_altitude_basin = train_df.groupby(['basin'])['gps_height'].mean().reset_index()\n",
    "means_altitude_basin = means_altitude_basin.rename(columns={\"gps_height\": \"gps_height_imputed_basin\"})\n",
    "\n",
    "#merge the aggregated dataframes as new columns to the original train_df\n",
    "train_df= train_df.merge(means_altitude_subvillage, how = 'left', on = ['region', 'lga', 'ward', 'subvillage'])\n",
    "train_df = train_df.merge(means_altitude_ward, how = 'left', on = ['region', 'lga', 'ward'])\n",
    "train_df = train_df.merge(means_altitude_lga, how = 'left', on = ['region', 'lga'])\n",
    "train_df = train_df.merge(means_altitude_region, how = 'left', on = ['region'])\n",
    "train_df = train_df.merge(means_altitude_basin, how = 'left', on = ['basin'])\n",
    "\n",
    "#create final imputed longitude column\n",
    "train_df['imputed_gps_height'] = np.where(train_df['gps_height'].isna(), train_df['gps_height_imputed_subvillage'], train_df['gps_height']) #if longitude is missing, impute it by the mean of the subvillage\n",
    "train_df['imputed_gps_height'] = np.where(train_df['imputed_gps_height'].isna(), train_df['gps_height_imputed_ward'], train_df['imputed_gps_height']) #if subvillage mean is missing, impute it by the ward\n",
    "train_df['imputed_gps_height'] = np.where(train_df['imputed_gps_height'].isna(), train_df['gps_height_imputed_lga'], train_df['imputed_gps_height'])\n",
    "train_df['imputed_gps_height'] = np.where(train_df['imputed_gps_height'].isna(), train_df['gps_height_imputed_region'], train_df['imputed_gps_height'])\n",
    "train_df['imputed_gps_height'] = np.where(train_df['imputed_gps_height'].isna(), train_df['gps_height_imputed_basin'], train_df['imputed_gps_height'])\n",
    "\n",
    "#drop redundant columns\n",
    "train_df= train_df.drop(['gps_height_imputed_subvillage','gps_height_imputed_ward' , 'gps_height_imputed_lga' , 'gps_height_imputed_region', 'gps_height', 'gps_height_imputed_basin'], axis=1)\n"
   ]
  },
  {
   "attachments": {},
   "cell_type": "markdown",
   "metadata": {},
   "source": [
    "### Population\n",
    "Brenda's solution considers region-wide population average when not available, which is a poor indicator of population. Some readings also have very large population values, which skew the average. We use a binning approach to better represent population, with a \"missing\" bin where subvillage or ward population is unknown, as this itself is a decent predictor."
   ]
  },
  {
   "cell_type": "code",
   "execution_count": 1051,
   "metadata": {},
   "outputs": [],
   "source": [
    "#create mean on the lowest granularity level (subvillage)\n",
    "means_population_subvillage = train_df.groupby(['region', 'lga', 'ward', 'subvillage'])['population'].mean().reset_index()#\n",
    "means_population_subvillage = means_population_subvillage.rename(columns={\"population\": \"population_imputed_subvillage\"})\n",
    "\n",
    "#ward level\n",
    "means_population_ward = train_df.groupby(['region', 'lga', 'ward',])['population'].mean().reset_index()\n",
    "means_population_ward = means_population_ward.rename(columns={\"population\": \"population_imputed_ward\"})\n",
    "\n",
    "#lga level\n",
    "means_population_lga = train_df.groupby(['region', 'lga'])['population'].mean().reset_index()\n",
    "means_population_lga = means_population_lga .rename(columns={\"population\": \"population_imputed_lga\"})\n",
    "\n",
    "#region level\n",
    "means_population_region = train_df.groupby(['region'])['population'].mean().reset_index()\n",
    "means_population_region = means_population_region.rename(columns={\"population\": \"population_imputed_region\"})\n",
    "\n",
    "#region basin\n",
    "means_population_basin = train_df.groupby(['basin'])['population'].mean().reset_index()\n",
    "means_population_basin = means_population_basin.rename(columns={\"population\": \"population_imputed_basin\"})\n",
    "\n",
    "#merge the aggregated dataframes as new columns to the original df\n",
    "train_df= train_df.merge(means_population_subvillage, how = 'left', on = ['region', 'lga', 'ward', 'subvillage'])\n",
    "train_df = train_df.merge(means_population_ward, how = 'left', on = ['region', 'lga', 'ward'])\n",
    "train_df = train_df.merge(means_population_lga, how = 'left', on = ['region', 'lga'])\n",
    "train_df = train_df.merge(means_population_region, how = 'left', on = ['region'])\n",
    "train_df = train_df.merge(means_population_basin, how = 'left', on = ['basin'])\n",
    "\n",
    "#create final imputed longitude column\n",
    "train_df['imputed_population'] = np.where(train_df['population'].isna(), train_df['population_imputed_subvillage'], train_df['population']) #if longitude is missing, impute it by the mean of the subvillage\n",
    "train_df['imputed_population'] = np.where(train_df['imputed_population'].isna(), train_df['population_imputed_ward'], train_df['imputed_population']) #if subvillage mean is missing, impute it by the ward\n",
    "train_df['imputed_population'] = np.where(train_df['imputed_population'].isna(), train_df['population_imputed_lga'], train_df['imputed_population'])\n",
    "train_df['imputed_population'] = np.where(train_df['imputed_population'].isna(), train_df['population_imputed_region'], train_df['imputed_population'])\n",
    "train_df['imputed_population'] = np.where(train_df['imputed_population'].isna(), train_df['population_imputed_basin'], train_df['imputed_population'])\n",
    "\n",
    "#drop redundant columns\n",
    "train_df= train_df.drop(['population_imputed_subvillage','population_imputed_ward' , 'population_imputed_lga' , 'population_imputed_region', 'population', 'population_imputed_basin'], axis=1)"
   ]
  },
  {
   "attachments": {},
   "cell_type": "markdown",
   "metadata": {},
   "source": [
    "### Correct data types"
   ]
  },
  {
   "cell_type": "code",
   "execution_count": 1052,
   "metadata": {},
   "outputs": [],
   "source": [
    "#replace string to integer\n",
    "train_df['public_meeting'] = train_df['public_meeting'].replace({True: 1, False: 0})\n",
    "train_df['imputed_permit'] = train_df['imputed_permit'].replace({True: 1, False: 0})\n",
    "\n",
    "\n",
    "#change to integer\n",
    "train_df[['imputed_gps_height', 'construction_year_imputed', 'imputed_population']] = train_df[['imputed_gps_height', 'construction_year_imputed', 'imputed_population']].astype('int')\n",
    "\n",
    "#change type to categorical\n",
    "train_df[['region_code', 'district_code', 'num_private']] = train_df[['region_code', 'district_code', 'num_private']].astype('str')\n",
    "train_df[[ 'num_private']] = train_df[[ 'num_private']].astype('str')\n",
    "\n",
    "#remove decimal\n",
    "train_df['district_code'] = train_df['district_code'].str.split(\".\").str[0]\n"
   ]
  },
  {
   "cell_type": "code",
   "execution_count": 1053,
   "metadata": {},
   "outputs": [],
   "source": [
    "#save cleaned df\n",
    "train_df= train_df.rename(columns={\"imputed_permit\": \"permit\", \"imputed_scheme__management\": \"scheme_management\",\n",
    "                    \"imputed_gps_height\": \"gps_height\", 'construction_year_imputed': 'construction_year', \n",
    "                   'imputed_population': 'population', 'imputed_longitude': 'longitude'}, errors=\"raise\")\n",
    "\n",
    "if sw_impute_latitude:\n",
    "    train_df.rename(columns={'imputed_latitude': 'latitude'}, errors=\"raise\")\n",
    "\n",
    "train_df.to_csv(\"cleaned_df.csv\")"
   ]
  },
  {
   "attachments": {},
   "cell_type": "markdown",
   "metadata": {},
   "source": [
    "## 2. Feature Engineering"
   ]
  },
  {
   "attachments": {},
   "cell_type": "markdown",
   "metadata": {},
   "source": [
    "### recorded_age Feature\n",
    "Create a feature recorded_age, which states the age (in years) of the pump at time of recording. Uses date_recorded and construction_year."
   ]
  },
  {
   "cell_type": "code",
   "execution_count": 1054,
   "metadata": {},
   "outputs": [],
   "source": [
    "#create age feature\n",
    "train_df['recorded_year'] = pd.DatetimeIndex(train_df ['date_recorded']).year\n",
    "train_df[ 'age'] = train_df['recorded_year'] - train_df['construction_year']\n",
    "train_df = train_df.drop('recorded_year',axis=1)"
   ]
  },
  {
   "attachments": {},
   "cell_type": "markdown",
   "metadata": {},
   "source": [
    "### Recorded Season\n",
    "The month in which the water pump's functionality is recorded may be important due to wet/dry seasons in Tanzania. Due to the poor distribution of recorded months, we group months into different season bins."
   ]
  },
  {
   "cell_type": "code",
   "execution_count": 1055,
   "metadata": {},
   "outputs": [],
   "source": [
    "train_df['month'] = pd.DatetimeIndex(train_df['date_recorded']).month\n",
    "\n",
    "# season encoder\n",
    "season_mapper = {1: 'short dry',2:'short dry', 3: 'long rain', 4: 'long rain', 5: 'long rain',6: 'long dry', \n",
    "                 7: 'long dry', 8: 'long dry', 9: 'long dry', 10: 'long dry', 11:'short rain', 12:'short rain'}\n",
    "#.p feature values to scale\n",
    "train_df['season'] = train_df['month'].replace(season_mapper)\n",
    "train_df = train_df.drop('month', axis=1)"
   ]
  },
  {
   "attachments": {},
   "cell_type": "markdown",
   "metadata": {},
   "source": [
    "### amount_tsh missing\n",
    "Use a binary feature for whether amount_tsh is missing - this is a decent predictor of water pump status"
   ]
  },
  {
   "cell_type": "code",
   "execution_count": 1056,
   "metadata": {},
   "outputs": [],
   "source": [
    "train_df['amount_tsh_missing'] = np.where( train_df['amount_tsh'].isna(), 1, 0)"
   ]
  },
  {
   "attachments": {},
   "cell_type": "markdown",
   "metadata": {},
   "source": [
    "### Region District"
   ]
  },
  {
   "cell_type": "code",
   "execution_count": 1057,
   "metadata": {},
   "outputs": [],
   "source": [
    "train_df['region_district'] = train_df['region']+ \"-\" + train_df['district_code']"
   ]
  },
  {
   "attachments": {},
   "cell_type": "markdown",
   "metadata": {},
   "source": [
    "### Reduce Cardinality of Longitude/Latitude"
   ]
  },
  {
   "cell_type": "code",
   "execution_count": 1058,
   "metadata": {},
   "outputs": [],
   "source": [
    "#two decimal places is 1.1 km accurate. This will provide enough information on the location. Using the full coordinate doesn't provide a lot of general information, but does result in high cardinality\n",
    "train_df['longitude'] = round(train_df['longitude'], 2)\n",
    "train_df['latitude'] = round(train_df['latitude'],2)"
   ]
  },
  {
   "attachments": {},
   "cell_type": "markdown",
   "metadata": {},
   "source": [
    "### Extraction"
   ]
  },
  {
   "cell_type": "code",
   "execution_count": 1059,
   "metadata": {},
   "outputs": [],
   "source": [
    "#i want to keep extraction type class and I will group the extraction type group en type together\n",
    "\n",
    "#swn 80 and swn 81 become swn\n",
    "#cemo + climax become other motorpump\n",
    "# other -mkulima, other -play and walimi become other handpump\n",
    "\n",
    "swn = ['other - swn 81', 'swn80']\n",
    "train_df['extraction_type'] =np.where(train_df['extraction_type'].isin(swn), 'swn',  train_df['extraction_type'])\n",
    "\n",
    "other_handpump = ['other - mkulima/shinyanga', 'other - play pump', 'other - walimi']\n",
    "train_df['extraction_type']=np.where(train_df['extraction_type'].isin(other_handpump), 'other handpump',  train_df['extraction_type'])\n",
    "\n",
    "other_motorpump = ['cemo', 'climax']\n",
    "train_df['extraction_type'] =np.where(train_df['extraction_type'].isin(other_motorpump), 'other motorpump',  train_df['extraction_type'])\n"
   ]
  },
  {
   "attachments": {},
   "cell_type": "markdown",
   "metadata": {},
   "source": [
    "### Autonomy"
   ]
  },
  {
   "cell_type": "code",
   "execution_count": 1060,
   "metadata": {},
   "outputs": [],
   "source": [
    "#autonomous = government, VWC, town council ..... also water authority?, parastatal (=state company)? SWC?\n",
    "#autonomous = WUA, WUG, board, trust, school\n",
    "#private = private, company\n",
    "\n",
    "non = ['VWC', 'Water authority', 'Parastatal', 'SWC']\n",
    "autonomous = ['WUG', 'WUA', 'Water Board', 'Trust']\n",
    "private = ['Company', 'Private operator']\n",
    "other = ['None', 'Other']\n",
    "\n",
    "train_df['authority_scheme'] = train_df['scheme_management']\n",
    "train_df.loc[train_df['authority_scheme'].isin(non),'authority_scheme']='non-autonomous'\n",
    "train_df.loc[train_df['authority_scheme'].isin(autonomous ),'authority_scheme']='autonomous'\n",
    "train_df.loc[train_df['authority_scheme'].isin(private),'authority_scheme']='private'\n",
    "train_df.loc[train_df['authority_scheme'].isin(other ),'authority_scheme']='other'"
   ]
  },
  {
   "attachments": {},
   "cell_type": "markdown",
   "metadata": {},
   "source": [
    "### Combine rare features in `source`"
   ]
  },
  {
   "cell_type": "code",
   "execution_count": 1061,
   "metadata": {},
   "outputs": [],
   "source": [
    "#keep source, but the rare classes will be put together\n",
    "other = ['other',  'unknown']\n",
    "train_df['source'] = np.where(train_df['source']=='unknown', 'other', train_df['source'])"
   ]
  },
  {
   "attachments": {},
   "cell_type": "markdown",
   "metadata": {},
   "source": [
    "### Population"
   ]
  },
  {
   "cell_type": "code",
   "execution_count": 1062,
   "metadata": {},
   "outputs": [
    {
     "data": {
      "text/html": [
       "<div>\n",
       "<style scoped>\n",
       "    .dataframe tbody tr th:only-of-type {\n",
       "        vertical-align: middle;\n",
       "    }\n",
       "\n",
       "    .dataframe tbody tr th {\n",
       "        vertical-align: top;\n",
       "    }\n",
       "\n",
       "    .dataframe thead th {\n",
       "        text-align: right;\n",
       "    }\n",
       "</style>\n",
       "<table border=\"1\" class=\"dataframe\">\n",
       "  <thead>\n",
       "    <tr style=\"text-align: right;\">\n",
       "      <th></th>\n",
       "      <th>nr_pumps</th>\n",
       "      <th>perc_total_pumps</th>\n",
       "      <th>perc_functional</th>\n",
       "      <th>perc_non_functional</th>\n",
       "      <th>perc_functional_needs_repair</th>\n",
       "    </tr>\n",
       "    <tr>\n",
       "      <th>population_bins</th>\n",
       "      <th></th>\n",
       "      <th></th>\n",
       "      <th></th>\n",
       "      <th></th>\n",
       "      <th></th>\n",
       "    </tr>\n",
       "  </thead>\n",
       "  <tbody>\n",
       "    <tr>\n",
       "      <th>large</th>\n",
       "      <td>9069</td>\n",
       "      <td>15.3</td>\n",
       "      <td>52.3</td>\n",
       "      <td>40.0</td>\n",
       "      <td>7.7</td>\n",
       "    </tr>\n",
       "    <tr>\n",
       "      <th>medium</th>\n",
       "      <td>22339</td>\n",
       "      <td>37.6</td>\n",
       "      <td>50.5</td>\n",
       "      <td>40.5</td>\n",
       "      <td>9.0</td>\n",
       "    </tr>\n",
       "    <tr>\n",
       "      <th>small</th>\n",
       "      <td>10487</td>\n",
       "      <td>17.7</td>\n",
       "      <td>60.6</td>\n",
       "      <td>32.8</td>\n",
       "      <td>6.6</td>\n",
       "    </tr>\n",
       "    <tr>\n",
       "      <th>very large</th>\n",
       "      <td>1566</td>\n",
       "      <td>2.6</td>\n",
       "      <td>58.6</td>\n",
       "      <td>36.7</td>\n",
       "      <td>4.7</td>\n",
       "    </tr>\n",
       "    <tr>\n",
       "      <th>very small</th>\n",
       "      <td>15938</td>\n",
       "      <td>26.8</td>\n",
       "      <td>56.3</td>\n",
       "      <td>38.5</td>\n",
       "      <td>5.3</td>\n",
       "    </tr>\n",
       "  </tbody>\n",
       "</table>\n",
       "</div>"
      ],
      "text/plain": [
       "                 nr_pumps  perc_total_pumps  perc_functional  \\\n",
       "population_bins                                                \n",
       "large                9069              15.3             52.3   \n",
       "medium              22339              37.6             50.5   \n",
       "small               10487              17.7             60.6   \n",
       "very large           1566               2.6             58.6   \n",
       "very small          15938              26.8             56.3   \n",
       "\n",
       "                 perc_non_functional  perc_functional_needs_repair  \n",
       "population_bins                                                     \n",
       "large                           40.0                           7.7  \n",
       "medium                          40.5                           9.0  \n",
       "small                           32.8                           6.6  \n",
       "very large                      36.7                           4.7  \n",
       "very small                      38.5                           5.3  "
      ]
     },
     "execution_count": 1062,
     "metadata": {},
     "output_type": "execute_result"
    }
   ],
   "source": [
    "df = train_df.copy()\n",
    "\n",
    "# bin the population column and assign labels\n",
    "bins = [0, 100, 200, 500, 1000, 100000]\n",
    "df['population_bins'] = pd.cut(df['population'], bins=bins, labels=['very small', 'small', 'medium', 'large', 'very large']).astype('object')\n",
    "\n",
    "df = df.drop('population', axis=1)\n",
    "\n",
    "distribution_checker(df, 'population_bins')"
   ]
  },
  {
   "cell_type": "code",
   "execution_count": 1063,
   "metadata": {},
   "outputs": [],
   "source": [
    "if sw_population_bins:\n",
    "    train_df = df"
   ]
  },
  {
   "attachments": {},
   "cell_type": "markdown",
   "metadata": {},
   "source": [
    "## 3. (Partial) Feature Selection\n",
    "Remove bad features here."
   ]
  },
  {
   "attachments": {},
   "cell_type": "markdown",
   "metadata": {},
   "source": [
    "### Columns to Drop\n",
    "amount_tsh: *70% missing values*\n",
    "\n",
    "date_recorded: *Used in recorded_age engineered feature*\n",
    "\n"
   ]
  },
  {
   "cell_type": "code",
   "execution_count": 1064,
   "metadata": {},
   "outputs": [
    {
     "data": {
      "text/html": [
       "<div>\n",
       "<style scoped>\n",
       "    .dataframe tbody tr th:only-of-type {\n",
       "        vertical-align: middle;\n",
       "    }\n",
       "\n",
       "    .dataframe tbody tr th {\n",
       "        vertical-align: top;\n",
       "    }\n",
       "\n",
       "    .dataframe thead th {\n",
       "        text-align: right;\n",
       "    }\n",
       "</style>\n",
       "<table border=\"1\" class=\"dataframe\">\n",
       "  <thead>\n",
       "    <tr style=\"text-align: right;\">\n",
       "      <th></th>\n",
       "      <th>id</th>\n",
       "      <th>status_group</th>\n",
       "      <th>funder</th>\n",
       "      <th>installer</th>\n",
       "      <th>latitude</th>\n",
       "      <th>basin</th>\n",
       "      <th>region_code</th>\n",
       "      <th>public_meeting</th>\n",
       "      <th>extraction_type</th>\n",
       "      <th>extraction_type_class</th>\n",
       "      <th>payment_type</th>\n",
       "      <th>water_quality</th>\n",
       "      <th>quantity</th>\n",
       "      <th>source</th>\n",
       "      <th>waterpoint_type</th>\n",
       "      <th>longitude</th>\n",
       "      <th>permit</th>\n",
       "      <th>scheme_management</th>\n",
       "      <th>gps_height</th>\n",
       "      <th>age</th>\n",
       "      <th>season</th>\n",
       "      <th>amount_tsh_missing</th>\n",
       "      <th>region_district</th>\n",
       "      <th>authority_scheme</th>\n",
       "      <th>population_bins</th>\n",
       "    </tr>\n",
       "  </thead>\n",
       "  <tbody>\n",
       "    <tr>\n",
       "      <th>0</th>\n",
       "      <td>69572</td>\n",
       "      <td>functional</td>\n",
       "      <td>roman</td>\n",
       "      <td>roman</td>\n",
       "      <td>-9.86</td>\n",
       "      <td>Lake Nyasa</td>\n",
       "      <td>11</td>\n",
       "      <td>1</td>\n",
       "      <td>gravity</td>\n",
       "      <td>gravity</td>\n",
       "      <td>annually</td>\n",
       "      <td>soft</td>\n",
       "      <td>enough</td>\n",
       "      <td>spring</td>\n",
       "      <td>communal standpipe</td>\n",
       "      <td>34.94</td>\n",
       "      <td>0</td>\n",
       "      <td>VWC</td>\n",
       "      <td>1390</td>\n",
       "      <td>12</td>\n",
       "      <td>long rain</td>\n",
       "      <td>0</td>\n",
       "      <td>Iringa-5</td>\n",
       "      <td>non-autonomous</td>\n",
       "      <td>small</td>\n",
       "    </tr>\n",
       "    <tr>\n",
       "      <th>1</th>\n",
       "      <td>8776</td>\n",
       "      <td>functional</td>\n",
       "      <td>grumeti</td>\n",
       "      <td>grumeti</td>\n",
       "      <td>-2.15</td>\n",
       "      <td>Lake Victoria</td>\n",
       "      <td>20</td>\n",
       "      <td>1</td>\n",
       "      <td>gravity</td>\n",
       "      <td>gravity</td>\n",
       "      <td>never pay</td>\n",
       "      <td>soft</td>\n",
       "      <td>insufficient</td>\n",
       "      <td>rainwater harvesting</td>\n",
       "      <td>communal standpipe</td>\n",
       "      <td>34.70</td>\n",
       "      <td>1</td>\n",
       "      <td>Other</td>\n",
       "      <td>1399</td>\n",
       "      <td>3</td>\n",
       "      <td>long rain</td>\n",
       "      <td>1</td>\n",
       "      <td>Mara-2</td>\n",
       "      <td>other</td>\n",
       "      <td>medium</td>\n",
       "    </tr>\n",
       "    <tr>\n",
       "      <th>2</th>\n",
       "      <td>34310</td>\n",
       "      <td>functional</td>\n",
       "      <td>other</td>\n",
       "      <td>world vision</td>\n",
       "      <td>-3.82</td>\n",
       "      <td>Pangani</td>\n",
       "      <td>21</td>\n",
       "      <td>1</td>\n",
       "      <td>gravity</td>\n",
       "      <td>gravity</td>\n",
       "      <td>per bucket</td>\n",
       "      <td>soft</td>\n",
       "      <td>enough</td>\n",
       "      <td>dam</td>\n",
       "      <td>communal standpipe multiple</td>\n",
       "      <td>37.46</td>\n",
       "      <td>1</td>\n",
       "      <td>VWC</td>\n",
       "      <td>686</td>\n",
       "      <td>4</td>\n",
       "      <td>short dry</td>\n",
       "      <td>0</td>\n",
       "      <td>Manyara-4</td>\n",
       "      <td>non-autonomous</td>\n",
       "      <td>medium</td>\n",
       "    </tr>\n",
       "    <tr>\n",
       "      <th>3</th>\n",
       "      <td>67743</td>\n",
       "      <td>non functional</td>\n",
       "      <td>unicef</td>\n",
       "      <td>unicef</td>\n",
       "      <td>-11.16</td>\n",
       "      <td>Ruvuma / Southern Coast</td>\n",
       "      <td>90</td>\n",
       "      <td>1</td>\n",
       "      <td>submersible</td>\n",
       "      <td>submersible</td>\n",
       "      <td>never pay</td>\n",
       "      <td>soft</td>\n",
       "      <td>dry</td>\n",
       "      <td>machine dbh</td>\n",
       "      <td>communal standpipe multiple</td>\n",
       "      <td>38.49</td>\n",
       "      <td>1</td>\n",
       "      <td>VWC</td>\n",
       "      <td>263</td>\n",
       "      <td>27</td>\n",
       "      <td>short dry</td>\n",
       "      <td>1</td>\n",
       "      <td>Mtwara-63</td>\n",
       "      <td>non-autonomous</td>\n",
       "      <td>very small</td>\n",
       "    </tr>\n",
       "    <tr>\n",
       "      <th>4</th>\n",
       "      <td>19728</td>\n",
       "      <td>functional</td>\n",
       "      <td>other</td>\n",
       "      <td>artisan</td>\n",
       "      <td>-1.83</td>\n",
       "      <td>Lake Victoria</td>\n",
       "      <td>18</td>\n",
       "      <td>1</td>\n",
       "      <td>gravity</td>\n",
       "      <td>gravity</td>\n",
       "      <td>never pay</td>\n",
       "      <td>soft</td>\n",
       "      <td>seasonal</td>\n",
       "      <td>rainwater harvesting</td>\n",
       "      <td>communal standpipe</td>\n",
       "      <td>31.13</td>\n",
       "      <td>1</td>\n",
       "      <td>Other</td>\n",
       "      <td>1328</td>\n",
       "      <td>15</td>\n",
       "      <td>long dry</td>\n",
       "      <td>1</td>\n",
       "      <td>Kagera-1</td>\n",
       "      <td>other</td>\n",
       "      <td>large</td>\n",
       "    </tr>\n",
       "  </tbody>\n",
       "</table>\n",
       "</div>"
      ],
      "text/plain": [
       "      id    status_group   funder     installer  latitude  \\\n",
       "0  69572      functional    roman         roman     -9.86   \n",
       "1   8776      functional  grumeti       grumeti     -2.15   \n",
       "2  34310      functional    other  world vision     -3.82   \n",
       "3  67743  non functional   unicef        unicef    -11.16   \n",
       "4  19728      functional    other       artisan     -1.83   \n",
       "\n",
       "                     basin region_code  public_meeting extraction_type  \\\n",
       "0               Lake Nyasa          11               1         gravity   \n",
       "1            Lake Victoria          20               1         gravity   \n",
       "2                  Pangani          21               1         gravity   \n",
       "3  Ruvuma / Southern Coast          90               1     submersible   \n",
       "4            Lake Victoria          18               1         gravity   \n",
       "\n",
       "  extraction_type_class payment_type water_quality      quantity  \\\n",
       "0               gravity     annually          soft        enough   \n",
       "1               gravity    never pay          soft  insufficient   \n",
       "2               gravity   per bucket          soft        enough   \n",
       "3           submersible    never pay          soft           dry   \n",
       "4               gravity    never pay          soft      seasonal   \n",
       "\n",
       "                 source              waterpoint_type  longitude  permit  \\\n",
       "0                spring           communal standpipe      34.94       0   \n",
       "1  rainwater harvesting           communal standpipe      34.70       1   \n",
       "2                   dam  communal standpipe multiple      37.46       1   \n",
       "3           machine dbh  communal standpipe multiple      38.49       1   \n",
       "4  rainwater harvesting           communal standpipe      31.13       1   \n",
       "\n",
       "  scheme_management  gps_height  age     season  amount_tsh_missing  \\\n",
       "0               VWC        1390   12  long rain                   0   \n",
       "1             Other        1399    3  long rain                   1   \n",
       "2               VWC         686    4  short dry                   0   \n",
       "3               VWC         263   27  short dry                   1   \n",
       "4             Other        1328   15   long dry                   1   \n",
       "\n",
       "  region_district authority_scheme population_bins  \n",
       "0        Iringa-5   non-autonomous           small  \n",
       "1          Mara-2            other          medium  \n",
       "2       Manyara-4   non-autonomous          medium  \n",
       "3       Mtwara-63   non-autonomous      very small  \n",
       "4        Kagera-1            other           large  "
      ]
     },
     "execution_count": 1064,
     "metadata": {},
     "output_type": "execute_result"
    }
   ],
   "source": [
    "#during EDA I already decided what features to keep and which ones to drop\n",
    "train_df = train_df.drop(['amount_tsh', 'date_recorded', 'wpt_name', 'num_private', 'subvillage', 'region',  'district_code', 'lga', 'ward', 'recorded_by', 'scheme_name', 'extraction_type_group', 'management', 'management_group', 'payment', 'quality_group', 'quantity_group', 'source_class', 'source_type', 'waterpoint_type_group', 'construction_year'], axis=1)\n",
    "train_df.head()"
   ]
  },
  {
   "attachments": {},
   "cell_type": "markdown",
   "metadata": {},
   "source": [
    "## 4. Encoding\n",
    "Remove bad features here."
   ]
  },
  {
   "cell_type": "code",
   "execution_count": 1065,
   "metadata": {},
   "outputs": [],
   "source": [
    "#define train and test \n",
    "train_set = train_df[train_df [\"id\"].isin(train_base_df[\"id\"])]\n",
    "test_set =  train_df[train_df  [\"id\"].isin(test_df[\"id\"])]"
   ]
  },
  {
   "cell_type": "code",
   "execution_count": 1066,
   "metadata": {},
   "outputs": [],
   "source": [
    "X = train_set.drop(['id', 'status_group'], axis=1)\n",
    "y = train_set['status_group']"
   ]
  },
  {
   "cell_type": "code",
   "execution_count": 1067,
   "metadata": {},
   "outputs": [
    {
     "data": {
      "text/plain": [
       "Index(['funder', 'installer', 'latitude', 'basin', 'region_code',\n",
       "       'public_meeting', 'extraction_type', 'extraction_type_class',\n",
       "       'payment_type', 'water_quality', 'quantity', 'source',\n",
       "       'waterpoint_type', 'longitude', 'permit', 'scheme_management',\n",
       "       'gps_height', 'age', 'season', 'amount_tsh_missing', 'region_district',\n",
       "       'authority_scheme', 'population_bins'],\n",
       "      dtype='object')"
      ]
     },
     "execution_count": 1067,
     "metadata": {},
     "output_type": "execute_result"
    }
   ],
   "source": [
    "X.columns"
   ]
  },
  {
   "cell_type": "code",
   "execution_count": 1068,
   "metadata": {},
   "outputs": [],
   "source": [
    "categorical_cols = [cname for cname in X .columns if\n",
    "                   X [cname].dtype == \"object\"]"
   ]
  },
  {
   "cell_type": "code",
   "execution_count": 1069,
   "metadata": {},
   "outputs": [
    {
     "name": "stderr",
     "output_type": "stream",
     "text": [
      "/var/folders/vg/953jt4190_x2bp1n7tcvzfpr0000gn/T/ipykernel_50619/3744793663.py:4: SettingWithCopyWarning: \n",
      "A value is trying to be set on a copy of a slice from a DataFrame.\n",
      "Try using .loc[row_indexer,col_indexer] = value instead\n",
      "\n",
      "See the caveats in the documentation: https://pandas.pydata.org/pandas-docs/stable/user_guide/indexing.html#returning-a-view-versus-a-copy\n",
      "  train_set[col] = le.fit_transform(train_set[col])\n",
      "/var/folders/vg/953jt4190_x2bp1n7tcvzfpr0000gn/T/ipykernel_50619/3744793663.py:5: SettingWithCopyWarning: \n",
      "A value is trying to be set on a copy of a slice from a DataFrame.\n",
      "Try using .loc[row_indexer,col_indexer] = value instead\n",
      "\n",
      "See the caveats in the documentation: https://pandas.pydata.org/pandas-docs/stable/user_guide/indexing.html#returning-a-view-versus-a-copy\n",
      "  test_set[col] = le.transform(test_set[col])\n",
      "/var/folders/vg/953jt4190_x2bp1n7tcvzfpr0000gn/T/ipykernel_50619/3744793663.py:4: SettingWithCopyWarning: \n",
      "A value is trying to be set on a copy of a slice from a DataFrame.\n",
      "Try using .loc[row_indexer,col_indexer] = value instead\n",
      "\n",
      "See the caveats in the documentation: https://pandas.pydata.org/pandas-docs/stable/user_guide/indexing.html#returning-a-view-versus-a-copy\n",
      "  train_set[col] = le.fit_transform(train_set[col])\n",
      "/var/folders/vg/953jt4190_x2bp1n7tcvzfpr0000gn/T/ipykernel_50619/3744793663.py:5: SettingWithCopyWarning: \n",
      "A value is trying to be set on a copy of a slice from a DataFrame.\n",
      "Try using .loc[row_indexer,col_indexer] = value instead\n",
      "\n",
      "See the caveats in the documentation: https://pandas.pydata.org/pandas-docs/stable/user_guide/indexing.html#returning-a-view-versus-a-copy\n",
      "  test_set[col] = le.transform(test_set[col])\n",
      "/var/folders/vg/953jt4190_x2bp1n7tcvzfpr0000gn/T/ipykernel_50619/3744793663.py:4: SettingWithCopyWarning: \n",
      "A value is trying to be set on a copy of a slice from a DataFrame.\n",
      "Try using .loc[row_indexer,col_indexer] = value instead\n",
      "\n",
      "See the caveats in the documentation: https://pandas.pydata.org/pandas-docs/stable/user_guide/indexing.html#returning-a-view-versus-a-copy\n",
      "  train_set[col] = le.fit_transform(train_set[col])\n",
      "/var/folders/vg/953jt4190_x2bp1n7tcvzfpr0000gn/T/ipykernel_50619/3744793663.py:5: SettingWithCopyWarning: \n",
      "A value is trying to be set on a copy of a slice from a DataFrame.\n",
      "Try using .loc[row_indexer,col_indexer] = value instead\n",
      "\n",
      "See the caveats in the documentation: https://pandas.pydata.org/pandas-docs/stable/user_guide/indexing.html#returning-a-view-versus-a-copy\n",
      "  test_set[col] = le.transform(test_set[col])\n",
      "/var/folders/vg/953jt4190_x2bp1n7tcvzfpr0000gn/T/ipykernel_50619/3744793663.py:4: SettingWithCopyWarning: \n",
      "A value is trying to be set on a copy of a slice from a DataFrame.\n",
      "Try using .loc[row_indexer,col_indexer] = value instead\n",
      "\n",
      "See the caveats in the documentation: https://pandas.pydata.org/pandas-docs/stable/user_guide/indexing.html#returning-a-view-versus-a-copy\n",
      "  train_set[col] = le.fit_transform(train_set[col])\n",
      "/var/folders/vg/953jt4190_x2bp1n7tcvzfpr0000gn/T/ipykernel_50619/3744793663.py:5: SettingWithCopyWarning: \n",
      "A value is trying to be set on a copy of a slice from a DataFrame.\n",
      "Try using .loc[row_indexer,col_indexer] = value instead\n",
      "\n",
      "See the caveats in the documentation: https://pandas.pydata.org/pandas-docs/stable/user_guide/indexing.html#returning-a-view-versus-a-copy\n",
      "  test_set[col] = le.transform(test_set[col])\n",
      "/var/folders/vg/953jt4190_x2bp1n7tcvzfpr0000gn/T/ipykernel_50619/3744793663.py:4: SettingWithCopyWarning: \n",
      "A value is trying to be set on a copy of a slice from a DataFrame.\n",
      "Try using .loc[row_indexer,col_indexer] = value instead\n",
      "\n",
      "See the caveats in the documentation: https://pandas.pydata.org/pandas-docs/stable/user_guide/indexing.html#returning-a-view-versus-a-copy\n",
      "  train_set[col] = le.fit_transform(train_set[col])\n",
      "/var/folders/vg/953jt4190_x2bp1n7tcvzfpr0000gn/T/ipykernel_50619/3744793663.py:5: SettingWithCopyWarning: \n",
      "A value is trying to be set on a copy of a slice from a DataFrame.\n",
      "Try using .loc[row_indexer,col_indexer] = value instead\n",
      "\n",
      "See the caveats in the documentation: https://pandas.pydata.org/pandas-docs/stable/user_guide/indexing.html#returning-a-view-versus-a-copy\n",
      "  test_set[col] = le.transform(test_set[col])\n",
      "/var/folders/vg/953jt4190_x2bp1n7tcvzfpr0000gn/T/ipykernel_50619/3744793663.py:4: SettingWithCopyWarning: \n",
      "A value is trying to be set on a copy of a slice from a DataFrame.\n",
      "Try using .loc[row_indexer,col_indexer] = value instead\n",
      "\n",
      "See the caveats in the documentation: https://pandas.pydata.org/pandas-docs/stable/user_guide/indexing.html#returning-a-view-versus-a-copy\n",
      "  train_set[col] = le.fit_transform(train_set[col])\n",
      "/var/folders/vg/953jt4190_x2bp1n7tcvzfpr0000gn/T/ipykernel_50619/3744793663.py:5: SettingWithCopyWarning: \n",
      "A value is trying to be set on a copy of a slice from a DataFrame.\n",
      "Try using .loc[row_indexer,col_indexer] = value instead\n",
      "\n",
      "See the caveats in the documentation: https://pandas.pydata.org/pandas-docs/stable/user_guide/indexing.html#returning-a-view-versus-a-copy\n",
      "  test_set[col] = le.transform(test_set[col])\n",
      "/var/folders/vg/953jt4190_x2bp1n7tcvzfpr0000gn/T/ipykernel_50619/3744793663.py:4: SettingWithCopyWarning: \n",
      "A value is trying to be set on a copy of a slice from a DataFrame.\n",
      "Try using .loc[row_indexer,col_indexer] = value instead\n",
      "\n",
      "See the caveats in the documentation: https://pandas.pydata.org/pandas-docs/stable/user_guide/indexing.html#returning-a-view-versus-a-copy\n",
      "  train_set[col] = le.fit_transform(train_set[col])\n",
      "/var/folders/vg/953jt4190_x2bp1n7tcvzfpr0000gn/T/ipykernel_50619/3744793663.py:5: SettingWithCopyWarning: \n",
      "A value is trying to be set on a copy of a slice from a DataFrame.\n",
      "Try using .loc[row_indexer,col_indexer] = value instead\n",
      "\n",
      "See the caveats in the documentation: https://pandas.pydata.org/pandas-docs/stable/user_guide/indexing.html#returning-a-view-versus-a-copy\n",
      "  test_set[col] = le.transform(test_set[col])\n",
      "/var/folders/vg/953jt4190_x2bp1n7tcvzfpr0000gn/T/ipykernel_50619/3744793663.py:4: SettingWithCopyWarning: \n",
      "A value is trying to be set on a copy of a slice from a DataFrame.\n",
      "Try using .loc[row_indexer,col_indexer] = value instead\n",
      "\n",
      "See the caveats in the documentation: https://pandas.pydata.org/pandas-docs/stable/user_guide/indexing.html#returning-a-view-versus-a-copy\n",
      "  train_set[col] = le.fit_transform(train_set[col])\n",
      "/var/folders/vg/953jt4190_x2bp1n7tcvzfpr0000gn/T/ipykernel_50619/3744793663.py:5: SettingWithCopyWarning: \n",
      "A value is trying to be set on a copy of a slice from a DataFrame.\n",
      "Try using .loc[row_indexer,col_indexer] = value instead\n",
      "\n",
      "See the caveats in the documentation: https://pandas.pydata.org/pandas-docs/stable/user_guide/indexing.html#returning-a-view-versus-a-copy\n",
      "  test_set[col] = le.transform(test_set[col])\n",
      "/var/folders/vg/953jt4190_x2bp1n7tcvzfpr0000gn/T/ipykernel_50619/3744793663.py:4: SettingWithCopyWarning: \n",
      "A value is trying to be set on a copy of a slice from a DataFrame.\n",
      "Try using .loc[row_indexer,col_indexer] = value instead\n",
      "\n",
      "See the caveats in the documentation: https://pandas.pydata.org/pandas-docs/stable/user_guide/indexing.html#returning-a-view-versus-a-copy\n",
      "  train_set[col] = le.fit_transform(train_set[col])\n",
      "/var/folders/vg/953jt4190_x2bp1n7tcvzfpr0000gn/T/ipykernel_50619/3744793663.py:5: SettingWithCopyWarning: \n",
      "A value is trying to be set on a copy of a slice from a DataFrame.\n",
      "Try using .loc[row_indexer,col_indexer] = value instead\n",
      "\n",
      "See the caveats in the documentation: https://pandas.pydata.org/pandas-docs/stable/user_guide/indexing.html#returning-a-view-versus-a-copy\n",
      "  test_set[col] = le.transform(test_set[col])\n",
      "/var/folders/vg/953jt4190_x2bp1n7tcvzfpr0000gn/T/ipykernel_50619/3744793663.py:4: SettingWithCopyWarning: \n",
      "A value is trying to be set on a copy of a slice from a DataFrame.\n",
      "Try using .loc[row_indexer,col_indexer] = value instead\n",
      "\n",
      "See the caveats in the documentation: https://pandas.pydata.org/pandas-docs/stable/user_guide/indexing.html#returning-a-view-versus-a-copy\n",
      "  train_set[col] = le.fit_transform(train_set[col])\n",
      "/var/folders/vg/953jt4190_x2bp1n7tcvzfpr0000gn/T/ipykernel_50619/3744793663.py:5: SettingWithCopyWarning: \n",
      "A value is trying to be set on a copy of a slice from a DataFrame.\n",
      "Try using .loc[row_indexer,col_indexer] = value instead\n",
      "\n",
      "See the caveats in the documentation: https://pandas.pydata.org/pandas-docs/stable/user_guide/indexing.html#returning-a-view-versus-a-copy\n",
      "  test_set[col] = le.transform(test_set[col])\n",
      "/var/folders/vg/953jt4190_x2bp1n7tcvzfpr0000gn/T/ipykernel_50619/3744793663.py:4: SettingWithCopyWarning: \n",
      "A value is trying to be set on a copy of a slice from a DataFrame.\n",
      "Try using .loc[row_indexer,col_indexer] = value instead\n",
      "\n",
      "See the caveats in the documentation: https://pandas.pydata.org/pandas-docs/stable/user_guide/indexing.html#returning-a-view-versus-a-copy\n",
      "  train_set[col] = le.fit_transform(train_set[col])\n",
      "/var/folders/vg/953jt4190_x2bp1n7tcvzfpr0000gn/T/ipykernel_50619/3744793663.py:5: SettingWithCopyWarning: \n",
      "A value is trying to be set on a copy of a slice from a DataFrame.\n",
      "Try using .loc[row_indexer,col_indexer] = value instead\n",
      "\n",
      "See the caveats in the documentation: https://pandas.pydata.org/pandas-docs/stable/user_guide/indexing.html#returning-a-view-versus-a-copy\n",
      "  test_set[col] = le.transform(test_set[col])\n",
      "/var/folders/vg/953jt4190_x2bp1n7tcvzfpr0000gn/T/ipykernel_50619/3744793663.py:4: SettingWithCopyWarning: \n",
      "A value is trying to be set on a copy of a slice from a DataFrame.\n",
      "Try using .loc[row_indexer,col_indexer] = value instead\n",
      "\n",
      "See the caveats in the documentation: https://pandas.pydata.org/pandas-docs/stable/user_guide/indexing.html#returning-a-view-versus-a-copy\n",
      "  train_set[col] = le.fit_transform(train_set[col])\n",
      "/var/folders/vg/953jt4190_x2bp1n7tcvzfpr0000gn/T/ipykernel_50619/3744793663.py:5: SettingWithCopyWarning: \n",
      "A value is trying to be set on a copy of a slice from a DataFrame.\n",
      "Try using .loc[row_indexer,col_indexer] = value instead\n",
      "\n",
      "See the caveats in the documentation: https://pandas.pydata.org/pandas-docs/stable/user_guide/indexing.html#returning-a-view-versus-a-copy\n",
      "  test_set[col] = le.transform(test_set[col])\n",
      "/var/folders/vg/953jt4190_x2bp1n7tcvzfpr0000gn/T/ipykernel_50619/3744793663.py:4: SettingWithCopyWarning: \n",
      "A value is trying to be set on a copy of a slice from a DataFrame.\n",
      "Try using .loc[row_indexer,col_indexer] = value instead\n",
      "\n",
      "See the caveats in the documentation: https://pandas.pydata.org/pandas-docs/stable/user_guide/indexing.html#returning-a-view-versus-a-copy\n",
      "  train_set[col] = le.fit_transform(train_set[col])\n",
      "/var/folders/vg/953jt4190_x2bp1n7tcvzfpr0000gn/T/ipykernel_50619/3744793663.py:5: SettingWithCopyWarning: \n",
      "A value is trying to be set on a copy of a slice from a DataFrame.\n",
      "Try using .loc[row_indexer,col_indexer] = value instead\n",
      "\n",
      "See the caveats in the documentation: https://pandas.pydata.org/pandas-docs/stable/user_guide/indexing.html#returning-a-view-versus-a-copy\n",
      "  test_set[col] = le.transform(test_set[col])\n",
      "/var/folders/vg/953jt4190_x2bp1n7tcvzfpr0000gn/T/ipykernel_50619/3744793663.py:4: SettingWithCopyWarning: \n",
      "A value is trying to be set on a copy of a slice from a DataFrame.\n",
      "Try using .loc[row_indexer,col_indexer] = value instead\n",
      "\n",
      "See the caveats in the documentation: https://pandas.pydata.org/pandas-docs/stable/user_guide/indexing.html#returning-a-view-versus-a-copy\n",
      "  train_set[col] = le.fit_transform(train_set[col])\n",
      "/var/folders/vg/953jt4190_x2bp1n7tcvzfpr0000gn/T/ipykernel_50619/3744793663.py:5: SettingWithCopyWarning: \n",
      "A value is trying to be set on a copy of a slice from a DataFrame.\n",
      "Try using .loc[row_indexer,col_indexer] = value instead\n",
      "\n",
      "See the caveats in the documentation: https://pandas.pydata.org/pandas-docs/stable/user_guide/indexing.html#returning-a-view-versus-a-copy\n",
      "  test_set[col] = le.transform(test_set[col])\n",
      "/var/folders/vg/953jt4190_x2bp1n7tcvzfpr0000gn/T/ipykernel_50619/3744793663.py:4: SettingWithCopyWarning: \n",
      "A value is trying to be set on a copy of a slice from a DataFrame.\n",
      "Try using .loc[row_indexer,col_indexer] = value instead\n",
      "\n",
      "See the caveats in the documentation: https://pandas.pydata.org/pandas-docs/stable/user_guide/indexing.html#returning-a-view-versus-a-copy\n",
      "  train_set[col] = le.fit_transform(train_set[col])\n",
      "/var/folders/vg/953jt4190_x2bp1n7tcvzfpr0000gn/T/ipykernel_50619/3744793663.py:5: SettingWithCopyWarning: \n",
      "A value is trying to be set on a copy of a slice from a DataFrame.\n",
      "Try using .loc[row_indexer,col_indexer] = value instead\n",
      "\n",
      "See the caveats in the documentation: https://pandas.pydata.org/pandas-docs/stable/user_guide/indexing.html#returning-a-view-versus-a-copy\n",
      "  test_set[col] = le.transform(test_set[col])\n",
      "/var/folders/vg/953jt4190_x2bp1n7tcvzfpr0000gn/T/ipykernel_50619/3744793663.py:4: SettingWithCopyWarning: \n",
      "A value is trying to be set on a copy of a slice from a DataFrame.\n",
      "Try using .loc[row_indexer,col_indexer] = value instead\n",
      "\n",
      "See the caveats in the documentation: https://pandas.pydata.org/pandas-docs/stable/user_guide/indexing.html#returning-a-view-versus-a-copy\n",
      "  train_set[col] = le.fit_transform(train_set[col])\n",
      "/var/folders/vg/953jt4190_x2bp1n7tcvzfpr0000gn/T/ipykernel_50619/3744793663.py:5: SettingWithCopyWarning: \n",
      "A value is trying to be set on a copy of a slice from a DataFrame.\n",
      "Try using .loc[row_indexer,col_indexer] = value instead\n",
      "\n",
      "See the caveats in the documentation: https://pandas.pydata.org/pandas-docs/stable/user_guide/indexing.html#returning-a-view-versus-a-copy\n",
      "  test_set[col] = le.transform(test_set[col])\n"
     ]
    }
   ],
   "source": [
    "# Encode Categorical Columns \n",
    "for col in categorical_cols:\n",
    "  le = LabelEncoder()\n",
    "  train_set[col] = le.fit_transform(train_set[col])\n",
    "  test_set[col] = le.transform(test_set[col])\n"
   ]
  },
  {
   "cell_type": "code",
   "execution_count": 1070,
   "metadata": {},
   "outputs": [
    {
     "name": "stderr",
     "output_type": "stream",
     "text": [
      "/var/folders/vg/953jt4190_x2bp1n7tcvzfpr0000gn/T/ipykernel_50619/3238694098.py:2: FutureWarning: The frame.append method is deprecated and will be removed from pandas in a future version. Use pandas.concat instead.\n",
      "  train_df = train_set.append(test_set)\n"
     ]
    }
   ],
   "source": [
    "#merge the encoded train and test sets together\n",
    "train_df = train_set.append(test_set)"
   ]
  },
  {
   "cell_type": "code",
   "execution_count": 1071,
   "metadata": {},
   "outputs": [],
   "source": [
    "train_df.to_csv(\"final1_df.csv\")"
   ]
  },
  {
   "cell_type": "code",
   "execution_count": 1072,
   "metadata": {},
   "outputs": [
    {
     "data": {
      "text/plain": [
       "Index(['id', 'status_group', 'funder', 'installer', 'latitude', 'basin',\n",
       "       'region_code', 'public_meeting', 'extraction_type',\n",
       "       'extraction_type_class', 'payment_type', 'water_quality', 'quantity',\n",
       "       'source', 'waterpoint_type', 'longitude', 'permit', 'scheme_management',\n",
       "       'gps_height', 'age', 'season', 'amount_tsh_missing', 'region_district',\n",
       "       'authority_scheme', 'population_bins'],\n",
       "      dtype='object')"
      ]
     },
     "execution_count": 1072,
     "metadata": {},
     "output_type": "execute_result"
    }
   ],
   "source": [
    "train_df.columns"
   ]
  },
  {
   "cell_type": "code",
   "execution_count": null,
   "metadata": {},
   "outputs": [],
   "source": [
<<<<<<< HEAD
    "filip"
=======
    "fuck"
>>>>>>> 5fccd86a4f6eb8058ec48b0a1228f398a3fb77fe
   ]
  }
 ],
 "metadata": {
  "kernelspec": {
   "display_name": "base",
   "language": "python",
   "name": "python3"
  },
  "language_info": {
   "codemirror_mode": {
    "name": "ipython",
    "version": 3
   },
   "file_extension": ".py",
   "mimetype": "text/x-python",
   "name": "python",
   "nbconvert_exporter": "python",
   "pygments_lexer": "ipython3",
   "version": "3.11.0"
  },
  "orig_nbformat": 4
 },
 "nbformat": 4,
 "nbformat_minor": 2
}
