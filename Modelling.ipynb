{
 "cells": [
  {
   "attachments": {},
   "cell_type": "markdown",
   "metadata": {},
   "source": [
    "# Modelling"
   ]
  },
  {
   "cell_type": "code",
   "execution_count": 29,
   "metadata": {},
   "outputs": [],
   "source": [
    "from xgboost import XGBClassifier\n",
    "import pandas as pd\n",
    "import numpy as np\n",
    "import matplotlib.pyplot as plt\n",
    "%matplotlib inline\n",
    "import seaborn as sns\n",
    "\n",
    "from sklearn.model_selection import train_test_split\n",
    "from sklearn.metrics import confusion_matrix, classification_report, accuracy_score, precision_score, recall_score, f1_score\n",
    "\n",
    "#machine learning\n",
    "from xgboost import XGBClassifier\n",
    "from sklearn.ensemble import BaggingClassifier\n",
    "from sklearn.ensemble import RandomForestClassifier\n",
    "from sklearn.ensemble import VotingClassifier\n",
    "from catboost import CatBoostClassifier\n",
    "from sklearn.preprocessing import LabelEncoder"
   ]
  },
  {
   "cell_type": "code",
   "execution_count": 30,
   "metadata": {},
   "outputs": [
    {
     "name": "stderr",
     "output_type": "stream",
     "text": [
      "C:\\Users\\adamw\\AppData\\Local\\Temp\\ipykernel_14276\\3498357959.py:1: DtypeWarning: Columns (2) have mixed types. Specify dtype option on import or set low_memory=False.\n",
      "  train_set = pd.read_csv(\"final_df.csv\")\n"
     ]
    }
   ],
   "source": [
    "train_set = pd.read_csv(\"final_df.csv\")\n",
    "train_set = train_set.drop('Unnamed: 0', axis=1)"
   ]
  },
  {
   "attachments": {},
   "cell_type": "markdown",
   "metadata": {},
   "source": [
    "### Train/Test Split"
   ]
  },
  {
   "cell_type": "code",
   "execution_count": 31,
   "metadata": {},
   "outputs": [],
   "source": [
    "train_set = train_set[train_set['status_group'].notna()]\n",
    "test_set = train_set[train_set['status_group'].isna()]\n",
    "\n",
    "###define X and y for training the model\n",
    "X= train_set.drop(['id', 'status_group'], axis=1)\n",
    "y = train_set['status_group']\n",
    "\n",
    "encoder = LabelEncoder()\n",
    "y = encoder.fit_transform(y)\n",
    "X_train, X_test, y_train, y_test= train_test_split(X, y, test_size = 0.2, random_state=42 , stratify=y)"
   ]
  },
  {
   "attachments": {},
   "cell_type": "markdown",
   "metadata": {},
   "source": [
    "### AdaBoost Ensemble"
   ]
  },
  {
   "cell_type": "code",
   "execution_count": 32,
   "metadata": {},
   "outputs": [
    {
     "name": "stdout",
     "output_type": "stream",
     "text": [
      "Model 1 accuracy: 0.8135521885521886\n",
      "Model 2 accuracy: 0.8167508417508418\n",
      "Model 3 accuracy: 0.8172558922558922\n",
      "Model 4 accuracy: 0.815993265993266\n",
      "Model 5 accuracy: 0.8131313131313131\n",
      "Model 6 accuracy: 0.8143097643097643\n",
      "Model 7 accuracy: 0.8147306397306397\n",
      "Model 8 accuracy: 0.8137205387205387\n",
      "Model 9 accuracy: 0.8138888888888889\n",
      "Model 10 accuracy: 0.8148148148148148\n",
      "Model 11 accuracy: 0.8123737373737374\n"
     ]
    }
   ],
   "source": [
    "num_models = 11\n",
    "\n",
    "# Step 4: Train the models\n",
    "models = []\n",
    "for i in range(num_models):\n",
    "    model = XGBClassifier(max_depth =12, n_estimators= 200, colsample_bytree = 0.3, eta = 0.2, random_state = i)  # Set desired hyperparameters\n",
    "    model.fit(X_train, y_train)\n",
    "    models.append(model)\n",
    "\n",
    "# Step 5: Evaluate the models\n",
    "for i, model in enumerate(models):\n",
    "    y_pred = model.predict(X_test)\n",
    "    accuracy = accuracy_score(y_test, y_pred)\n",
    "    print(f\"Model {i+1} accuracy: {accuracy}\")\n",
    "\n",
    "\n",
    "pred_train = []\n",
    "for model in models:\n",
    "    y_pred = model.predict(X_train)\n",
    "    pred_train.append(y_pred)\n",
    "\n",
    "pred_test = []\n",
    "for model in models:\n",
    "    y_pred = model.predict(X_test)\n",
    "    pred_test.append(y_pred)\n",
    "\n",
    "# Perform an ensemble operation (e.g., averaging the predictions)\n",
    "pred_train = pd.DataFrame(pred_train).mean(axis=0).astype(int)\n",
    "pred_test = pd.DataFrame(pred_test).mean(axis=0).astype(int)\n"
   ]
  },
  {
   "cell_type": "code",
   "execution_count": 33,
   "metadata": {},
   "outputs": [
    {
     "name": "stdout",
     "output_type": "stream",
     "text": [
      "Accuracy score (train): 0.9625\n",
      "Accuracy score (test): 0.7969\n",
      "Precision score (train): 0.9630\n",
      "Precision score (test): 0.8042\n",
      "Recall score (train): 0.9625\n",
      "Recall score (test): 0.7969\n",
      "F1 score (train): 0.9623\n",
      "F1 score (test): 0.7948\n"
     ]
    }
   ],
   "source": [
    "# Calculate accuracy scores\n",
    "accuracy_train = accuracy_score(y_train, pred_train)\n",
    "accuracy_test = accuracy_score(y_test, pred_test)\n",
    "\n",
    "# Calculate precision scores\n",
    "precision_train = precision_score(y_train, pred_train, average='weighted')\n",
    "precision_test = precision_score(y_test, pred_test, average='weighted')\n",
    "\n",
    "# Calculate recall scores\n",
    "recall_train = recall_score(y_train, pred_train, average='weighted')\n",
    "recall_test = recall_score(y_test, pred_test, average='weighted')\n",
    "\n",
    "# Calculate F1 scores\n",
    "f1_train = f1_score(y_train, pred_train, average='weighted')\n",
    "f1_test = f1_score(y_test, pred_test, average='weighted')\n",
    "\n",
    "# Print the scores\n",
    "print(\"Accuracy score (train): {:.4f}\".format(accuracy_train))\n",
    "print(\"Accuracy score (test): {:.4f}\".format(accuracy_test))\n",
    "print(\"Precision score (train): {:.4f}\".format(precision_train))\n",
    "print(\"Precision score (test): {:.4f}\".format(precision_test))\n",
    "print(\"Recall score (train): {:.4f}\".format(recall_train))\n",
    "print(\"Recall score (test): {:.4f}\".format(recall_test))\n",
    "print(\"F1 score (train): {:.4f}\".format(f1_train))\n",
    "print(\"F1 score (test): {:.4f}\".format(f1_test))"
   ]
  }
 ],
 "metadata": {
  "kernelspec": {
   "display_name": "base",
   "language": "python",
   "name": "python3"
  },
  "language_info": {
   "codemirror_mode": {
    "name": "ipython",
    "version": 3
   },
   "file_extension": ".py",
   "mimetype": "text/x-python",
   "name": "python",
   "nbconvert_exporter": "python",
   "pygments_lexer": "ipython3",
   "version": "3.9.13"
  },
  "orig_nbformat": 4
 },
 "nbformat": 4,
 "nbformat_minor": 2
}
