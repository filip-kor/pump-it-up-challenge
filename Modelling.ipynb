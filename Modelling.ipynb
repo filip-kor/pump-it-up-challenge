{
 "cells": [
  {
   "attachments": {},
   "cell_type": "markdown",
   "metadata": {},
   "source": [
    "# Modelling\n",
    "\n",
    "Models used by BrendaLoznik:\n",
    "- `RandomForestClassifier`\n",
    "- `XGBClassifier`\n",
    "- `CatBoostClassifier`\n",
    "- `BaggingClassifier`\n",
    "- `StackingClassifier`\n",
    "- Weighted Vote\n",
    "- SHAP (SHapley Additive exPlanations) with `TreeExplainer`\n",
    "\n",
    "### **Our contribution**\n",
    "\n",
    "Hyperparameter tuning for `XGBClassifier` and weights tuning for Weighted Vote\n",
    "\n",
    "Implementing new models:\n",
    "- `LGBMClassifier`\n",
    "- `GradientBoostingClassifier`\n",
    "- `AdaBoostClassifier`\n",
    "- `ExtraTreesClassifier`\n",
    "- `MLPClassifier`\n"
   ]
  },
  {
   "cell_type": "code",
   "execution_count": 20,
   "metadata": {},
   "outputs": [],
   "source": [
    "from xgboost import XGBClassifier\n",
    "import pandas as pd\n",
    "import numpy as np\n",
    "import matplotlib.pyplot as plt\n",
    "%matplotlib inline\n",
    "import seaborn as sns\n",
    "\n",
    "from sklearn.model_selection import train_test_split\n",
    "from sklearn.metrics import confusion_matrix, classification_report, accuracy_score, precision_score, recall_score, f1_score\n",
    "\n",
    "#machine learning\n",
    "from sklearn.ensemble import StackingClassifier\n",
    "from sklearn.linear_model import LogisticRegression \n",
    "from sklearn.model_selection import GridSearchCV\n",
    "from xgboost import XGBClassifier\n",
    "from sklearn.ensemble import BaggingClassifier\n",
    "from sklearn.ensemble import RandomForestClassifier\n",
    "from sklearn.ensemble import VotingClassifier\n",
    "from catboost import CatBoostClassifier\n",
    "from sklearn.preprocessing import LabelEncoder\n",
    "\n",
    "from sklearn.model_selection import GridSearchCV\n",
    "from sklearn.metrics import accuracy_score\n",
    "# from lightgbm import LGBMClassifier\n",
    "from sklearn.ensemble import GradientBoostingClassifier, AdaBoostClassifier, ExtraTreesClassifier\n",
    "from sklearn.neural_network import MLPClassifier"
   ]
  },
  {
   "cell_type": "code",
   "execution_count": 21,
   "metadata": {},
   "outputs": [
    {
     "name": "stderr",
     "output_type": "stream",
     "text": [
      "/var/folders/vg/953jt4190_x2bp1n7tcvzfpr0000gn/T/ipykernel_26601/3498357959.py:1: DtypeWarning: Columns (2) have mixed types. Specify dtype option on import or set low_memory=False.\n",
      "  train_set = pd.read_csv(\"final_df.csv\")\n"
     ]
    }
   ],
   "source": [
    "train_set = pd.read_csv(\"final_df.csv\")\n",
    "train_set = train_set.drop('Unnamed: 0', axis=1)"
   ]
  },
  {
   "attachments": {},
   "cell_type": "markdown",
   "metadata": {},
   "source": [
    "### Train/Test Split"
   ]
  },
  {
   "cell_type": "code",
   "execution_count": 22,
   "metadata": {},
   "outputs": [],
   "source": [
    "train_set = train_set[train_set['status_group'].notna()]\n",
    "test_set = train_set[train_set['status_group'].isna()]\n",
    "\n",
    "#define X and y for training the model\n",
    "X= train_set.drop(['id', 'status_group'], axis=1)\n",
    "y = train_set['status_group']\n",
    "\n",
    "encoder = LabelEncoder()\n",
    "y = encoder.fit_transform(y)\n",
    "X_train, X_test, y_train, y_test= train_test_split(X, y, test_size = 0.2, random_state=42 , stratify=y)"
   ]
  },
  {
   "attachments": {},
   "cell_type": "markdown",
   "metadata": {},
   "source": [
    "### Random forest params tuning\n",
    "\n",
    "Performed by BrendaLoznik with the following results:\n",
    "- `max_depth`: 30\n",
    "- `max_features`: 'log2'\n",
    "- `min_samples_split`: 8\n",
    "- `n_estimators`: 150\n"
   ]
  },
  {
   "cell_type": "code",
   "execution_count": null,
   "metadata": {},
   "outputs": [],
   "source": [
    "rf = RandomForestClassifier(max_depth=30, max_features='log2', min_samples_split=8, n_estimators=150, random_state=42, warm_start=True)"
   ]
  },
  {
   "attachments": {},
   "cell_type": "markdown",
   "metadata": {},
   "source": [
    "### XGBoost parameter tuning"
   ]
  },
  {
   "cell_type": "code",
   "execution_count": null,
   "metadata": {},
   "outputs": [],
   "source": [
    "# # Create training and test sets: test size 0.2\n",
    "# X_train, X_test, y_train, y_test= train_test_split(X, y, test_size = 0.2, random_state=42, stratify=y)\n",
    "\n",
    "# param_grid = { \n",
    "#     'n_estimators': [50, 100, 200],\n",
    "#     'colsample_bytree' :[ 0.3, 0.4, 0.5],\n",
    "#     'eta': [0.15, 0.2, 0.3],\n",
    "#     'max_depth': [10, 11, 12, 13, 14, 15]\n",
    "#     }\n",
    "\n",
    "# #Create a based model\n",
    "# xgb = XGBClassifier( random_state=42)\n",
    "\n",
    "# grid_search_xgb = GridSearchCV(estimator = xgb, param_grid = param_grid, cv = 5,  verbose = 2,  scoring = 'accuracy')\n",
    "\n",
    "# #fitmodel\n",
    "# grid_search_xgb.fit(X_train, y_train,  eval_metric = 'mlogloss',)\n",
    "\n",
    "# #print best parameters \n",
    "# print('Best Score:', grid_search_xgb.best_score_)\n",
    "# print('Parameters:', grid_search_xgb.best_params_)\n",
    "# print('Best Model:', grid_search_xgb.best_estimator_)"
   ]
  },
  {
   "cell_type": "code",
   "execution_count": 19,
   "metadata": {},
   "outputs": [],
   "source": [
    "# Best Score: 0.8103495737302167\n",
    "# Parameters: {'colsample_bytree': 0.3, 'eta': 0.15, 'max_depth': 12, 'n_estimators': 100}\n",
    "# Best Model: XGBClassifier(base_score=None, booster=None, callbacks=None,\n",
    "#               colsample_bylevel=None, colsample_bynode=None,\n",
    "#               colsample_bytree=0.3, early_stopping_rounds=None,\n",
    "#               enable_categorical=False, eta=0.15, eval_metric=None,\n",
    "#               feature_types=None, gamma=None, gpu_id=None, grow_policy=None,\n",
    "#               importance_type=None, interaction_constraints=None,\n",
    "#               learning_rate=None, max_bin=None, max_cat_threshold=None,\n",
    "#               max_cat_to_onehot=None, max_delta_step=None, max_depth=12,\n",
    "#               max_leaves=None, min_child_weight=None, missing=nan,\n",
    "#               monotone_constraints=None, n_estimators=100, n_jobs=None,\n",
    "#               num_parallel_tree=None, objective='multi:softprob', ...)"
   ]
  },
  {
   "attachments": {},
   "cell_type": "markdown",
   "metadata": {},
   "source": [
    "### XGBoost Ensemble"
   ]
  },
  {
   "cell_type": "code",
   "execution_count": 23,
   "metadata": {},
   "outputs": [
    {
     "name": "stdout",
     "output_type": "stream",
     "text": [
      "Accuracy score (train): 0.9305\n",
      "Accuracy score (test): 0.8152\n",
      "Precision score (train): 0.9323\n",
      "Precision score (test): 0.8115\n",
      "Recall score (train): 0.9305\n",
      "Recall score (test): 0.8152\n",
      "F1 score (train): 0.9284\n",
      "F1 score (test): 0.8044\n",
      "              precision    recall  f1-score   support\n",
      "\n",
      "           0       0.80      0.92      0.85      6452\n",
      "           1       0.65      0.27      0.38       863\n",
      "           2       0.86      0.78      0.82      4565\n",
      "\n",
      "    accuracy                           0.82     11880\n",
      "   macro avg       0.77      0.65      0.68     11880\n",
      "weighted avg       0.81      0.82      0.80     11880\n",
      "\n"
     ]
    },
    {
     "data": {
      "image/png": "[encoded data removed]",
      "text/plain": [
       "<Figure size 800x500 with 2 Axes>"
      ]
     },
     "metadata": {},
     "output_type": "display_data"
    }
   ],
   "source": [
    "# 100 estimators turns out to be the best\n",
    "\n",
    "xgb1 = XGBClassifier(max_depth =12, n_estimators= 100, colsample_bytree = 0.3, eta = 0.15, random_state = 42)\n",
    "xgb2 = XGBClassifier(max_depth =12, n_estimators= 100, colsample_bytree = 0.3, eta = 0.15, random_state = 2) \n",
    "xgb3 = XGBClassifier(max_depth =12, n_estimators= 100, colsample_bytree = 0.3, eta = 0.15, random_state = 142) \n",
    "xgb4 = XGBClassifier(max_depth =12, n_estimators= 100, colsample_bytree = 0.3, eta = 0.15, random_state = 33 )\n",
    "xgb5 = XGBClassifier(max_depth =12, n_estimators= 100, colsample_bytree = 0.3, eta = 0.15, random_state = 678)\n",
    "xgb6 = XGBClassifier(max_depth =12, n_estimators= 100, colsample_bytree = 0.3, eta = 0.15, random_state = 53)\n",
    "xgb7 = XGBClassifier(max_depth =12, n_estimators= 100, colsample_bytree = 0.3, eta = 0.15, random_state = 23)\n",
    "xgb8 = XGBClassifier(max_depth =12, n_estimators= 100, colsample_bytree = 0.3, eta = 0.15, random_state = 63)\n",
    "xgb9 = XGBClassifier(max_depth =12, n_estimators= 100, colsample_bytree = 0.3, eta = 0.15, random_state = 342)\n",
    "xgb10 = XGBClassifier(max_depth =12, n_estimators= 100, colsample_bytree = 0.3, eta = 0.15, random_state = 634)\n",
    "xgb11 = XGBClassifier(max_depth =12, n_estimators= 100, colsample_bytree = 0.3, eta = 0.15, random_state = 5)\n",
    "\n",
    "# Create training and test sets: test size 0.2\n",
    "X_train, X_test, y_train, y_test= train_test_split(X, y, test_size = 0.2, random_state=42, stratify=y)\n",
    "\n",
    "vc = VotingClassifier([('xgb1', xgb1), ('xgb2', xgb2), ('xgb3', xgb3), ('xgb4', xgb4), ('xgb5', xgb5), ('xgb6', xgb6), ('xgb7', xgb7), ('xgb8', xgb8), ('xgb9', xgb9), ('xgb10', xgb10), ('xgb11', xgb11)], voting = 'soft')       \n",
    "\n",
    "#fit and predict\n",
    "vc.fit(X_train , y_train)\n",
    "pred= vc .predict(X_test)\n",
    "pred_train = vc .predict(X_train)\n",
    "\n",
    "# Calculate accuracy scores\n",
    "accuracy_train = accuracy_score(y_train, pred_train)\n",
    "accuracy_test = accuracy_score(y_test, pred)\n",
    "\n",
    "# Calculate precision scores\n",
    "precision_train = precision_score(y_train, pred_train, average='weighted')\n",
    "precision_test = precision_score(y_test, pred, average='weighted')\n",
    "\n",
    "# Calculate recall scores\n",
    "recall_train = recall_score(y_train, pred_train, average='weighted')\n",
    "recall_test = recall_score(y_test, pred, average='weighted')\n",
    "\n",
    "# Calculate F1 scores\n",
    "f1_train = f1_score(y_train, pred_train, average='weighted')\n",
    "f1_test = f1_score(y_test, pred, average='weighted')\n",
    "\n",
    "print(\"Accuracy score (train): {:.4f}\".format(accuracy_train))\n",
    "print(\"Accuracy score (test): {:.4f}\".format(accuracy_test))\n",
    "print(\"Precision score (train): {:.4f}\".format(precision_train))\n",
    "print(\"Precision score (test): {:.4f}\".format(precision_test))\n",
    "print(\"Recall score (train): {:.4f}\".format(recall_train))\n",
    "print(\"Recall score (test): {:.4f}\".format(recall_test))\n",
    "print(\"F1 score (train): {:.4f}\".format(f1_train))\n",
    "print(\"F1 score (test): {:.4f}\".format(f1_test))\n",
    "\n",
    "#print(confusion_matrix(y_test, y_pred))\n",
    "print(classification_report(y_test, pred))\n",
    "\n",
    "#heatmap\n",
    "fig, ax = plt.subplots(figsize=(8,5)) \n",
    "data = confusion_matrix(y_test, pred)\n",
    "df_cm = pd.DataFrame(data, columns=np.unique(y_test), index = np.unique(y_test))\n",
    "ax = sns.heatmap(df_cm, cmap='Blues', fmt='g' ,annot=True,annot_kws={\"size\": 14})\n",
    "ax.set_xlabel(\"Predicted\")\n",
    "ax.set_ylabel (\"Actual\")\n",
    "ax.set_xticklabels(ax.get_xticklabels(), rotation=45)\n",
    "ax.set_yticklabels(ax.get_xticklabels(), rotation=0)\n",
    "plt.show()"
   ]
  },
  {
   "attachments": {},
   "cell_type": "markdown",
   "metadata": {},
   "source": [
    "### CatBoost\n",
    "\n",
    "Performed by BrendaLoznik with the following results:\n",
    "- `rsm`: 0.2\n",
    "- `max_depth`: '9'\n",
    "- `iterations`: 1000"
   ]
  },
  {
   "cell_type": "code",
   "execution_count": null,
   "metadata": {},
   "outputs": [],
   "source": [
    "cat = CatBoostClassifier(rsm=0.2, max_depth=9, iterations=1000, random_state=42)"
   ]
  },
  {
   "attachments": {},
   "cell_type": "markdown",
   "metadata": {},
   "source": [
    "### Bagging Classifier\n",
    "\n",
    "Performed by BrendaLoznik with the following results:\n",
    "- `n_estimators`: 1000\n",
    "- `max_features`: '0.4'"
   ]
  },
  {
   "cell_type": "code",
   "execution_count": null,
   "metadata": {},
   "outputs": [],
   "source": [
    "bag = BaggingClassifier( random_state=42, n_estimators = 1000, max_features = 0.4 )"
   ]
  },
  {
   "attachments": {},
   "cell_type": "markdown",
   "metadata": {},
   "source": [
    "### Weighted vote"
   ]
  },
  {
   "cell_type": "code",
   "execution_count": 13,
   "metadata": {},
   "outputs": [],
   "source": [
    "rf = RandomForestClassifier(max_depth=30, max_features='log2', min_samples_split=7, n_estimators=225, random_state=42, warm_start=True)\n",
    "xgb = XGBClassifier(max_depth =12, n_estimators= 200, colsample_bytree = 0.3, eta = 0.2, random_state = 42) \n",
    "cat = CatBoostClassifier(max_depth = 9, rsm = 0.2, iterations = 1000, random_state = 42)\n",
    "bag = BaggingClassifier(max_features=0.4, n_estimators=1000, random_state=42) "
   ]
  },
  {
   "cell_type": "code",
   "execution_count": null,
   "metadata": {},
   "outputs": [],
   "source": [
    "import random\n",
    "\n",
    "# Create training and test sets: test size 0.2\n",
    "X_train, X_test, y_train, y_test= train_test_split(X, y, test_size = 0.2, random_state=42, stratify=y)\n",
    "\n",
    "best_weights = [0, 0, 0, 0]\n",
    "best_acc = 0.0\n",
    "\n",
    "i = 0\n",
    "\n",
    "while True:\n",
    "    i+=1\n",
    "\n",
    "    w = [round(random.uniform(0.3, 1.0), 3), round(random.uniform(0.3, 1.0), 3), round(random.uniform(0.3, 1.0), 3), round(random.uniform(0.3, 1.0), 3)]\n",
    "\n",
    "    vc = VotingClassifier([('rf', rf), ('xgb', xgb),('cat', cat), ('bag', bag)], voting = 'soft', weights = w)         \n",
    "\n",
    "    #fit and predict\n",
    "    vc.fit(X_train , y_train)\n",
    "    pred= vc .predict(X_test)\n",
    "    pred_train = vc .predict(X_train)\n",
    "\n",
    "    acc = accuracy_score(y_test, pred)\n",
    "\n",
    "    #print best model scores on test data\n",
    "    print(\"Accuracy score train: {}\".format(accuracy_score(y_train ,pred_train)))\n",
    "    print(\"Accuracy score test: {}\".format(acc))\n",
    "    print(\"Weights:\", w)\n",
    "\n",
    "    if acc > best_acc:\n",
    "        best_acc = acc\n",
    "        best_weights = w\n",
    "\n",
    "    print(\"Best weights:\", best_weights, \"with result:\", best_acc)\n",
    "\n",
    "    # open the file in write mode\n",
    "    with open('output.txt', 'a') as f:\n",
    "        # print best model scores on test data to file\n",
    "        f.write(\"\\nIteration: {}\\n\".format(i))\n",
    "        f.write(\"Accuracy score train: {}\\n\".format(accuracy_score(y_train, pred_train)))\n",
    "        f.write(\"Accuracy score test: {}\\n\".format(acc))\n",
    "        f.write(\"Weights: {}\\n\".format(w))\n",
    "        f.write(\"Best weights: {} with result: {}\\n\".format(best_weights, best_acc))\n",
    "\n",
    "\n",
    "# Best weights: [0.861, 0.78, 0.706, 0.751] with "
   ]
  },
  {
   "attachments": {},
   "cell_type": "markdown",
   "metadata": {},
   "source": [
    "The best weights found are [0.861, 0.78, 0.706, 0.751] with accuracy 0.8175925925925925 after 211 iterations."
   ]
  },
  {
   "attachments": {},
   "cell_type": "markdown",
   "metadata": {},
   "source": [
    "### Stacking\n",
    "\n",
    "Solution by BrendaLoznik"
   ]
  },
  {
   "cell_type": "code",
   "execution_count": null,
   "metadata": {},
   "outputs": [],
   "source": [
    "# Create training and test sets: test size 0.2\n",
    "X_train, X_test, y_train, y_test= train_test_split(X, y, test_size = 0.2, random_state=42, stratify=y)\n",
    "\n",
    "\n",
    "stack = StackingClassifier(\n",
    "    estimators=[('rf', rf), ('xgb', xgb), ('cat', cat), ('bag', bag)],\n",
    "    final_estimator=LogisticRegression()\n",
    "    )\n",
    "                       \n",
    "\n",
    "#fit and predict\n",
    "stack.fit(X_train , y_train)\n",
    "pred= stack.predict(X_test)\n",
    "pred_train = stack.predict(X_train)\n",
    "\n",
    "\n",
    "#print best model scores on test data\n",
    "print(\"Accuracy score train: {}\".format(accuracy_score(y_train ,pred_train)))\n",
    "print(\"Accuracy score test: {}\".format(accuracy_score(y_test, pred)))\n",
    "\n",
    "\n",
    "#print(confusion_matrix(y_test, y_pred))\n",
    "print(classification_report(y_test, pred))\n",
    "\n",
    "#heatmap\n",
    "fig, ax = plt.subplots(figsize=(8,5)) \n",
    "data = confusion_matrix(y_test, pred)\n",
    "df_cm = pd.DataFrame(data, columns=np.unique(y_test), index = np.unique(y_test))\n",
    "ax = sns.heatmap(df_cm, cmap='Blues', fmt='g' ,annot=True,annot_kws={\"size\": 14})\n",
    "ax.set_xlabel(\"Predicted\")\n",
    "ax.set_ylabel (\"Actual\")\n",
    "ax.set_xticklabels(ax.get_xticklabels(), rotation=45)\n",
    "ax.set_yticklabels(ax.get_xticklabels(), rotation=0)\n",
    "plt.show()"
   ]
  },
  {
   "attachments": {},
   "cell_type": "markdown",
   "metadata": {},
   "source": [
    "### SHAP (SHapley Additive exPlanations)\n",
    "\n",
    "Solution by BrendaLoznik"
   ]
  },
  {
   "cell_type": "code",
   "execution_count": null,
   "metadata": {},
   "outputs": [],
   "source": [
    "df=train_set.copy()\n",
    "\n",
    "#calcualte how many samples of each status group I need\n",
    "required_samples = len(df)*0.4  #40%\n",
    "functional_samples = round(required_samples* 0.543081)\n",
    "non_functional_samples = round(required_samples * 0.384242)\n",
    "repair_samples = round(required_samples * 0.072677)\n",
    "\n",
    "#create sepperate df for each status group\n",
    "functional = df[df['status_group']=='functional']\n",
    "non_functional = df[df['status_group']=='non functional']\n",
    "repair = df[df['status_group']=='functional needs repair']\n",
    "\n",
    "#create a random sample of each rstatus group\n",
    "sample_functional = functional.sample(n = functional_samples, random_state=1, )\n",
    "sample_non_functional = non_functional.sample(n = non_functional_samples, random_state=1, )\n",
    "sample_repair = repair.sample(n = repair_samples, random_state=1, )\n",
    "\n",
    "#combine the random samples to a single df\n",
    "sample = sample_functional.append(sample_non_functional)\n",
    "sample = sample.append(sample_repair)\n",
    "\n",
    "#define X and y for training the model\n",
    "X= sample.drop(['id', 'status_group'], axis=1)\n",
    "y = sample['status_group']\n",
    "\n",
    "#define and fit the model\n",
    "rf = RandomForestClassifier(max_depth=30, max_features='log2', min_samples_split=7, n_estimators=225, random_state=42, warm_start=True)\n",
    "rf.fit(X, y)\n",
    "\n",
    "#calculate SHAP\n",
    "explainer = shap.TreeExplainer(rf)\n",
    "shap_values_train = explainer.shap_values(X)\n",
    "\n",
    "#plot SHAP\n",
    "shap.summary_plot(shap_values_train, X_train.values, plot_type=\"bar\",  feature_names = X.columns)\n"
   ]
  },
  {
   "attachments": {},
   "cell_type": "markdown",
   "metadata": {},
   "source": [
    "## New models"
   ]
  },
  {
   "cell_type": "code",
   "execution_count": 24,
   "metadata": {},
   "outputs": [],
   "source": [
    "# Create training and test sets: test size 0.2\n",
    "X_train, X_test, y_train, y_test = train_test_split(X, y, test_size=0.2, random_state=42, stratify=y)"
   ]
  },
  {
   "attachments": {},
   "cell_type": "markdown",
   "metadata": {},
   "source": [
    "### Light GBM"
   ]
  },
  {
   "cell_type": "code",
   "execution_count": null,
   "metadata": {},
   "outputs": [],
   "source": [
    "# LightGBM\n",
    "param_grid_lgbm = {\n",
    "    'max_depth': [7, 8, 9],\n",
    "    'num_iterations': [1000, 750],\n",
    "    'bagging_fraction': [0.3, 0.2]\n",
    "}\n",
    "\n",
    "lgbm = LGBMClassifier(random_state=42)\n",
    "grid_search_lgbm = GridSearchCV(estimator=lgbm, param_grid=param_grid_lgbm, cv=5, verbose=2, scoring='accuracy')\n",
    "grid_search_lgbm.fit(X_train, y_train)\n",
    "\n",
    "print('LightGBM - Best Score:', grid_search_lgbm.best_score_)\n",
    "print('LightGBM - Best Parameters:', grid_search_lgbm.best_params_)\n",
    "print('LightGBM - Best Model:', grid_search_lgbm.best_estimator_)\n",
    "print()"
   ]
  },
  {
   "attachments": {},
   "cell_type": "markdown",
   "metadata": {},
   "source": [
    "### Gradient Boosting"
   ]
  },
  {
   "cell_type": "code",
   "execution_count": null,
   "metadata": {},
   "outputs": [],
   "source": [
    "# Gradient Boosting\n",
    "param_grid_gb = {\n",
    "    'max_depth': [7, 8, 9],\n",
    "    'n_estimators': [1000, 750],\n",
    "    'learning_rate': [0.1, 0.01]\n",
    "}\n",
    "\n",
    "gb = GradientBoostingClassifier(random_state=42)\n",
    "grid_search_gb = GridSearchCV(estimator=gb, param_grid=param_grid_gb, cv=5, verbose=2, scoring='accuracy')\n",
    "grid_search_gb.fit(X_train, y_train)\n",
    "\n",
    "print('Gradient Boosting - Best Score:', grid_search_gb.best_score_)\n",
    "print('Gradient Boosting - Best Parameters:', grid_search_gb.best_params_)\n",
    "print('Gradient Boosting - Best Model:', grid_search_gb.best_estimator_)\n",
    "print()"
   ]
  },
  {
   "cell_type": "code",
   "execution_count": null,
   "metadata": {},
   "outputs": [],
   "source": [
    "# Best performing model\n",
    "# gb = GradientBoostingClassifier(max_depth=, n_estimators=, learning_rate=, random_state=42)"
   ]
  },
  {
   "attachments": {},
   "cell_type": "markdown",
   "metadata": {},
   "source": [
    "### AdaBoost"
   ]
  },
  {
   "cell_type": "code",
   "execution_count": 26,
   "metadata": {},
   "outputs": [
    {
     "name": "stdout",
     "output_type": "stream",
     "text": [
      "Fitting 5 folds for each of 9 candidates, totalling 45 fits\n",
      "[CV] END ................learning_rate=0.1, n_estimators=100; total time=   2.8s\n",
      "[CV] END ................learning_rate=0.1, n_estimators=100; total time=   2.8s\n",
      "[CV] END ................learning_rate=0.1, n_estimators=100; total time=   2.8s\n",
      "[CV] END ................learning_rate=0.1, n_estimators=100; total time=   2.8s\n",
      "[CV] END ................learning_rate=0.1, n_estimators=100; total time=   2.8s\n",
      "[CV] END ................learning_rate=0.1, n_estimators=200; total time=   5.7s\n",
      "[CV] END ................learning_rate=0.1, n_estimators=200; total time=   5.7s\n",
      "[CV] END ................learning_rate=0.1, n_estimators=200; total time=   5.6s\n",
      "[CV] END ................learning_rate=0.1, n_estimators=200; total time=   5.6s\n",
      "[CV] END ................learning_rate=0.1, n_estimators=200; total time=   5.6s\n",
      "[CV] END ................learning_rate=0.1, n_estimators=300; total time=   8.8s\n",
      "[CV] END ................learning_rate=0.1, n_estimators=300; total time=   8.8s\n",
      "[CV] END ................learning_rate=0.1, n_estimators=300; total time=   8.7s\n",
      "[CV] END ................learning_rate=0.1, n_estimators=300; total time=   8.5s\n",
      "[CV] END ................learning_rate=0.1, n_estimators=300; total time=   8.7s\n",
      "[CV] END ...............learning_rate=0.01, n_estimators=100; total time=   2.8s\n",
      "[CV] END ...............learning_rate=0.01, n_estimators=100; total time=   2.9s\n",
      "[CV] END ...............learning_rate=0.01, n_estimators=100; total time=   2.9s\n",
      "[CV] END ...............learning_rate=0.01, n_estimators=100; total time=   2.8s\n",
      "[CV] END ...............learning_rate=0.01, n_estimators=100; total time=   2.8s\n",
      "[CV] END ...............learning_rate=0.01, n_estimators=200; total time=   5.6s\n",
      "[CV] END ...............learning_rate=0.01, n_estimators=200; total time=   5.7s\n",
      "[CV] END ...............learning_rate=0.01, n_estimators=200; total time=   5.6s\n",
      "[CV] END ...............learning_rate=0.01, n_estimators=200; total time=   5.6s\n",
      "[CV] END ...............learning_rate=0.01, n_estimators=200; total time=   5.6s\n",
      "[CV] END ...............learning_rate=0.01, n_estimators=300; total time=   8.6s\n",
      "[CV] END ...............learning_rate=0.01, n_estimators=300; total time=   8.6s\n",
      "[CV] END ...............learning_rate=0.01, n_estimators=300; total time=   8.7s\n",
      "[CV] END ...............learning_rate=0.01, n_estimators=300; total time=   8.8s\n",
      "[CV] END ...............learning_rate=0.01, n_estimators=300; total time=   8.8s\n",
      "[CV] END ..............learning_rate=0.001, n_estimators=100; total time=   2.8s\n",
      "[CV] END ..............learning_rate=0.001, n_estimators=100; total time=   2.9s\n",
      "[CV] END ..............learning_rate=0.001, n_estimators=100; total time=   2.9s\n",
      "[CV] END ..............learning_rate=0.001, n_estimators=100; total time=   2.9s\n",
      "[CV] END ..............learning_rate=0.001, n_estimators=100; total time=   2.9s\n",
      "[CV] END ..............learning_rate=0.001, n_estimators=200; total time=   5.8s\n",
      "[CV] END ..............learning_rate=0.001, n_estimators=200; total time=   5.6s\n",
      "[CV] END ..............learning_rate=0.001, n_estimators=200; total time=   5.7s\n",
      "[CV] END ..............learning_rate=0.001, n_estimators=200; total time=   5.9s\n",
      "[CV] END ..............learning_rate=0.001, n_estimators=200; total time=   5.7s\n",
      "[CV] END ..............learning_rate=0.001, n_estimators=300; total time=  10.9s\n",
      "[CV] END ..............learning_rate=0.001, n_estimators=300; total time=   9.1s\n",
      "[CV] END ..............learning_rate=0.001, n_estimators=300; total time=   9.1s\n",
      "[CV] END ..............learning_rate=0.001, n_estimators=300; total time=   8.6s\n",
      "[CV] END ..............learning_rate=0.001, n_estimators=300; total time=   8.6s\n",
      "AdaBoost - Best Score: 0.7343167659087632\n",
      "AdaBoost - Best Parameters: {'learning_rate': 0.1, 'n_estimators': 300}\n",
      "AdaBoost - Best Model: AdaBoostClassifier(learning_rate=0.1, n_estimators=300, random_state=42)\n",
      "\n"
     ]
    }
   ],
   "source": [
    "# AdaBoost\n",
    "param_grid_ada = {\n",
    "    'n_estimators': [100, 200, 300],\n",
    "    'learning_rate': [0.1, 0.01, 0.001]\n",
    "}\n",
    "\n",
    "ada = AdaBoostClassifier(random_state=42)\n",
    "grid_search_ada = GridSearchCV(estimator=ada, param_grid=param_grid_ada, cv=5, verbose=2, scoring='accuracy')\n",
    "grid_search_ada.fit(X_train, y_train)\n",
    "\n",
    "print('AdaBoost - Best Score:', grid_search_ada.best_score_)\n",
    "print('AdaBoost - Best Parameters:', grid_search_ada.best_params_)\n",
    "print('AdaBoost - Best Model:', grid_search_ada.best_estimator_)\n",
    "print()"
   ]
  },
  {
   "attachments": {},
   "cell_type": "markdown",
   "metadata": {},
   "source": [
    "AdaBoost - Best Score: 0.7343167659087632\n",
    "\n",
    "AdaBoost - Best Parameters: {'learning_rate': 0.1, 'n_estimators': 300}\n",
    "\n",
    "AdaBoost - Best Model: AdaBoostClassifier(learning_rate=0.1, n_estimators=300, random_state=42)"
   ]
  },
  {
   "cell_type": "code",
   "execution_count": null,
   "metadata": {},
   "outputs": [],
   "source": [
    "# Best performing model\n",
    "ada = AdaBoostClassifier(n_estimators=300, learning_rate=0.1, random_state=42)"
   ]
  },
  {
   "attachments": {},
   "cell_type": "markdown",
   "metadata": {},
   "source": [
    "### Extra Trees"
   ]
  },
  {
   "cell_type": "code",
   "execution_count": 27,
   "metadata": {},
   "outputs": [
    {
     "name": "stdout",
     "output_type": "stream",
     "text": [
      "Fitting 5 folds for each of 27 candidates, totalling 135 fits\n",
      "[CV] END .max_depth=7, min_samples_split=2, n_estimators=100; total time=   1.1s\n",
      "[CV] END .max_depth=7, min_samples_split=2, n_estimators=100; total time=   1.0s\n",
      "[CV] END .max_depth=7, min_samples_split=2, n_estimators=100; total time=   1.0s\n",
      "[CV] END .max_depth=7, min_samples_split=2, n_estimators=100; total time=   1.1s\n",
      "[CV] END .max_depth=7, min_samples_split=2, n_estimators=100; total time=   1.1s\n",
      "[CV] END .max_depth=7, min_samples_split=2, n_estimators=200; total time=   2.2s\n",
      "[CV] END .max_depth=7, min_samples_split=2, n_estimators=200; total time=   2.1s\n",
      "[CV] END .max_depth=7, min_samples_split=2, n_estimators=200; total time=   2.2s\n",
      "[CV] END .max_depth=7, min_samples_split=2, n_estimators=200; total time=   2.3s\n",
      "[CV] END .max_depth=7, min_samples_split=2, n_estimators=200; total time=   2.2s\n",
      "[CV] END .max_depth=7, min_samples_split=2, n_estimators=300; total time=   3.0s\n",
      "[CV] END .max_depth=7, min_samples_split=2, n_estimators=300; total time=   3.1s\n",
      "[CV] END .max_depth=7, min_samples_split=2, n_estimators=300; total time=   3.0s\n",
      "[CV] END .max_depth=7, min_samples_split=2, n_estimators=300; total time=   3.0s\n",
      "[CV] END .max_depth=7, min_samples_split=2, n_estimators=300; total time=   3.0s\n",
      "[CV] END .max_depth=7, min_samples_split=4, n_estimators=100; total time=   1.0s\n",
      "[CV] END .max_depth=7, min_samples_split=4, n_estimators=100; total time=   1.0s\n",
      "[CV] END .max_depth=7, min_samples_split=4, n_estimators=100; total time=   1.0s\n",
      "[CV] END .max_depth=7, min_samples_split=4, n_estimators=100; total time=   1.0s\n",
      "[CV] END .max_depth=7, min_samples_split=4, n_estimators=100; total time=   1.0s\n",
      "[CV] END .max_depth=7, min_samples_split=4, n_estimators=200; total time=   2.0s\n",
      "[CV] END .max_depth=7, min_samples_split=4, n_estimators=200; total time=   2.0s\n",
      "[CV] END .max_depth=7, min_samples_split=4, n_estimators=200; total time=   2.0s\n",
      "[CV] END .max_depth=7, min_samples_split=4, n_estimators=200; total time=   2.0s\n",
      "[CV] END .max_depth=7, min_samples_split=4, n_estimators=200; total time=   2.0s\n",
      "[CV] END .max_depth=7, min_samples_split=4, n_estimators=300; total time=   3.1s\n",
      "[CV] END .max_depth=7, min_samples_split=4, n_estimators=300; total time=   3.3s\n",
      "[CV] END .max_depth=7, min_samples_split=4, n_estimators=300; total time=   3.2s\n",
      "[CV] END .max_depth=7, min_samples_split=4, n_estimators=300; total time=   3.0s\n",
      "[CV] END .max_depth=7, min_samples_split=4, n_estimators=300; total time=   3.1s\n",
      "[CV] END .max_depth=7, min_samples_split=6, n_estimators=100; total time=   1.1s\n",
      "[CV] END .max_depth=7, min_samples_split=6, n_estimators=100; total time=   1.1s\n",
      "[CV] END .max_depth=7, min_samples_split=6, n_estimators=100; total time=   1.0s\n",
      "[CV] END .max_depth=7, min_samples_split=6, n_estimators=100; total time=   1.0s\n",
      "[CV] END .max_depth=7, min_samples_split=6, n_estimators=100; total time=   1.0s\n",
      "[CV] END .max_depth=7, min_samples_split=6, n_estimators=200; total time=   2.1s\n",
      "[CV] END .max_depth=7, min_samples_split=6, n_estimators=200; total time=   2.0s\n",
      "[CV] END .max_depth=7, min_samples_split=6, n_estimators=200; total time=   2.0s\n",
      "[CV] END .max_depth=7, min_samples_split=6, n_estimators=200; total time=   2.1s\n",
      "[CV] END .max_depth=7, min_samples_split=6, n_estimators=200; total time=   2.1s\n",
      "[CV] END .max_depth=7, min_samples_split=6, n_estimators=300; total time=   3.1s\n",
      "[CV] END .max_depth=7, min_samples_split=6, n_estimators=300; total time=   3.0s\n",
      "[CV] END .max_depth=7, min_samples_split=6, n_estimators=300; total time=   3.1s\n",
      "[CV] END .max_depth=7, min_samples_split=6, n_estimators=300; total time=   3.1s\n",
      "[CV] END .max_depth=7, min_samples_split=6, n_estimators=300; total time=   3.1s\n",
      "[CV] END .max_depth=8, min_samples_split=2, n_estimators=100; total time=   1.1s\n",
      "[CV] END .max_depth=8, min_samples_split=2, n_estimators=100; total time=   1.1s\n",
      "[CV] END .max_depth=8, min_samples_split=2, n_estimators=100; total time=   1.1s\n",
      "[CV] END .max_depth=8, min_samples_split=2, n_estimators=100; total time=   1.1s\n",
      "[CV] END .max_depth=8, min_samples_split=2, n_estimators=100; total time=   1.1s\n",
      "[CV] END .max_depth=8, min_samples_split=2, n_estimators=200; total time=   2.2s\n",
      "[CV] END .max_depth=8, min_samples_split=2, n_estimators=200; total time=   2.2s\n",
      "[CV] END .max_depth=8, min_samples_split=2, n_estimators=200; total time=   2.2s\n",
      "[CV] END .max_depth=8, min_samples_split=2, n_estimators=200; total time=   2.2s\n",
      "[CV] END .max_depth=8, min_samples_split=2, n_estimators=200; total time=   2.2s\n",
      "[CV] END .max_depth=8, min_samples_split=2, n_estimators=300; total time=   3.3s\n",
      "[CV] END .max_depth=8, min_samples_split=2, n_estimators=300; total time=   3.5s\n",
      "[CV] END .max_depth=8, min_samples_split=2, n_estimators=300; total time=   3.3s\n",
      "[CV] END .max_depth=8, min_samples_split=2, n_estimators=300; total time=   3.4s\n",
      "[CV] END .max_depth=8, min_samples_split=2, n_estimators=300; total time=   3.4s\n",
      "[CV] END .max_depth=8, min_samples_split=4, n_estimators=100; total time=   1.1s\n",
      "[CV] END .max_depth=8, min_samples_split=4, n_estimators=100; total time=   1.1s\n",
      "[CV] END .max_depth=8, min_samples_split=4, n_estimators=100; total time=   1.1s\n",
      "[CV] END .max_depth=8, min_samples_split=4, n_estimators=100; total time=   1.1s\n",
      "[CV] END .max_depth=8, min_samples_split=4, n_estimators=100; total time=   1.1s\n",
      "[CV] END .max_depth=8, min_samples_split=4, n_estimators=200; total time=   2.2s\n",
      "[CV] END .max_depth=8, min_samples_split=4, n_estimators=200; total time=   2.2s\n",
      "[CV] END .max_depth=8, min_samples_split=4, n_estimators=200; total time=   2.2s\n",
      "[CV] END .max_depth=8, min_samples_split=4, n_estimators=200; total time=   2.2s\n",
      "[CV] END .max_depth=8, min_samples_split=4, n_estimators=200; total time=   2.2s\n",
      "[CV] END .max_depth=8, min_samples_split=4, n_estimators=300; total time=   3.3s\n",
      "[CV] END .max_depth=8, min_samples_split=4, n_estimators=300; total time=   3.3s\n",
      "[CV] END .max_depth=8, min_samples_split=4, n_estimators=300; total time=   3.3s\n",
      "[CV] END .max_depth=8, min_samples_split=4, n_estimators=300; total time=   3.3s\n",
      "[CV] END .max_depth=8, min_samples_split=4, n_estimators=300; total time=   3.3s\n",
      "[CV] END .max_depth=8, min_samples_split=6, n_estimators=100; total time=   1.1s\n",
      "[CV] END .max_depth=8, min_samples_split=6, n_estimators=100; total time=   1.1s\n",
      "[CV] END .max_depth=8, min_samples_split=6, n_estimators=100; total time=   1.1s\n",
      "[CV] END .max_depth=8, min_samples_split=6, n_estimators=100; total time=   1.1s\n",
      "[CV] END .max_depth=8, min_samples_split=6, n_estimators=100; total time=   1.1s\n",
      "[CV] END .max_depth=8, min_samples_split=6, n_estimators=200; total time=   2.4s\n",
      "[CV] END .max_depth=8, min_samples_split=6, n_estimators=200; total time=   2.3s\n",
      "[CV] END .max_depth=8, min_samples_split=6, n_estimators=200; total time=   2.3s\n",
      "[CV] END .max_depth=8, min_samples_split=6, n_estimators=200; total time=   2.3s\n",
      "[CV] END .max_depth=8, min_samples_split=6, n_estimators=200; total time=   2.3s\n",
      "[CV] END .max_depth=8, min_samples_split=6, n_estimators=300; total time=   3.4s\n",
      "[CV] END .max_depth=8, min_samples_split=6, n_estimators=300; total time=   3.3s\n",
      "[CV] END .max_depth=8, min_samples_split=6, n_estimators=300; total time=   3.3s\n",
      "[CV] END .max_depth=8, min_samples_split=6, n_estimators=300; total time=   3.4s\n",
      "[CV] END .max_depth=8, min_samples_split=6, n_estimators=300; total time=   3.4s\n",
      "[CV] END .max_depth=9, min_samples_split=2, n_estimators=100; total time=   1.2s\n",
      "[CV] END .max_depth=9, min_samples_split=2, n_estimators=100; total time=   1.2s\n",
      "[CV] END .max_depth=9, min_samples_split=2, n_estimators=100; total time=   1.2s\n",
      "[CV] END .max_depth=9, min_samples_split=2, n_estimators=100; total time=   1.3s\n",
      "[CV] END .max_depth=9, min_samples_split=2, n_estimators=100; total time=   1.2s\n",
      "[CV] END .max_depth=9, min_samples_split=2, n_estimators=200; total time=   2.5s\n",
      "[CV] END .max_depth=9, min_samples_split=2, n_estimators=200; total time=   2.5s\n",
      "[CV] END .max_depth=9, min_samples_split=2, n_estimators=200; total time=   2.5s\n",
      "[CV] END .max_depth=9, min_samples_split=2, n_estimators=200; total time=   2.4s\n",
      "[CV] END .max_depth=9, min_samples_split=2, n_estimators=200; total time=   2.5s\n",
      "[CV] END .max_depth=9, min_samples_split=2, n_estimators=300; total time=   3.7s\n",
      "[CV] END .max_depth=9, min_samples_split=2, n_estimators=300; total time=   3.8s\n",
      "[CV] END .max_depth=9, min_samples_split=2, n_estimators=300; total time=   3.7s\n",
      "[CV] END .max_depth=9, min_samples_split=2, n_estimators=300; total time=   3.8s\n",
      "[CV] END .max_depth=9, min_samples_split=2, n_estimators=300; total time=   3.9s\n",
      "[CV] END .max_depth=9, min_samples_split=4, n_estimators=100; total time=   1.4s\n",
      "[CV] END .max_depth=9, min_samples_split=4, n_estimators=100; total time=   1.4s\n",
      "[CV] END .max_depth=9, min_samples_split=4, n_estimators=100; total time=   1.3s\n",
      "[CV] END .max_depth=9, min_samples_split=4, n_estimators=100; total time=   1.3s\n",
      "[CV] END .max_depth=9, min_samples_split=4, n_estimators=100; total time=   1.4s\n",
      "[CV] END .max_depth=9, min_samples_split=4, n_estimators=200; total time=   2.6s\n",
      "[CV] END .max_depth=9, min_samples_split=4, n_estimators=200; total time=   2.4s\n",
      "[CV] END .max_depth=9, min_samples_split=4, n_estimators=200; total time=   2.5s\n",
      "[CV] END .max_depth=9, min_samples_split=4, n_estimators=200; total time=   2.5s\n",
      "[CV] END .max_depth=9, min_samples_split=4, n_estimators=200; total time=   2.5s\n",
      "[CV] END .max_depth=9, min_samples_split=4, n_estimators=300; total time=   3.8s\n",
      "[CV] END .max_depth=9, min_samples_split=4, n_estimators=300; total time=   3.7s\n",
      "[CV] END .max_depth=9, min_samples_split=4, n_estimators=300; total time=   3.7s\n",
      "[CV] END .max_depth=9, min_samples_split=4, n_estimators=300; total time=   3.8s\n",
      "[CV] END .max_depth=9, min_samples_split=4, n_estimators=300; total time=   3.8s\n",
      "[CV] END .max_depth=9, min_samples_split=6, n_estimators=100; total time=   1.2s\n",
      "[CV] END .max_depth=9, min_samples_split=6, n_estimators=100; total time=   1.2s\n",
      "[CV] END .max_depth=9, min_samples_split=6, n_estimators=100; total time=   1.2s\n",
      "[CV] END .max_depth=9, min_samples_split=6, n_estimators=100; total time=   1.2s\n",
      "[CV] END .max_depth=9, min_samples_split=6, n_estimators=100; total time=   1.2s\n",
      "[CV] END .max_depth=9, min_samples_split=6, n_estimators=200; total time=   2.5s\n",
      "[CV] END .max_depth=9, min_samples_split=6, n_estimators=200; total time=   2.4s\n",
      "[CV] END .max_depth=9, min_samples_split=6, n_estimators=200; total time=   2.4s\n",
      "[CV] END .max_depth=9, min_samples_split=6, n_estimators=200; total time=   2.4s\n",
      "[CV] END .max_depth=9, min_samples_split=6, n_estimators=200; total time=   2.4s\n",
      "[CV] END .max_depth=9, min_samples_split=6, n_estimators=300; total time=   3.7s\n",
      "[CV] END .max_depth=9, min_samples_split=6, n_estimators=300; total time=   3.7s\n",
      "[CV] END .max_depth=9, min_samples_split=6, n_estimators=300; total time=   3.6s\n",
      "[CV] END .max_depth=9, min_samples_split=6, n_estimators=300; total time=   3.6s\n",
      "[CV] END .max_depth=9, min_samples_split=6, n_estimators=300; total time=   3.6s\n",
      "Extra Trees Classifier - Best Score: 0.7503104017125904\n",
      "Extra Trees Classifier - Best Parameters: {'max_depth': 9, 'min_samples_split': 4, 'n_estimators': 200}\n",
      "Extra Trees Classifier - Best Model: ExtraTreesClassifier(max_depth=9, min_samples_split=4, n_estimators=200,\n",
      "                     random_state=42)\n",
      "\n"
     ]
    }
   ],
   "source": [
    "# Extra Trees Classifier\n",
    "param_grid_etc = {\n",
    "    'max_depth': [7, 8, 9],\n",
    "    'n_estimators': [100, 200, 300],\n",
    "    'min_samples_split': [2, 4, 6]\n",
    "}\n",
    "\n",
    "etc = ExtraTreesClassifier(random_state=42)\n",
    "grid_search_etc = GridSearchCV(estimator=etc, param_grid=param_grid_etc, cv=5, verbose=2, scoring='accuracy')\n",
    "grid_search_etc.fit(X_train, y_train)\n",
    "\n",
    "print('Extra Trees Classifier - Best Score:', grid_search_etc.best_score_)\n",
    "print('Extra Trees Classifier - Best Parameters:', grid_search_etc.best_params_)\n",
    "print('Extra Trees Classifier - Best Model:', grid_search_etc.best_estimator_)\n",
    "print()"
   ]
  },
  {
   "attachments": {},
   "cell_type": "markdown",
   "metadata": {},
   "source": [
    "Extra Trees Classifier - Best Score: 0.7503104017125904\n",
    "\n",
    "Extra Trees Classifier - Best Parameters: {'max_depth': 9, 'min_samples_split': 4, 'n_estimators': 200}\n",
    "\n",
    "Extra Trees Classifier - Best Model: ExtraTreesClassifier(max_depth=9, min_samples_split=4, n_estimators=200,\n",
    "                     random_state=42)"
   ]
  },
  {
   "cell_type": "code",
   "execution_count": null,
   "metadata": {},
   "outputs": [],
   "source": [
    "# Best performing model\n",
    "etc = ExtraTreesClassifier(max_depth=0, n_estimators=200, min_samples_split=4, random_state=42)"
   ]
  },
  {
   "attachments": {},
   "cell_type": "markdown",
   "metadata": {},
   "source": [
    "### Artificial Neural Networks"
   ]
  },
  {
   "cell_type": "code",
   "execution_count": 29,
   "metadata": {},
   "outputs": [
    {
     "name": "stdout",
     "output_type": "stream",
     "text": [
      "Fitting 5 folds for each of 24 candidates, totalling 120 fits\n",
      "[CV] END activation=relu, hidden_layer_sizes=(100,), learning_rate=constant, solver=adam; total time=   7.4s\n",
      "[CV] END activation=relu, hidden_layer_sizes=(100,), learning_rate=constant, solver=adam; total time=   5.6s\n",
      "[CV] END activation=relu, hidden_layer_sizes=(100,), learning_rate=constant, solver=adam; total time=   7.1s\n",
      "[CV] END activation=relu, hidden_layer_sizes=(100,), learning_rate=constant, solver=adam; total time=   4.1s\n",
      "[CV] END activation=relu, hidden_layer_sizes=(100,), learning_rate=constant, solver=adam; total time=   6.6s\n",
      "[CV] END activation=relu, hidden_layer_sizes=(100,), learning_rate=constant, solver=sgd; total time=   5.5s\n",
      "[CV] END activation=relu, hidden_layer_sizes=(100,), learning_rate=constant, solver=sgd; total time=   3.7s\n",
      "[CV] END activation=relu, hidden_layer_sizes=(100,), learning_rate=constant, solver=sgd; total time=   5.5s\n",
      "[CV] END activation=relu, hidden_layer_sizes=(100,), learning_rate=constant, solver=sgd; total time=   5.5s\n",
      "[CV] END activation=relu, hidden_layer_sizes=(100,), learning_rate=constant, solver=sgd; total time=   5.8s\n",
      "[CV] END activation=relu, hidden_layer_sizes=(100,), learning_rate=adaptive, solver=adam; total time=   6.1s\n",
      "[CV] END activation=relu, hidden_layer_sizes=(100,), learning_rate=adaptive, solver=adam; total time=   4.6s\n",
      "[CV] END activation=relu, hidden_layer_sizes=(100,), learning_rate=adaptive, solver=adam; total time=   8.9s\n",
      "[CV] END activation=relu, hidden_layer_sizes=(100,), learning_rate=adaptive, solver=adam; total time=   5.0s\n",
      "[CV] END activation=relu, hidden_layer_sizes=(100,), learning_rate=adaptive, solver=adam; total time=   6.8s\n"
     ]
    },
    {
     "name": "stderr",
     "output_type": "stream",
     "text": [
      "/Users/filip/miniconda3/envs/dsml/lib/python3.11/site-packages/sklearn/neural_network/_multilayer_perceptron.py:684: ConvergenceWarning: Stochastic Optimizer: Maximum iterations (200) reached and the optimization hasn't converged yet.\n",
      "  warnings.warn(\n"
     ]
    },
    {
     "name": "stdout",
     "output_type": "stream",
     "text": [
      "[CV] END activation=relu, hidden_layer_sizes=(100,), learning_rate=adaptive, solver=sgd; total time=  24.8s\n"
     ]
    },
    {
     "name": "stderr",
     "output_type": "stream",
     "text": [
      "/Users/filip/miniconda3/envs/dsml/lib/python3.11/site-packages/sklearn/neural_network/_multilayer_perceptron.py:684: ConvergenceWarning: Stochastic Optimizer: Maximum iterations (200) reached and the optimization hasn't converged yet.\n",
      "  warnings.warn(\n"
     ]
    },
    {
     "name": "stdout",
     "output_type": "stream",
     "text": [
      "[CV] END activation=relu, hidden_layer_sizes=(100,), learning_rate=adaptive, solver=sgd; total time=  26.0s\n"
     ]
    },
    {
     "name": "stderr",
     "output_type": "stream",
     "text": [
      "/Users/filip/miniconda3/envs/dsml/lib/python3.11/site-packages/sklearn/neural_network/_multilayer_perceptron.py:684: ConvergenceWarning: Stochastic Optimizer: Maximum iterations (200) reached and the optimization hasn't converged yet.\n",
      "  warnings.warn(\n"
     ]
    },
    {
     "name": "stdout",
     "output_type": "stream",
     "text": [
      "[CV] END activation=relu, hidden_layer_sizes=(100,), learning_rate=adaptive, solver=sgd; total time=  23.5s\n",
      "[CV] END activation=relu, hidden_layer_sizes=(100,), learning_rate=adaptive, solver=sgd; total time=  15.5s\n"
     ]
    },
    {
     "name": "stderr",
     "output_type": "stream",
     "text": [
      "/Users/filip/miniconda3/envs/dsml/lib/python3.11/site-packages/sklearn/neural_network/_multilayer_perceptron.py:684: ConvergenceWarning: Stochastic Optimizer: Maximum iterations (200) reached and the optimization hasn't converged yet.\n",
      "  warnings.warn(\n"
     ]
    },
    {
     "name": "stdout",
     "output_type": "stream",
     "text": [
      "[CV] END activation=relu, hidden_layer_sizes=(100,), learning_rate=adaptive, solver=sgd; total time=  22.3s\n",
      "[CV] END activation=relu, hidden_layer_sizes=(50, 50), learning_rate=constant, solver=adam; total time=  13.5s\n",
      "[CV] END activation=relu, hidden_layer_sizes=(50, 50), learning_rate=constant, solver=adam; total time=   7.8s\n",
      "[CV] END activation=relu, hidden_layer_sizes=(50, 50), learning_rate=constant, solver=adam; total time=   7.4s\n",
      "[CV] END activation=relu, hidden_layer_sizes=(50, 50), learning_rate=constant, solver=adam; total time=   7.3s\n",
      "[CV] END activation=relu, hidden_layer_sizes=(50, 50), learning_rate=constant, solver=adam; total time=   7.5s\n",
      "[CV] END activation=relu, hidden_layer_sizes=(50, 50), learning_rate=constant, solver=sgd; total time=  12.7s\n",
      "[CV] END activation=relu, hidden_layer_sizes=(50, 50), learning_rate=constant, solver=sgd; total time=  10.4s\n",
      "[CV] END activation=relu, hidden_layer_sizes=(50, 50), learning_rate=constant, solver=sgd; total time=  17.6s\n",
      "[CV] END activation=relu, hidden_layer_sizes=(50, 50), learning_rate=constant, solver=sgd; total time=  27.1s\n",
      "[CV] END activation=relu, hidden_layer_sizes=(50, 50), learning_rate=constant, solver=sgd; total time=  22.5s\n",
      "[CV] END activation=relu, hidden_layer_sizes=(50, 50), learning_rate=adaptive, solver=adam; total time=  19.7s\n",
      "[CV] END activation=relu, hidden_layer_sizes=(50, 50), learning_rate=adaptive, solver=adam; total time=   9.9s\n",
      "[CV] END activation=relu, hidden_layer_sizes=(50, 50), learning_rate=adaptive, solver=adam; total time=   7.2s\n",
      "[CV] END activation=relu, hidden_layer_sizes=(50, 50), learning_rate=adaptive, solver=adam; total time=   8.1s\n",
      "[CV] END activation=relu, hidden_layer_sizes=(50, 50), learning_rate=adaptive, solver=adam; total time=   8.3s\n"
     ]
    },
    {
     "name": "stderr",
     "output_type": "stream",
     "text": [
      "/Users/filip/miniconda3/envs/dsml/lib/python3.11/site-packages/sklearn/neural_network/_multilayer_perceptron.py:684: ConvergenceWarning: Stochastic Optimizer: Maximum iterations (200) reached and the optimization hasn't converged yet.\n",
      "  warnings.warn(\n"
     ]
    },
    {
     "name": "stdout",
     "output_type": "stream",
     "text": [
      "[CV] END activation=relu, hidden_layer_sizes=(50, 50), learning_rate=adaptive, solver=sgd; total time=  32.4s\n"
     ]
    },
    {
     "name": "stderr",
     "output_type": "stream",
     "text": [
      "/Users/filip/miniconda3/envs/dsml/lib/python3.11/site-packages/sklearn/neural_network/_multilayer_perceptron.py:684: ConvergenceWarning: Stochastic Optimizer: Maximum iterations (200) reached and the optimization hasn't converged yet.\n",
      "  warnings.warn(\n"
     ]
    },
    {
     "name": "stdout",
     "output_type": "stream",
     "text": [
      "[CV] END activation=relu, hidden_layer_sizes=(50, 50), learning_rate=adaptive, solver=sgd; total time=  35.0s\n"
     ]
    },
    {
     "name": "stderr",
     "output_type": "stream",
     "text": [
      "/Users/filip/miniconda3/envs/dsml/lib/python3.11/site-packages/sklearn/neural_network/_multilayer_perceptron.py:684: ConvergenceWarning: Stochastic Optimizer: Maximum iterations (200) reached and the optimization hasn't converged yet.\n",
      "  warnings.warn(\n"
     ]
    },
    {
     "name": "stdout",
     "output_type": "stream",
     "text": [
      "[CV] END activation=relu, hidden_layer_sizes=(50, 50), learning_rate=adaptive, solver=sgd; total time=  30.7s\n"
     ]
    },
    {
     "name": "stderr",
     "output_type": "stream",
     "text": [
      "/Users/filip/miniconda3/envs/dsml/lib/python3.11/site-packages/sklearn/neural_network/_multilayer_perceptron.py:684: ConvergenceWarning: Stochastic Optimizer: Maximum iterations (200) reached and the optimization hasn't converged yet.\n",
      "  warnings.warn(\n"
     ]
    },
    {
     "name": "stdout",
     "output_type": "stream",
     "text": [
      "[CV] END activation=relu, hidden_layer_sizes=(50, 50), learning_rate=adaptive, solver=sgd; total time=  22.2s\n"
     ]
    },
    {
     "name": "stderr",
     "output_type": "stream",
     "text": [
      "/Users/filip/miniconda3/envs/dsml/lib/python3.11/site-packages/sklearn/neural_network/_multilayer_perceptron.py:684: ConvergenceWarning: Stochastic Optimizer: Maximum iterations (200) reached and the optimization hasn't converged yet.\n",
      "  warnings.warn(\n"
     ]
    },
    {
     "name": "stdout",
     "output_type": "stream",
     "text": [
      "[CV] END activation=relu, hidden_layer_sizes=(50, 50), learning_rate=adaptive, solver=sgd; total time=  28.0s\n",
      "[CV] END activation=relu, hidden_layer_sizes=(100, 50), learning_rate=constant, solver=adam; total time=  36.4s\n",
      "[CV] END activation=relu, hidden_layer_sizes=(100, 50), learning_rate=constant, solver=adam; total time=  51.3s\n"
     ]
    },
    {
     "name": "stderr",
     "output_type": "stream",
     "text": [
      "/Users/filip/miniconda3/envs/dsml/lib/python3.11/site-packages/sklearn/neural_network/_multilayer_perceptron.py:684: ConvergenceWarning: Stochastic Optimizer: Maximum iterations (200) reached and the optimization hasn't converged yet.\n",
      "  warnings.warn(\n"
     ]
    },
    {
     "name": "stdout",
     "output_type": "stream",
     "text": [
      "[CV] END activation=relu, hidden_layer_sizes=(100, 50), learning_rate=constant, solver=adam; total time=  47.2s\n",
      "[CV] END activation=relu, hidden_layer_sizes=(100, 50), learning_rate=constant, solver=adam; total time=  36.9s\n",
      "[CV] END activation=relu, hidden_layer_sizes=(100, 50), learning_rate=constant, solver=adam; total time=  42.5s\n",
      "[CV] END activation=relu, hidden_layer_sizes=(100, 50), learning_rate=constant, solver=sgd; total time=  22.9s\n",
      "[CV] END activation=relu, hidden_layer_sizes=(100, 50), learning_rate=constant, solver=sgd; total time=  44.8s\n",
      "[CV] END activation=relu, hidden_layer_sizes=(100, 50), learning_rate=constant, solver=sgd; total time=   5.0s\n",
      "[CV] END activation=relu, hidden_layer_sizes=(100, 50), learning_rate=constant, solver=sgd; total time=   8.4s\n",
      "[CV] END activation=relu, hidden_layer_sizes=(100, 50), learning_rate=constant, solver=sgd; total time=  11.8s\n",
      "[CV] END activation=relu, hidden_layer_sizes=(100, 50), learning_rate=adaptive, solver=adam; total time=  31.4s\n",
      "[CV] END activation=relu, hidden_layer_sizes=(100, 50), learning_rate=adaptive, solver=adam; total time=  49.4s\n"
     ]
    },
    {
     "name": "stderr",
     "output_type": "stream",
     "text": [
      "/Users/filip/miniconda3/envs/dsml/lib/python3.11/site-packages/sklearn/neural_network/_multilayer_perceptron.py:684: ConvergenceWarning: Stochastic Optimizer: Maximum iterations (200) reached and the optimization hasn't converged yet.\n",
      "  warnings.warn(\n"
     ]
    },
    {
     "name": "stdout",
     "output_type": "stream",
     "text": [
      "[CV] END activation=relu, hidden_layer_sizes=(100, 50), learning_rate=adaptive, solver=adam; total time=  53.8s\n",
      "[CV] END activation=relu, hidden_layer_sizes=(100, 50), learning_rate=adaptive, solver=adam; total time=  39.5s\n",
      "[CV] END activation=relu, hidden_layer_sizes=(100, 50), learning_rate=adaptive, solver=adam; total time=  44.3s\n",
      "[CV] END activation=relu, hidden_layer_sizes=(100, 50), learning_rate=adaptive, solver=sgd; total time=  35.0s\n"
     ]
    },
    {
     "name": "stderr",
     "output_type": "stream",
     "text": [
      "/Users/filip/miniconda3/envs/dsml/lib/python3.11/site-packages/sklearn/neural_network/_multilayer_perceptron.py:684: ConvergenceWarning: Stochastic Optimizer: Maximum iterations (200) reached and the optimization hasn't converged yet.\n",
      "  warnings.warn(\n"
     ]
    },
    {
     "name": "stdout",
     "output_type": "stream",
     "text": [
      "[CV] END activation=relu, hidden_layer_sizes=(100, 50), learning_rate=adaptive, solver=sgd; total time=  44.2s\n",
      "[CV] END activation=relu, hidden_layer_sizes=(100, 50), learning_rate=adaptive, solver=sgd; total time=  20.3s\n",
      "[CV] END activation=relu, hidden_layer_sizes=(100, 50), learning_rate=adaptive, solver=sgd; total time=  33.1s\n",
      "[CV] END activation=relu, hidden_layer_sizes=(100, 50), learning_rate=adaptive, solver=sgd; total time=  24.0s\n",
      "[CV] END activation=tanh, hidden_layer_sizes=(100,), learning_rate=constant, solver=adam; total time=  25.4s\n",
      "[CV] END activation=tanh, hidden_layer_sizes=(100,), learning_rate=constant, solver=adam; total time=  10.0s\n",
      "[CV] END activation=tanh, hidden_layer_sizes=(100,), learning_rate=constant, solver=adam; total time=  28.8s\n",
      "[CV] END activation=tanh, hidden_layer_sizes=(100,), learning_rate=constant, solver=adam; total time=  18.0s\n",
      "[CV] END activation=tanh, hidden_layer_sizes=(100,), learning_rate=constant, solver=adam; total time=  18.2s\n",
      "[CV] END activation=tanh, hidden_layer_sizes=(100,), learning_rate=constant, solver=sgd; total time=   7.0s\n",
      "[CV] END activation=tanh, hidden_layer_sizes=(100,), learning_rate=constant, solver=sgd; total time=   6.8s\n",
      "[CV] END activation=tanh, hidden_layer_sizes=(100,), learning_rate=constant, solver=sgd; total time=   5.1s\n",
      "[CV] END activation=tanh, hidden_layer_sizes=(100,), learning_rate=constant, solver=sgd; total time=   7.0s\n",
      "[CV] END activation=tanh, hidden_layer_sizes=(100,), learning_rate=constant, solver=sgd; total time=  12.3s\n",
      "[CV] END activation=tanh, hidden_layer_sizes=(100,), learning_rate=adaptive, solver=adam; total time=  25.6s\n",
      "[CV] END activation=tanh, hidden_layer_sizes=(100,), learning_rate=adaptive, solver=adam; total time=   9.7s\n",
      "[CV] END activation=tanh, hidden_layer_sizes=(100,), learning_rate=adaptive, solver=adam; total time=  28.5s\n",
      "[CV] END activation=tanh, hidden_layer_sizes=(100,), learning_rate=adaptive, solver=adam; total time=  17.3s\n",
      "[CV] END activation=tanh, hidden_layer_sizes=(100,), learning_rate=adaptive, solver=adam; total time=  24.7s\n"
     ]
    },
    {
     "name": "stderr",
     "output_type": "stream",
     "text": [
      "/Users/filip/miniconda3/envs/dsml/lib/python3.11/site-packages/sklearn/neural_network/_multilayer_perceptron.py:684: ConvergenceWarning: Stochastic Optimizer: Maximum iterations (200) reached and the optimization hasn't converged yet.\n",
      "  warnings.warn(\n"
     ]
    },
    {
     "name": "stdout",
     "output_type": "stream",
     "text": [
      "[CV] END activation=tanh, hidden_layer_sizes=(100,), learning_rate=adaptive, solver=sgd; total time=  28.7s\n"
     ]
    },
    {
     "name": "stderr",
     "output_type": "stream",
     "text": [
      "/Users/filip/miniconda3/envs/dsml/lib/python3.11/site-packages/sklearn/neural_network/_multilayer_perceptron.py:684: ConvergenceWarning: Stochastic Optimizer: Maximum iterations (200) reached and the optimization hasn't converged yet.\n",
      "  warnings.warn(\n"
     ]
    },
    {
     "name": "stdout",
     "output_type": "stream",
     "text": [
      "[CV] END activation=tanh, hidden_layer_sizes=(100,), learning_rate=adaptive, solver=sgd; total time=  29.4s\n",
      "[CV] END activation=tanh, hidden_layer_sizes=(100,), learning_rate=adaptive, solver=sgd; total time=  24.9s\n",
      "[CV] END activation=tanh, hidden_layer_sizes=(100,), learning_rate=adaptive, solver=sgd; total time=  26.8s\n"
     ]
    },
    {
     "name": "stderr",
     "output_type": "stream",
     "text": [
      "/Users/filip/miniconda3/envs/dsml/lib/python3.11/site-packages/sklearn/neural_network/_multilayer_perceptron.py:684: ConvergenceWarning: Stochastic Optimizer: Maximum iterations (200) reached and the optimization hasn't converged yet.\n",
      "  warnings.warn(\n"
     ]
    },
    {
     "name": "stdout",
     "output_type": "stream",
     "text": [
      "[CV] END activation=tanh, hidden_layer_sizes=(100,), learning_rate=adaptive, solver=sgd; total time=  27.0s\n",
      "[CV] END activation=tanh, hidden_layer_sizes=(50, 50), learning_rate=constant, solver=adam; total time=  30.2s\n"
     ]
    },
    {
     "name": "stderr",
     "output_type": "stream",
     "text": [
      "/Users/filip/miniconda3/envs/dsml/lib/python3.11/site-packages/sklearn/neural_network/_multilayer_perceptron.py:684: ConvergenceWarning: Stochastic Optimizer: Maximum iterations (200) reached and the optimization hasn't converged yet.\n",
      "  warnings.warn(\n"
     ]
    },
    {
     "name": "stdout",
     "output_type": "stream",
     "text": [
      "[CV] END activation=tanh, hidden_layer_sizes=(50, 50), learning_rate=constant, solver=adam; total time=  46.6s\n",
      "[CV] END activation=tanh, hidden_layer_sizes=(50, 50), learning_rate=constant, solver=adam; total time=  33.4s\n",
      "[CV] END activation=tanh, hidden_layer_sizes=(50, 50), learning_rate=constant, solver=adam; total time=  19.4s\n",
      "[CV] END activation=tanh, hidden_layer_sizes=(50, 50), learning_rate=constant, solver=adam; total time=  19.5s\n",
      "[CV] END activation=tanh, hidden_layer_sizes=(50, 50), learning_rate=constant, solver=sgd; total time=   5.1s\n",
      "[CV] END activation=tanh, hidden_layer_sizes=(50, 50), learning_rate=constant, solver=sgd; total time=   6.8s\n",
      "[CV] END activation=tanh, hidden_layer_sizes=(50, 50), learning_rate=constant, solver=sgd; total time=   3.9s\n",
      "[CV] END activation=tanh, hidden_layer_sizes=(50, 50), learning_rate=constant, solver=sgd; total time=   6.1s\n",
      "[CV] END activation=tanh, hidden_layer_sizes=(50, 50), learning_rate=constant, solver=sgd; total time=   3.3s\n",
      "[CV] END activation=tanh, hidden_layer_sizes=(50, 50), learning_rate=adaptive, solver=adam; total time=  28.5s\n"
     ]
    },
    {
     "name": "stderr",
     "output_type": "stream",
     "text": [
      "/Users/filip/miniconda3/envs/dsml/lib/python3.11/site-packages/sklearn/neural_network/_multilayer_perceptron.py:684: ConvergenceWarning: Stochastic Optimizer: Maximum iterations (200) reached and the optimization hasn't converged yet.\n",
      "  warnings.warn(\n"
     ]
    },
    {
     "name": "stdout",
     "output_type": "stream",
     "text": [
      "[CV] END activation=tanh, hidden_layer_sizes=(50, 50), learning_rate=adaptive, solver=adam; total time=  38.0s\n",
      "[CV] END activation=tanh, hidden_layer_sizes=(50, 50), learning_rate=adaptive, solver=adam; total time=  28.8s\n",
      "[CV] END activation=tanh, hidden_layer_sizes=(50, 50), learning_rate=adaptive, solver=adam; total time=  22.7s\n",
      "[CV] END activation=tanh, hidden_layer_sizes=(50, 50), learning_rate=adaptive, solver=adam; total time=  21.3s\n",
      "[CV] END activation=tanh, hidden_layer_sizes=(50, 50), learning_rate=adaptive, solver=sgd; total time=  23.9s\n",
      "[CV] END activation=tanh, hidden_layer_sizes=(50, 50), learning_rate=adaptive, solver=sgd; total time=  16.1s\n",
      "[CV] END activation=tanh, hidden_layer_sizes=(50, 50), learning_rate=adaptive, solver=sgd; total time=  14.1s\n",
      "[CV] END activation=tanh, hidden_layer_sizes=(50, 50), learning_rate=adaptive, solver=sgd; total time=  16.1s\n",
      "[CV] END activation=tanh, hidden_layer_sizes=(50, 50), learning_rate=adaptive, solver=sgd; total time=  13.1s\n",
      "[CV] END activation=tanh, hidden_layer_sizes=(100, 50), learning_rate=constant, solver=adam; total time=  22.1s\n",
      "[CV] END activation=tanh, hidden_layer_sizes=(100, 50), learning_rate=constant, solver=adam; total time=  44.5s\n",
      "[CV] END activation=tanh, hidden_layer_sizes=(100, 50), learning_rate=constant, solver=adam; total time=  42.3s\n",
      "[CV] END activation=tanh, hidden_layer_sizes=(100, 50), learning_rate=constant, solver=adam; total time=  47.6s\n",
      "[CV] END activation=tanh, hidden_layer_sizes=(100, 50), learning_rate=constant, solver=adam; total time=  31.4s\n",
      "[CV] END activation=tanh, hidden_layer_sizes=(100, 50), learning_rate=constant, solver=sgd; total time=   5.4s\n",
      "[CV] END activation=tanh, hidden_layer_sizes=(100, 50), learning_rate=constant, solver=sgd; total time=   9.8s\n",
      "[CV] END activation=tanh, hidden_layer_sizes=(100, 50), learning_rate=constant, solver=sgd; total time=  10.6s\n",
      "[CV] END activation=tanh, hidden_layer_sizes=(100, 50), learning_rate=constant, solver=sgd; total time=   5.3s\n",
      "[CV] END activation=tanh, hidden_layer_sizes=(100, 50), learning_rate=constant, solver=sgd; total time=   9.8s\n",
      "[CV] END activation=tanh, hidden_layer_sizes=(100, 50), learning_rate=adaptive, solver=adam; total time=  21.3s\n",
      "[CV] END activation=tanh, hidden_layer_sizes=(100, 50), learning_rate=adaptive, solver=adam; total time=  41.5s\n",
      "[CV] END activation=tanh, hidden_layer_sizes=(100, 50), learning_rate=adaptive, solver=adam; total time=  45.2s\n",
      "[CV] END activation=tanh, hidden_layer_sizes=(100, 50), learning_rate=adaptive, solver=adam; total time=  48.5s\n",
      "[CV] END activation=tanh, hidden_layer_sizes=(100, 50), learning_rate=adaptive, solver=adam; total time=  30.3s\n",
      "[CV] END activation=tanh, hidden_layer_sizes=(100, 50), learning_rate=adaptive, solver=sgd; total time= 1.2min\n",
      "[CV] END activation=tanh, hidden_layer_sizes=(100, 50), learning_rate=adaptive, solver=sgd; total time=  53.4s\n"
     ]
    },
    {
     "name": "stderr",
     "output_type": "stream",
     "text": [
      "/Users/filip/miniconda3/envs/dsml/lib/python3.11/site-packages/sklearn/neural_network/_multilayer_perceptron.py:684: ConvergenceWarning: Stochastic Optimizer: Maximum iterations (200) reached and the optimization hasn't converged yet.\n",
      "  warnings.warn(\n"
     ]
    },
    {
     "name": "stdout",
     "output_type": "stream",
     "text": [
      "[CV] END activation=tanh, hidden_layer_sizes=(100, 50), learning_rate=adaptive, solver=sgd; total time=  50.4s\n",
      "[CV] END activation=tanh, hidden_layer_sizes=(100, 50), learning_rate=adaptive, solver=sgd; total time=  41.4s\n"
     ]
    },
    {
     "name": "stderr",
     "output_type": "stream",
     "text": [
      "/Users/filip/miniconda3/envs/dsml/lib/python3.11/site-packages/sklearn/neural_network/_multilayer_perceptron.py:684: ConvergenceWarning: Stochastic Optimizer: Maximum iterations (200) reached and the optimization hasn't converged yet.\n",
      "  warnings.warn(\n"
     ]
    },
    {
     "name": "stdout",
     "output_type": "stream",
     "text": [
      "[CV] END activation=tanh, hidden_layer_sizes=(100, 50), learning_rate=adaptive, solver=sgd; total time=  57.0s\n"
     ]
    }
   ],
   "source": [
    "# Neural Networks\n",
    "param_grid_nn = {\n",
    "    'hidden_layer_sizes': [(100,), (50, 50), (100, 50)],\n",
    "    'activation': ['relu', 'tanh'],\n",
    "    'solver': ['adam', 'sgd'],\n",
    "    'learning_rate': ['constant', 'adaptive']\n",
    "}\n",
    "\n",
    "nn = MLPClassifier(random_state=42)\n",
    "grid_search_nn = GridSearchCV(estimator=nn, param_grid=param_grid_nn, cv=5, verbose=2, scoring='accuracy')\n",
    "grid_search_nn.fit(X_train, y_train)\n",
    "\n",
    "print('Neural Networks - Best Score:', grid_search_nn.best_score_)\n",
    "print('Neural Networks - Best Parameters:', grid_search_nn.best_params_)\n",
    "print('Neural Networks - Best Model:', grid_search_nn.best_estimator_)\n",
    "print()"
   ]
  },
  {
   "cell_type": "code",
   "execution_count": null,
   "metadata": {},
   "outputs": [],
   "source": [
    "# Best performing model\n",
    "# nn = MLPClassifier(hidden_layer_sizes=, activation=, solver=, learning_rate=, random_state=42)"
   ]
  },
  {
   "attachments": {},
   "cell_type": "markdown",
   "metadata": {},
   "source": [
    "### Weighted Vote of the best found models"
   ]
  },
  {
   "cell_type": "code",
   "execution_count": null,
   "metadata": {},
   "outputs": [],
   "source": [
    "# vc = VotingClassifier([MODELS], voting = 'soft', weights = [0.85, 1, 0.85, 0.75])\n",
    "# vc = VotingClassifier([('rf', rf), ('xgb', xgb),('cat', cat), ('bag', bag)], voting = 'soft', weights = [0.861, 0.78, 0.706, 0.751])\n",
    "\n",
    "#fit and predict\n",
    "vc.fit(X_train , y_train)\n",
    "pred= vc .predict(X_test)\n",
    "pred_train = vc .predict(X_train)\n",
    "\n",
    "\n",
    "#print best model scores on test data\n",
    "print(\"Accuracy score train: {}\".format(accuracy_score(y_train ,pred_train)))\n",
    "print(\"Accuracy score test: {}\".format(accuracy_score(y_test, pred)))\n",
    "\n",
    "#print(confusion_matrix(y_test, y_pred))\n",
    "print(classification_report(y_test, pred))\n",
    "\n",
    "#heatmap\n",
    "fig, ax = plt.subplots(figsize=(8,5)) \n",
    "data = confusion_matrix(y_test, pred)\n",
    "df_cm = pd.DataFrame(data, columns=np.unique(y_test), index = np.unique(y_test))\n",
    "ax = sns.heatmap(df_cm, cmap='Blues', fmt='g' ,annot=True,annot_kws={\"size\": 14})\n",
    "ax.set_xlabel(\"Predicted\")\n",
    "ax.set_ylabel (\"Actual\")\n",
    "ax.set_xticklabels(ax.get_xticklabels(), rotation=45)\n",
    "ax.set_yticklabels(ax.get_xticklabels(), rotation=0)\n",
    "plt.show()"
   ]
  },
  {
   "attachments": {},
   "cell_type": "markdown",
   "metadata": {},
   "source": [
    "# Answering Research Questions"
   ]
  },
  {
   "attachments": {},
   "cell_type": "markdown",
   "metadata": {},
   "source": [
    "### 1. What are the main factors associated with pump failure or malfunction, and how do these vary across different regions of Tanzania?"
   ]
  },
  {
   "cell_type": "code",
   "execution_count": null,
   "metadata": {},
   "outputs": [],
   "source": []
  },
  {
   "attachments": {},
   "cell_type": "markdown",
   "metadata": {},
   "source": [
    "### 2. Which operators and/or management groups have the highest success rates in maintaining water pumps, and how do these rates vary based on factors which may make pump maintenance easier, such as water cost, pump type, or location remoteness?"
   ]
  },
  {
   "attachments": {},
   "cell_type": "markdown",
   "metadata": {},
   "source": [
    "### 3. What are the interactions between different features, such as water quantity and pump type, which could provide insights into the underlying causes of pump failure?"
   ]
  },
  {
   "attachments": {},
   "cell_type": "markdown",
   "metadata": {},
   "source": [
    "### 4. How does the age of a water pump relate to its functionality, and is there a point at which pumps become significantly more likely to break down or require replacement?"
   ]
  },
  {
   "attachments": {},
   "cell_type": "markdown",
   "metadata": {},
   "source": [
    "### 5. What is the most reliable machine learning method for pump failure prediction?"
   ]
  }
 ],
 "metadata": {
  "kernelspec": {
   "display_name": "base",
   "language": "python",
   "name": "python3"
  },
  "language_info": {
   "codemirror_mode": {
    "name": "ipython",
    "version": 3
   },
   "file_extension": ".py",
   "mimetype": "text/x-python",
   "name": "python",
   "nbconvert_exporter": "python",
   "pygments_lexer": "ipython3",
   "version": "3.11.0"
  },
  "orig_nbformat": 4
 },
 "nbformat": 4,
 "nbformat_minor": 2
}
