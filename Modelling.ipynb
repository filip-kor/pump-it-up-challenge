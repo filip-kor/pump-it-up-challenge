{
 "cells": [
  {
   "attachments": {},
   "cell_type": "markdown",
   "metadata": {},
   "source": [
    "# Modelling"
   ]
  },
  {
   "cell_type": "code",
   "execution_count": 26,
   "metadata": {},
   "outputs": [],
   "source": [
    "from xgboost import XGBClassifier\n",
    "import pandas as pd\n",
    "import numpy as np\n",
    "import matplotlib.pyplot as plt\n",
    "%matplotlib inline\n",
    "import seaborn as sns\n",
    "\n",
    "from sklearn.model_selection import train_test_split\n",
    "from sklearn.metrics import confusion_matrix, classification_report, accuracy_score, precision_score, recall_score, f1_score\n",
    "\n",
    "#machine learning\n",
    "from xgboost import XGBClassifier\n",
    "from sklearn.ensemble import BaggingClassifier\n",
    "from sklearn.ensemble import RandomForestClassifier\n",
    "from sklearn.ensemble import VotingClassifier\n",
    "from catboost import CatBoostClassifier\n",
    "from sklearn.preprocessing import LabelEncoder"
   ]
  },
  {
   "cell_type": "code",
   "execution_count": 27,
   "metadata": {},
   "outputs": [
    {
     "name": "stderr",
     "output_type": "stream",
     "text": [
      "C:\\Users\\adamw\\AppData\\Local\\Temp\\ipykernel_5420\\187807539.py:1: DtypeWarning: Columns (2) have mixed types. Specify dtype option on import or set low_memory=False.\n",
      "  train_set = pd.read_csv(\"preselection_df.csv\")\n"
     ]
    }
   ],
   "source": [
    "train_set = pd.read_csv(\"preselection_df.csv\")\n",
    "train_set = train_set.drop('Unnamed: 0', axis=1)"
   ]
  },
  {
   "attachments": {},
   "cell_type": "markdown",
   "metadata": {},
   "source": [
    "### Train/Test Split"
   ]
  },
  {
   "cell_type": "code",
   "execution_count": 28,
   "metadata": {},
   "outputs": [],
   "source": [
    "train_set = train_set[train_set['status_group'].notna()]\n",
    "test_set = train_set[train_set['status_group'].isna()]\n",
    "\n",
    "###define X and y for training the model\n",
    "X= train_set.drop(['id', 'status_group'], axis=1)\n",
    "y = train_set['status_group']\n",
    "\n",
    "encoder = LabelEncoder()\n",
    "y = encoder.fit_transform(y)\n",
    "X_train, X_test, y_train, y_test= train_test_split(X, y, test_size = 0.2, random_state=42 , stratify=y)"
   ]
  },
  {
   "attachments": {},
   "cell_type": "markdown",
   "metadata": {},
   "source": [
    "### AdaBoost Ensemble"
   ]
  },
  {
   "cell_type": "code",
   "execution_count": 29,
   "metadata": {},
   "outputs": [
    {
     "name": "stdout",
     "output_type": "stream",
     "text": [
      "Model 1 accuracy: 0.8137205387205387\n",
      "Model 2 accuracy: 0.8137205387205387\n",
      "Model 3 accuracy: 0.8137205387205387\n",
      "Model 4 accuracy: 0.8137205387205387\n",
      "Model 5 accuracy: 0.8137205387205387\n",
      "0        0.0\n",
      "1        2.0\n",
      "2        0.0\n",
      "3        2.0\n",
      "4        2.0\n",
      "        ... \n",
      "11875    2.0\n",
      "11876    0.0\n",
      "11877    0.0\n",
      "11878    0.0\n",
      "11879    2.0\n",
      "Length: 11880, dtype: float64\n"
     ]
    }
   ],
   "source": [
    "num_models = 5\n",
    "\n",
    "# Step 4: Train the models\n",
    "models = []\n",
    "for i in range(num_models):\n",
    "    model = XGBClassifier(max_depth =12, n_estimators= 200, colsample_bytree = 0.3, eta = 0.2, random_state = 42)  # Set desired hyperparameters\n",
    "    model.fit(X_train, y_train)\n",
    "    models.append(model)\n",
    "\n",
    "# Step 5: Evaluate the models\n",
    "for i, model in enumerate(models):\n",
    "    y_pred = model.predict(X_test)\n",
    "    accuracy = accuracy_score(y_test, y_pred)\n",
    "    print(f\"Model {i+1} accuracy: {accuracy}\")\n",
    "\n",
    "# Step 6: Combine predictions from the ensemble\n",
    "ensemble_predictions = []\n",
    "for model in models:\n",
    "    y_pred = model.predict(X_test)\n",
    "    ensemble_predictions.append(y_pred)\n",
    "\n",
    "# Perform an ensemble operation (e.g., averaging the predictions)\n",
    "final_predictions = pd.DataFrame(ensemble_predictions).mean(axis=0)\n",
    "\n",
    "# Print the final predictions\n",
    "print(final_predictions)"
   ]
  }
 ],
 "metadata": {
  "kernelspec": {
   "display_name": "base",
   "language": "python",
   "name": "python3"
  },
  "language_info": {
   "codemirror_mode": {
    "name": "ipython",
    "version": 3
   },
   "file_extension": ".py",
   "mimetype": "text/x-python",
   "name": "python",
   "nbconvert_exporter": "python",
   "pygments_lexer": "ipython3",
   "version": "3.9.13"
  },
  "orig_nbformat": 4
 },
 "nbformat": 4,
 "nbformat_minor": 2
}
