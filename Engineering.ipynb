{
 "cells": [
  {
   "attachments": {},
   "cell_type": "markdown",
   "metadata": {},
   "source": [
    "### amount_tsh missing\n",
    "Use a binary feature for whether amount_tsh is missing - this is a decent predictor of water pump status\n"
   ]
  },
  {
   "cell_type": "code",
   "execution_count": null,
   "metadata": {},
   "outputs": [],
   "source": [
    "train_df['amount_tsh_missing'] = np.where( train_df['amount_tsh'].isna(), 1, 0)"
   ]
  },
  {
   "attachments": {},
   "cell_type": "markdown",
   "metadata": {},
   "source": [
    "### Recorded Season\n",
    "The month in which the water pump's functionality is recorded may be important due to wet/dry seasons in Tanzania. Due to the poor distribution of recorded months, we group months into different season bins."
   ]
  },
  {
   "cell_type": "code",
   "execution_count": null,
   "metadata": {},
   "outputs": [],
   "source": [
    "train_df['month'] = pd.DatetimeIndex(train_df['date_recorded']).month\n",
    "\n",
    "# season encoder\n",
    "season_mapper = {1: 'short dry',2:'short dry', 3: 'long rain', 4: 'long rain', 5: 'long rain',6: 'long dry', \n",
    "                 7: 'long dry', 8: 'long dry', 9: 'long dry', 10: 'long dry', 11:'short rain', 12:'short rain'}\n",
    "#.p feature values to scale\n",
    "train_df['season'] = train_df['month'].replace(season_mapper)\n",
    "train_df = train_df.drop('month', axis=1)"
   ]
  },
  {
   "attachments": {},
   "cell_type": "markdown",
   "metadata": {},
   "source": [
    "### Combine rare features in `source`"
   ]
  },
  {
   "cell_type": "code",
   "execution_count": null,
   "metadata": {},
   "outputs": [],
   "source": [
    "#keep source, but the rare classes will be put together\n",
    "other = ['other',  'unknown']\n",
    "train_df['source'] = np.where(train_df['source']=='unknown', 'other', train_df['source'])"
   ]
  }
 ],
 "metadata": {
  "language_info": {
   "name": "python"
  },
  "orig_nbformat": 4
 },
 "nbformat": 4,
 "nbformat_minor": 2
}
